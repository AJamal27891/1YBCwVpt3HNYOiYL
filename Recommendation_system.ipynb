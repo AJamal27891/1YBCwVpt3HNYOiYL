{
  "nbformat": 4,
  "nbformat_minor": 0,
  "metadata": {
    "colab": {
      "name": "Recommendation_system.ipynb",
      "provenance": [],
      "machine_shape": "hm",
      "authorship_tag": "ABX9TyM/+8yPZC2b6q+aHd7s1vtz",
      "include_colab_link": true
    },
    "kernelspec": {
      "display_name": "Python 3",
      "name": "python3"
    },
    "language_info": {
      "name": "python"
    }
  },
  "cells": [
    {
      "cell_type": "markdown",
      "metadata": {
        "id": "view-in-github",
        "colab_type": "text"
      },
      "source": [
        "<a href=\"https://colab.research.google.com/github/AJamal27891/1YBCwVpt3HNYOiYL/blob/main/Recommendation_system.ipynb\" target=\"_parent\"><img src=\"https://colab.research.google.com/assets/colab-badge.svg\" alt=\"Open In Colab\"/></a>"
      ]
    },
    {
      "cell_type": "code",
      "metadata": {
        "colab": {
          "base_uri": "https://localhost:8080/"
        },
        "id": "Y2wxzAH9h95l",
        "outputId": "9b1fd349-cb03-4c4f-971d-b82f26f0418d"
      },
      "source": [
        "from google.colab import drive\n",
        "drive.mount('/content/drive')"
      ],
      "execution_count": 1,
      "outputs": [
        {
          "output_type": "stream",
          "text": [
            "Drive already mounted at /content/drive; to attempt to forcibly remount, call drive.mount(\"/content/drive\", force_remount=True).\n"
          ],
          "name": "stdout"
        }
      ]
    },
    {
      "cell_type": "code",
      "metadata": {
        "colab": {
          "base_uri": "https://localhost:8080/"
        },
        "id": "fDW4ixRFhsPP",
        "outputId": "5b583188-7740-440f-9524-e1b977ebd81c"
      },
      "source": [
        "!unzip /content/drive/MyDrive/data.zip "
      ],
      "execution_count": 2,
      "outputs": [
        {
          "output_type": "stream",
          "text": [
            "Archive:  /content/drive/MyDrive/data.zip\n",
            "replace data/.DS_Store? [y]es, [n]o, [A]ll, [N]one, [r]ename: y\n",
            "  inflating: data/.DS_Store          \n",
            "replace __MACOSX/data/._.DS_Store? [y]es, [n]o, [A]ll, [N]one, [r]ename: A\n",
            "  inflating: __MACOSX/data/._.DS_Store  \n",
            "  inflating: data/events.json        \n",
            "  inflating: __MACOSX/data/._events.json  \n",
            "  inflating: data/meta.json          \n",
            "  inflating: __MACOSX/data/._meta.json  \n"
          ],
          "name": "stdout"
        }
      ]
    },
    {
      "cell_type": "code",
      "metadata": {
        "id": "ZEci5r4ViRk4"
      },
      "source": [
        "import pandas as pd \n",
        "events = pd.read_json(r'/content/data/events.json')"
      ],
      "execution_count": 3,
      "outputs": []
    },
    {
      "cell_type": "code",
      "metadata": {
        "id": "Y-5LDcf4isoi"
      },
      "source": [
        "events.events.to_json(r'events.json')"
      ],
      "execution_count": 4,
      "outputs": []
    },
    {
      "cell_type": "code",
      "metadata": {
        "id": "S_Fad8AvjZVc"
      },
      "source": [
        "events = pd.read_json(r'events.json')"
      ],
      "execution_count": 5,
      "outputs": []
    },
    {
      "cell_type": "code",
      "metadata": {
        "id": "Ku5oRdFtjiJn"
      },
      "source": [
        "events= events.T"
      ],
      "execution_count": 6,
      "outputs": []
    },
    {
      "cell_type": "code",
      "metadata": {
        "colab": {
          "base_uri": "https://localhost:8080/",
          "height": 424
        },
        "id": "Z73JF1jYkDvH",
        "outputId": "cb25380c-de0a-44c7-e066-9d7128f9d73e"
      },
      "source": [
        "events"
      ],
      "execution_count": 7,
      "outputs": [
        {
          "output_type": "execute_result",
          "data": {
            "text/html": [
              "<div>\n",
              "<style scoped>\n",
              "    .dataframe tbody tr th:only-of-type {\n",
              "        vertical-align: middle;\n",
              "    }\n",
              "\n",
              "    .dataframe tbody tr th {\n",
              "        vertical-align: top;\n",
              "    }\n",
              "\n",
              "    .dataframe thead th {\n",
              "        text-align: right;\n",
              "    }\n",
              "</style>\n",
              "<table border=\"1\" class=\"dataframe\">\n",
              "  <thead>\n",
              "    <tr style=\"text-align: right;\">\n",
              "      <th></th>\n",
              "      <th>event</th>\n",
              "      <th>sessionid</th>\n",
              "      <th>eventtime</th>\n",
              "      <th>price</th>\n",
              "      <th>productid</th>\n",
              "    </tr>\n",
              "  </thead>\n",
              "  <tbody>\n",
              "    <tr>\n",
              "      <th>0</th>\n",
              "      <td>cart</td>\n",
              "      <td>a0655eee-1267-4820-af21-ad8ac068ff7a</td>\n",
              "      <td>2020-06-01T08:59:16.406Z</td>\n",
              "      <td>14.48</td>\n",
              "      <td>HBV00000NVZE8</td>\n",
              "    </tr>\n",
              "    <tr>\n",
              "      <th>1</th>\n",
              "      <td>cart</td>\n",
              "      <td>d2ea7bd3-9235-4a9f-a9ea-d7f296e71318</td>\n",
              "      <td>2020-06-01T08:59:46.580Z</td>\n",
              "      <td>49.90</td>\n",
              "      <td>HBV00000U2B18</td>\n",
              "    </tr>\n",
              "    <tr>\n",
              "      <th>2</th>\n",
              "      <td>cart</td>\n",
              "      <td>5e594788-78a0-44dd-8e66-37022d48f691</td>\n",
              "      <td>2020-06-01T08:59:33.308Z</td>\n",
              "      <td>1.99</td>\n",
              "      <td>OFIS3101-080</td>\n",
              "    </tr>\n",
              "    <tr>\n",
              "      <th>3</th>\n",
              "      <td>cart</td>\n",
              "      <td>fdfeb652-22fa-4153-b9b5-4dfa0dcaffdf</td>\n",
              "      <td>2020-06-01T08:59:31.911Z</td>\n",
              "      <td>2.25</td>\n",
              "      <td>HBV00000NVZBW</td>\n",
              "    </tr>\n",
              "    <tr>\n",
              "      <th>4</th>\n",
              "      <td>cart</td>\n",
              "      <td>9e9d4f7e-898c-40fb-aae9-256c40779933</td>\n",
              "      <td>2020-06-01T08:59:33.888Z</td>\n",
              "      <td>9.95</td>\n",
              "      <td>HBV00000NE0T4</td>\n",
              "    </tr>\n",
              "    <tr>\n",
              "      <th>...</th>\n",
              "      <td>...</td>\n",
              "      <td>...</td>\n",
              "      <td>...</td>\n",
              "      <td>...</td>\n",
              "      <td>...</td>\n",
              "    </tr>\n",
              "    <tr>\n",
              "      <th>387651</th>\n",
              "      <td>cart</td>\n",
              "      <td>0ce386d3-f9ae-46b1-a018-baa5ea91be0c</td>\n",
              "      <td>2020-06-15T03:55:05.322Z</td>\n",
              "      <td>19.90</td>\n",
              "      <td>HBV00000OE884</td>\n",
              "    </tr>\n",
              "    <tr>\n",
              "      <th>387652</th>\n",
              "      <td>cart</td>\n",
              "      <td>69be07e4-737d-4935-b2eb-e02ecd94986b</td>\n",
              "      <td>2020-06-15T03:56:50.064Z</td>\n",
              "      <td>9.95</td>\n",
              "      <td>HBV00000OE8AU</td>\n",
              "    </tr>\n",
              "    <tr>\n",
              "      <th>387653</th>\n",
              "      <td>cart</td>\n",
              "      <td>25f6960c-0144-419d-8761-2b539c75c9c9</td>\n",
              "      <td>2020-06-15T03:03:23.859Z</td>\n",
              "      <td>21.95</td>\n",
              "      <td>HBV00000PQM1C</td>\n",
              "    </tr>\n",
              "    <tr>\n",
              "      <th>387654</th>\n",
              "      <td>cart</td>\n",
              "      <td>eebd42a5-2d95-41b9-bc10-83db56ba3989</td>\n",
              "      <td>2020-06-15T03:29:54.865Z</td>\n",
              "      <td>17.50</td>\n",
              "      <td>HBV00000NFHXT</td>\n",
              "    </tr>\n",
              "    <tr>\n",
              "      <th>387655</th>\n",
              "      <td>cart</td>\n",
              "      <td>69be07e4-737d-4935-b2eb-e02ecd94986b</td>\n",
              "      <td>2020-06-15T03:55:04.997Z</td>\n",
              "      <td>27.99</td>\n",
              "      <td>HBV00000O2S4F</td>\n",
              "    </tr>\n",
              "  </tbody>\n",
              "</table>\n",
              "<p>387656 rows × 5 columns</p>\n",
              "</div>"
            ],
            "text/plain": [
              "       event                             sessionid  ...  price      productid\n",
              "0       cart  a0655eee-1267-4820-af21-ad8ac068ff7a  ...  14.48  HBV00000NVZE8\n",
              "1       cart  d2ea7bd3-9235-4a9f-a9ea-d7f296e71318  ...  49.90  HBV00000U2B18\n",
              "2       cart  5e594788-78a0-44dd-8e66-37022d48f691  ...   1.99   OFIS3101-080\n",
              "3       cart  fdfeb652-22fa-4153-b9b5-4dfa0dcaffdf  ...   2.25  HBV00000NVZBW\n",
              "4       cart  9e9d4f7e-898c-40fb-aae9-256c40779933  ...   9.95  HBV00000NE0T4\n",
              "...      ...                                   ...  ...    ...            ...\n",
              "387651  cart  0ce386d3-f9ae-46b1-a018-baa5ea91be0c  ...  19.90  HBV00000OE884\n",
              "387652  cart  69be07e4-737d-4935-b2eb-e02ecd94986b  ...   9.95  HBV00000OE8AU\n",
              "387653  cart  25f6960c-0144-419d-8761-2b539c75c9c9  ...  21.95  HBV00000PQM1C\n",
              "387654  cart  eebd42a5-2d95-41b9-bc10-83db56ba3989  ...  17.50  HBV00000NFHXT\n",
              "387655  cart  69be07e4-737d-4935-b2eb-e02ecd94986b  ...  27.99  HBV00000O2S4F\n",
              "\n",
              "[387656 rows x 5 columns]"
            ]
          },
          "metadata": {
            "tags": []
          },
          "execution_count": 7
        }
      ]
    },
    {
      "cell_type": "code",
      "metadata": {
        "id": "eVb6yoQikNIa"
      },
      "source": [
        "meta = pd.read_json(r'/content/data/meta.json')"
      ],
      "execution_count": 8,
      "outputs": []
    },
    {
      "cell_type": "code",
      "metadata": {
        "colab": {
          "base_uri": "https://localhost:8080/",
          "height": 424
        },
        "id": "YXjpzb1vlAOV",
        "outputId": "b90e3e7f-a574-498c-d34d-4601f7b0c9f8"
      },
      "source": [
        "meta.meta.to_json(r'meta.json')\n",
        "meta = pd.read_json(r'meta.json').T\n",
        "meta"
      ],
      "execution_count": 9,
      "outputs": [
        {
          "output_type": "execute_result",
          "data": {
            "text/html": [
              "<div>\n",
              "<style scoped>\n",
              "    .dataframe tbody tr th:only-of-type {\n",
              "        vertical-align: middle;\n",
              "    }\n",
              "\n",
              "    .dataframe tbody tr th {\n",
              "        vertical-align: top;\n",
              "    }\n",
              "\n",
              "    .dataframe thead th {\n",
              "        text-align: right;\n",
              "    }\n",
              "</style>\n",
              "<table border=\"1\" class=\"dataframe\">\n",
              "  <thead>\n",
              "    <tr style=\"text-align: right;\">\n",
              "      <th></th>\n",
              "      <th>productid</th>\n",
              "      <th>brand</th>\n",
              "      <th>category</th>\n",
              "      <th>subcategory</th>\n",
              "      <th>name</th>\n",
              "    </tr>\n",
              "  </thead>\n",
              "  <tbody>\n",
              "    <tr>\n",
              "      <th>0</th>\n",
              "      <td>HBV00000AX6LR</td>\n",
              "      <td>Palette</td>\n",
              "      <td>Kişisel Bakım</td>\n",
              "      <td>Saç Bakımı</td>\n",
              "      <td>Palette Kalıcı Doğal Renkler 10-4 PAPATYA</td>\n",
              "    </tr>\n",
              "    <tr>\n",
              "      <th>1</th>\n",
              "      <td>HBV00000BSAQG</td>\n",
              "      <td>Best</td>\n",
              "      <td>Pet Shop</td>\n",
              "      <td>Kedi</td>\n",
              "      <td>Best Pet Jöle İçinde Parça Etli Somonlu Konser...</td>\n",
              "    </tr>\n",
              "    <tr>\n",
              "      <th>2</th>\n",
              "      <td>HBV00000JUHBA</td>\n",
              "      <td>Tarım Kredi</td>\n",
              "      <td>Temel Gıda</td>\n",
              "      <td>Bakliyat, Pirinç, Makarna</td>\n",
              "      <td>Türkiye Tarım Kredi Koop.Yeşil Mercimek 1 kg</td>\n",
              "    </tr>\n",
              "    <tr>\n",
              "      <th>3</th>\n",
              "      <td>HBV00000NE0QI</td>\n",
              "      <td>Namet</td>\n",
              "      <td>Et, Balık, Şarküteri</td>\n",
              "      <td>Şarküteri</td>\n",
              "      <td>Namet Fıstıklı Macar Salam 100 gr</td>\n",
              "    </tr>\n",
              "    <tr>\n",
              "      <th>4</th>\n",
              "      <td>HBV00000NE0UQ</td>\n",
              "      <td>Muratbey</td>\n",
              "      <td>Kahvaltılık ve Süt</td>\n",
              "      <td>Peynir</td>\n",
              "      <td>Muratbey Burgu Peyniri 250 gr</td>\n",
              "    </tr>\n",
              "    <tr>\n",
              "      <th>...</th>\n",
              "      <td>...</td>\n",
              "      <td>...</td>\n",
              "      <td>...</td>\n",
              "      <td>...</td>\n",
              "      <td>...</td>\n",
              "    </tr>\n",
              "    <tr>\n",
              "      <th>10231</th>\n",
              "      <td>ZYHPREISBBKL008</td>\n",
              "      <td>Reis</td>\n",
              "      <td>Temel Gıda</td>\n",
              "      <td>Bakliyat, Pirinç, Makarna</td>\n",
              "      <td>Reis Gönen Baldo Pirinç 1 kg</td>\n",
              "    </tr>\n",
              "    <tr>\n",
              "      <th>10232</th>\n",
              "      <td>ZYNES11470137</td>\n",
              "      <td>Nescafe</td>\n",
              "      <td>İçecekler</td>\n",
              "      <td>Kahve</td>\n",
              "      <td>Nescafé Classic Çözünebilir Kahve 200gr Ekopaket</td>\n",
              "    </tr>\n",
              "    <tr>\n",
              "      <th>10233</th>\n",
              "      <td>ZYPAREX1909309</td>\n",
              "      <td>Parex</td>\n",
              "      <td>Ev Bakım ve Temizlik</td>\n",
              "      <td>Ev Temizlik Ürünleri</td>\n",
              "      <td>Parex Powerball Çizmez Ovma Teli</td>\n",
              "    </tr>\n",
              "    <tr>\n",
              "      <th>10234</th>\n",
              "      <td>ZYPAREX2107986</td>\n",
              "      <td>Parex</td>\n",
              "      <td>Ev Bakım ve Temizlik</td>\n",
              "      <td>Yüzey Temizleyiciler</td>\n",
              "      <td>Parex Tornado Döner Başlıklı Temizlik Seti</td>\n",
              "    </tr>\n",
              "    <tr>\n",
              "      <th>10235</th>\n",
              "      <td>ZYPYON6690</td>\n",
              "      <td>Febreze</td>\n",
              "      <td>Ev Bakım ve Temizlik</td>\n",
              "      <td>Oda Kokusu ve Koku Gidericiler</td>\n",
              "      <td>Febreze Kumaş ve Çamaşır Ferahlatıcı Sprey 500...</td>\n",
              "    </tr>\n",
              "  </tbody>\n",
              "</table>\n",
              "<p>10236 rows × 5 columns</p>\n",
              "</div>"
            ],
            "text/plain": [
              "             productid  ...                                               name\n",
              "0        HBV00000AX6LR  ...          Palette Kalıcı Doğal Renkler 10-4 PAPATYA\n",
              "1        HBV00000BSAQG  ...  Best Pet Jöle İçinde Parça Etli Somonlu Konser...\n",
              "2        HBV00000JUHBA  ...       Türkiye Tarım Kredi Koop.Yeşil Mercimek 1 kg\n",
              "3        HBV00000NE0QI  ...                  Namet Fıstıklı Macar Salam 100 gr\n",
              "4        HBV00000NE0UQ  ...                      Muratbey Burgu Peyniri 250 gr\n",
              "...                ...  ...                                                ...\n",
              "10231  ZYHPREISBBKL008  ...                       Reis Gönen Baldo Pirinç 1 kg\n",
              "10232    ZYNES11470137  ...   Nescafé Classic Çözünebilir Kahve 200gr Ekopaket\n",
              "10233   ZYPAREX1909309  ...                   Parex Powerball Çizmez Ovma Teli\n",
              "10234   ZYPAREX2107986  ...         Parex Tornado Döner Başlıklı Temizlik Seti\n",
              "10235       ZYPYON6690  ...  Febreze Kumaş ve Çamaşır Ferahlatıcı Sprey 500...\n",
              "\n",
              "[10236 rows x 5 columns]"
            ]
          },
          "metadata": {
            "tags": []
          },
          "execution_count": 9
        }
      ]
    },
    {
      "cell_type": "code",
      "metadata": {
        "colab": {
          "base_uri": "https://localhost:8080/",
          "height": 175
        },
        "id": "sjBlAdaklbD3",
        "outputId": "625bdfea-67c9-4946-cb27-40491cee7f45"
      },
      "source": [
        "events.describe()"
      ],
      "execution_count": 10,
      "outputs": [
        {
          "output_type": "execute_result",
          "data": {
            "text/html": [
              "<div>\n",
              "<style scoped>\n",
              "    .dataframe tbody tr th:only-of-type {\n",
              "        vertical-align: middle;\n",
              "    }\n",
              "\n",
              "    .dataframe tbody tr th {\n",
              "        vertical-align: top;\n",
              "    }\n",
              "\n",
              "    .dataframe thead th {\n",
              "        text-align: right;\n",
              "    }\n",
              "</style>\n",
              "<table border=\"1\" class=\"dataframe\">\n",
              "  <thead>\n",
              "    <tr style=\"text-align: right;\">\n",
              "      <th></th>\n",
              "      <th>event</th>\n",
              "      <th>sessionid</th>\n",
              "      <th>eventtime</th>\n",
              "      <th>price</th>\n",
              "      <th>productid</th>\n",
              "    </tr>\n",
              "  </thead>\n",
              "  <tbody>\n",
              "    <tr>\n",
              "      <th>count</th>\n",
              "      <td>387656</td>\n",
              "      <td>387656</td>\n",
              "      <td>387656</td>\n",
              "      <td>387650</td>\n",
              "      <td>387650</td>\n",
              "    </tr>\n",
              "    <tr>\n",
              "      <th>unique</th>\n",
              "      <td>1</td>\n",
              "      <td>54442</td>\n",
              "      <td>387196</td>\n",
              "      <td>1217</td>\n",
              "      <td>10235</td>\n",
              "    </tr>\n",
              "    <tr>\n",
              "      <th>top</th>\n",
              "      <td>cart</td>\n",
              "      <td>08a906d4-4999-403c-a334-d296106d49cf</td>\n",
              "      <td>2020-06-10T13:05:26.317Z</td>\n",
              "      <td>18.48</td>\n",
              "      <td>HBV00000NVZGU</td>\n",
              "    </tr>\n",
              "    <tr>\n",
              "      <th>freq</th>\n",
              "      <td>387656</td>\n",
              "      <td>308</td>\n",
              "      <td>3</td>\n",
              "      <td>16750</td>\n",
              "      <td>17082</td>\n",
              "    </tr>\n",
              "  </tbody>\n",
              "</table>\n",
              "</div>"
            ],
            "text/plain": [
              "         event                             sessionid  ...   price      productid\n",
              "count   387656                                387656  ...  387650         387650\n",
              "unique       1                                 54442  ...    1217          10235\n",
              "top       cart  08a906d4-4999-403c-a334-d296106d49cf  ...   18.48  HBV00000NVZGU\n",
              "freq    387656                                   308  ...   16750          17082\n",
              "\n",
              "[4 rows x 5 columns]"
            ]
          },
          "metadata": {
            "tags": []
          },
          "execution_count": 10
        }
      ]
    },
    {
      "cell_type": "code",
      "metadata": {
        "colab": {
          "base_uri": "https://localhost:8080/",
          "height": 175
        },
        "id": "0X6w_6bamJJP",
        "outputId": "f396f184-ae34-4a15-f855-5a46aac74a16"
      },
      "source": [
        "meta.describe()"
      ],
      "execution_count": 11,
      "outputs": [
        {
          "output_type": "execute_result",
          "data": {
            "text/html": [
              "<div>\n",
              "<style scoped>\n",
              "    .dataframe tbody tr th:only-of-type {\n",
              "        vertical-align: middle;\n",
              "    }\n",
              "\n",
              "    .dataframe tbody tr th {\n",
              "        vertical-align: top;\n",
              "    }\n",
              "\n",
              "    .dataframe thead th {\n",
              "        text-align: right;\n",
              "    }\n",
              "</style>\n",
              "<table border=\"1\" class=\"dataframe\">\n",
              "  <thead>\n",
              "    <tr style=\"text-align: right;\">\n",
              "      <th></th>\n",
              "      <th>productid</th>\n",
              "      <th>brand</th>\n",
              "      <th>category</th>\n",
              "      <th>subcategory</th>\n",
              "      <th>name</th>\n",
              "    </tr>\n",
              "  </thead>\n",
              "  <tbody>\n",
              "    <tr>\n",
              "      <th>count</th>\n",
              "      <td>10235</td>\n",
              "      <td>9777</td>\n",
              "      <td>10235</td>\n",
              "      <td>10235</td>\n",
              "      <td>10235</td>\n",
              "    </tr>\n",
              "    <tr>\n",
              "      <th>unique</th>\n",
              "      <td>10235</td>\n",
              "      <td>789</td>\n",
              "      <td>20</td>\n",
              "      <td>132</td>\n",
              "      <td>10123</td>\n",
              "    </tr>\n",
              "    <tr>\n",
              "      <th>top</th>\n",
              "      <td>ZYLEPETIT6700</td>\n",
              "      <td>Carrefour</td>\n",
              "      <td>Atıştırmalık</td>\n",
              "      <td>Saç Bakımı</td>\n",
              "      <td>Carrefour Yumurta 30'lu M Boy</td>\n",
              "    </tr>\n",
              "    <tr>\n",
              "      <th>freq</th>\n",
              "      <td>1</td>\n",
              "      <td>396</td>\n",
              "      <td>1113</td>\n",
              "      <td>556</td>\n",
              "      <td>3</td>\n",
              "    </tr>\n",
              "  </tbody>\n",
              "</table>\n",
              "</div>"
            ],
            "text/plain": [
              "            productid      brand  ... subcategory                           name\n",
              "count           10235       9777  ...       10235                          10235\n",
              "unique          10235        789  ...         132                          10123\n",
              "top     ZYLEPETIT6700  Carrefour  ...  Saç Bakımı  Carrefour Yumurta 30'lu M Boy\n",
              "freq                1        396  ...         556                              3\n",
              "\n",
              "[4 rows x 5 columns]"
            ]
          },
          "metadata": {
            "tags": []
          },
          "execution_count": 11
        }
      ]
    },
    {
      "cell_type": "code",
      "metadata": {
        "colab": {
          "base_uri": "https://localhost:8080/",
          "height": 331
        },
        "id": "2RhWWEEGmVZ6",
        "outputId": "0630913a-d722-480d-ede6-6a0d881e003b"
      },
      "source": [
        "data = events.merge(meta,left_on='productid',right_on='productid')\n",
        "data.describe().T"
      ],
      "execution_count": 12,
      "outputs": [
        {
          "output_type": "execute_result",
          "data": {
            "text/html": [
              "<div>\n",
              "<style scoped>\n",
              "    .dataframe tbody tr th:only-of-type {\n",
              "        vertical-align: middle;\n",
              "    }\n",
              "\n",
              "    .dataframe tbody tr th {\n",
              "        vertical-align: top;\n",
              "    }\n",
              "\n",
              "    .dataframe thead th {\n",
              "        text-align: right;\n",
              "    }\n",
              "</style>\n",
              "<table border=\"1\" class=\"dataframe\">\n",
              "  <thead>\n",
              "    <tr style=\"text-align: right;\">\n",
              "      <th></th>\n",
              "      <th>count</th>\n",
              "      <th>unique</th>\n",
              "      <th>top</th>\n",
              "      <th>freq</th>\n",
              "    </tr>\n",
              "  </thead>\n",
              "  <tbody>\n",
              "    <tr>\n",
              "      <th>event</th>\n",
              "      <td>387656</td>\n",
              "      <td>1</td>\n",
              "      <td>cart</td>\n",
              "      <td>387656</td>\n",
              "    </tr>\n",
              "    <tr>\n",
              "      <th>sessionid</th>\n",
              "      <td>387656</td>\n",
              "      <td>54442</td>\n",
              "      <td>08a906d4-4999-403c-a334-d296106d49cf</td>\n",
              "      <td>308</td>\n",
              "    </tr>\n",
              "    <tr>\n",
              "      <th>eventtime</th>\n",
              "      <td>387656</td>\n",
              "      <td>387196</td>\n",
              "      <td>2020-06-01T13:44:38.106Z</td>\n",
              "      <td>3</td>\n",
              "    </tr>\n",
              "    <tr>\n",
              "      <th>price</th>\n",
              "      <td>387650</td>\n",
              "      <td>1217</td>\n",
              "      <td>18.48</td>\n",
              "      <td>16750</td>\n",
              "    </tr>\n",
              "    <tr>\n",
              "      <th>productid</th>\n",
              "      <td>387650</td>\n",
              "      <td>10235</td>\n",
              "      <td>HBV00000NVZGU</td>\n",
              "      <td>17082</td>\n",
              "    </tr>\n",
              "    <tr>\n",
              "      <th>brand</th>\n",
              "      <td>255805</td>\n",
              "      <td>789</td>\n",
              "      <td>Carrefour</td>\n",
              "      <td>36683</td>\n",
              "    </tr>\n",
              "    <tr>\n",
              "      <th>category</th>\n",
              "      <td>387650</td>\n",
              "      <td>20</td>\n",
              "      <td>Meyve ve Sebze</td>\n",
              "      <td>76021</td>\n",
              "    </tr>\n",
              "    <tr>\n",
              "      <th>subcategory</th>\n",
              "      <td>387650</td>\n",
              "      <td>132</td>\n",
              "      <td>Sebze</td>\n",
              "      <td>47590</td>\n",
              "    </tr>\n",
              "    <tr>\n",
              "      <th>name</th>\n",
              "      <td>387650</td>\n",
              "      <td>10123</td>\n",
              "      <td>Dana Biftek 250 gr</td>\n",
              "      <td>17082</td>\n",
              "    </tr>\n",
              "  </tbody>\n",
              "</table>\n",
              "</div>"
            ],
            "text/plain": [
              "              count  unique                                   top    freq\n",
              "event        387656       1                                  cart  387656\n",
              "sessionid    387656   54442  08a906d4-4999-403c-a334-d296106d49cf     308\n",
              "eventtime    387656  387196              2020-06-01T13:44:38.106Z       3\n",
              "price        387650    1217                                 18.48   16750\n",
              "productid    387650   10235                         HBV00000NVZGU   17082\n",
              "brand        255805     789                             Carrefour   36683\n",
              "category     387650      20                        Meyve ve Sebze   76021\n",
              "subcategory  387650     132                                 Sebze   47590\n",
              "name         387650   10123                    Dana Biftek 250 gr   17082"
            ]
          },
          "metadata": {
            "tags": []
          },
          "execution_count": 12
        }
      ]
    },
    {
      "cell_type": "code",
      "metadata": {
        "colab": {
          "base_uri": "https://localhost:8080/"
        },
        "id": "t18TihPcnbS6",
        "outputId": "e2e8a1f7-4fd2-4f56-bafc-5316b50f364e"
      },
      "source": [
        "data.info()"
      ],
      "execution_count": 13,
      "outputs": [
        {
          "output_type": "stream",
          "text": [
            "<class 'pandas.core.frame.DataFrame'>\n",
            "Int64Index: 387656 entries, 0 to 387655\n",
            "Data columns (total 9 columns):\n",
            " #   Column       Non-Null Count   Dtype \n",
            "---  ------       --------------   ----- \n",
            " 0   event        387656 non-null  object\n",
            " 1   sessionid    387656 non-null  object\n",
            " 2   eventtime    387656 non-null  object\n",
            " 3   price        387650 non-null  object\n",
            " 4   productid    387650 non-null  object\n",
            " 5   brand        255805 non-null  object\n",
            " 6   category     387650 non-null  object\n",
            " 7   subcategory  387650 non-null  object\n",
            " 8   name         387650 non-null  object\n",
            "dtypes: object(9)\n",
            "memory usage: 29.6+ MB\n"
          ],
          "name": "stdout"
        }
      ]
    },
    {
      "cell_type": "code",
      "metadata": {
        "id": "R5dRuL3NnoaI"
      },
      "source": [
        "# calculate freq patterns data\n",
        "fp_data = data[['sessionid','productid']]\n",
        "fp_data = fp_data.groupby(['sessionid','productid']).size().unstack(fill_value=0).astype(bool)\n"
      ],
      "execution_count": 14,
      "outputs": []
    },
    {
      "cell_type": "code",
      "metadata": {
        "colab": {
          "base_uri": "https://localhost:8080/",
          "height": 391
        },
        "id": "TSMMOez8zOZY",
        "outputId": "a00f931d-1e28-4155-de15-eaa702a3d6fd"
      },
      "source": [
        "fp_data.head(5)"
      ],
      "execution_count": 15,
      "outputs": [
        {
          "output_type": "execute_result",
          "data": {
            "text/html": [
              "<div>\n",
              "<style scoped>\n",
              "    .dataframe tbody tr th:only-of-type {\n",
              "        vertical-align: middle;\n",
              "    }\n",
              "\n",
              "    .dataframe tbody tr th {\n",
              "        vertical-align: top;\n",
              "    }\n",
              "\n",
              "    .dataframe thead th {\n",
              "        text-align: right;\n",
              "    }\n",
              "</style>\n",
              "<table border=\"1\" class=\"dataframe\">\n",
              "  <thead>\n",
              "    <tr style=\"text-align: right;\">\n",
              "      <th>productid</th>\n",
              "      <th>AILEBIZIZSMTLDGY54</th>\n",
              "      <th>AILEBIZIZSMTLDHB18</th>\n",
              "      <th>AILEBS179526</th>\n",
              "      <th>AILEBSHSB22037</th>\n",
              "      <th>AILEDALIN275101</th>\n",
              "      <th>AILEDALIN275103</th>\n",
              "      <th>AILEDALIN275105</th>\n",
              "      <th>AILEDALIN275106</th>\n",
              "      <th>AILEDALIN275107</th>\n",
              "      <th>AILEDALIN275114</th>\n",
              "      <th>AILEDALIN275122</th>\n",
              "      <th>AILEDALIN275169</th>\n",
              "      <th>AILEEBBKB-56556</th>\n",
              "      <th>AILEEBBKR-W4472</th>\n",
              "      <th>AILEELITDIS5285B</th>\n",
              "      <th>AILEELITDIS5288B</th>\n",
              "      <th>AILEETI1811300</th>\n",
              "      <th>AILEETI3511300</th>\n",
              "      <th>AILEETI5311300</th>\n",
              "      <th>AILEFIMAN5299094</th>\n",
              "      <th>AILEHDMAR8967772</th>\n",
              "      <th>AILEHDMAR8967774</th>\n",
              "      <th>AILEHDMAR8967775</th>\n",
              "      <th>AILEHDMAR8967777</th>\n",
              "      <th>AILEHDMAR8967779</th>\n",
              "      <th>AILEHERO0595800</th>\n",
              "      <th>AILEHERO0595801</th>\n",
              "      <th>AILEHERO0598801</th>\n",
              "      <th>AILEHIPPTR2087</th>\n",
              "      <th>AILEHIPPTR2342</th>\n",
              "      <th>AILEHIPPTR2468</th>\n",
              "      <th>AILEHIPPTR2473</th>\n",
              "      <th>AILEHIPPTR2477</th>\n",
              "      <th>AILEHIPPTR2769</th>\n",
              "      <th>AILEHIPPTR2963</th>\n",
              "      <th>AILEHIPPTR3141</th>\n",
              "      <th>AILEHIPPTR3331</th>\n",
              "      <th>AILEHIPPTR3551</th>\n",
              "      <th>AILEHIPPTR4202</th>\n",
              "      <th>AILEHIPPTR4212</th>\n",
              "      <th>...</th>\n",
              "      <th>ZYUNIL21026733</th>\n",
              "      <th>ZYUNIL21032491</th>\n",
              "      <th>ZYUNIL21038893</th>\n",
              "      <th>ZYUNIL21042007</th>\n",
              "      <th>ZYUNIL21108636</th>\n",
              "      <th>ZYUNIL21122153</th>\n",
              "      <th>ZYUNIL21127366</th>\n",
              "      <th>ZYUNIL21127405</th>\n",
              "      <th>ZYUNIL21127409</th>\n",
              "      <th>ZYUNIL21129933</th>\n",
              "      <th>ZYUNIL21166551</th>\n",
              "      <th>ZYUNIL21166552</th>\n",
              "      <th>ZYUNIL21166554</th>\n",
              "      <th>ZYUNIL581595</th>\n",
              "      <th>ZYUNIL70003152</th>\n",
              "      <th>ZYUNIL70003580</th>\n",
              "      <th>ZYUNIL70003656</th>\n",
              "      <th>ZYUNIL70003657</th>\n",
              "      <th>ZYUNIL70004274</th>\n",
              "      <th>ZYUNIL70005997</th>\n",
              "      <th>ZYUNIL70006848</th>\n",
              "      <th>ZYUNIL70006862</th>\n",
              "      <th>ZYUNIL70006863</th>\n",
              "      <th>ZYUNIL70006868</th>\n",
              "      <th>ZYUNIL70009140</th>\n",
              "      <th>ZYUNIL70009454</th>\n",
              "      <th>ZYUNIL70020865</th>\n",
              "      <th>ZYUNIL70021056</th>\n",
              "      <th>ZYUNIL70021119</th>\n",
              "      <th>ZYUNIL70021126</th>\n",
              "      <th>ZYUNIL798204</th>\n",
              "      <th>ZYUNIL798280</th>\n",
              "      <th>ZYUNMASEKM007</th>\n",
              "      <th>ZYUNMASEKM008</th>\n",
              "      <th>ZYUNMASEKM065</th>\n",
              "      <th>ZYUZAY1074</th>\n",
              "      <th>ZYUZAY1166</th>\n",
              "      <th>ZYUZAY1272</th>\n",
              "      <th>ZYVLEDASUN003</th>\n",
              "      <th>ZYWAX12117</th>\n",
              "    </tr>\n",
              "    <tr>\n",
              "      <th>sessionid</th>\n",
              "      <th></th>\n",
              "      <th></th>\n",
              "      <th></th>\n",
              "      <th></th>\n",
              "      <th></th>\n",
              "      <th></th>\n",
              "      <th></th>\n",
              "      <th></th>\n",
              "      <th></th>\n",
              "      <th></th>\n",
              "      <th></th>\n",
              "      <th></th>\n",
              "      <th></th>\n",
              "      <th></th>\n",
              "      <th></th>\n",
              "      <th></th>\n",
              "      <th></th>\n",
              "      <th></th>\n",
              "      <th></th>\n",
              "      <th></th>\n",
              "      <th></th>\n",
              "      <th></th>\n",
              "      <th></th>\n",
              "      <th></th>\n",
              "      <th></th>\n",
              "      <th></th>\n",
              "      <th></th>\n",
              "      <th></th>\n",
              "      <th></th>\n",
              "      <th></th>\n",
              "      <th></th>\n",
              "      <th></th>\n",
              "      <th></th>\n",
              "      <th></th>\n",
              "      <th></th>\n",
              "      <th></th>\n",
              "      <th></th>\n",
              "      <th></th>\n",
              "      <th></th>\n",
              "      <th></th>\n",
              "      <th></th>\n",
              "      <th></th>\n",
              "      <th></th>\n",
              "      <th></th>\n",
              "      <th></th>\n",
              "      <th></th>\n",
              "      <th></th>\n",
              "      <th></th>\n",
              "      <th></th>\n",
              "      <th></th>\n",
              "      <th></th>\n",
              "      <th></th>\n",
              "      <th></th>\n",
              "      <th></th>\n",
              "      <th></th>\n",
              "      <th></th>\n",
              "      <th></th>\n",
              "      <th></th>\n",
              "      <th></th>\n",
              "      <th></th>\n",
              "      <th></th>\n",
              "      <th></th>\n",
              "      <th></th>\n",
              "      <th></th>\n",
              "      <th></th>\n",
              "      <th></th>\n",
              "      <th></th>\n",
              "      <th></th>\n",
              "      <th></th>\n",
              "      <th></th>\n",
              "      <th></th>\n",
              "      <th></th>\n",
              "      <th></th>\n",
              "      <th></th>\n",
              "      <th></th>\n",
              "      <th></th>\n",
              "      <th></th>\n",
              "      <th></th>\n",
              "      <th></th>\n",
              "      <th></th>\n",
              "      <th></th>\n",
              "    </tr>\n",
              "  </thead>\n",
              "  <tbody>\n",
              "    <tr>\n",
              "      <th>000280f4-62fc-4dcd-b51d-c66ac14d7d8c</th>\n",
              "      <td>False</td>\n",
              "      <td>False</td>\n",
              "      <td>False</td>\n",
              "      <td>False</td>\n",
              "      <td>False</td>\n",
              "      <td>False</td>\n",
              "      <td>False</td>\n",
              "      <td>False</td>\n",
              "      <td>False</td>\n",
              "      <td>False</td>\n",
              "      <td>False</td>\n",
              "      <td>False</td>\n",
              "      <td>False</td>\n",
              "      <td>False</td>\n",
              "      <td>False</td>\n",
              "      <td>False</td>\n",
              "      <td>False</td>\n",
              "      <td>False</td>\n",
              "      <td>False</td>\n",
              "      <td>False</td>\n",
              "      <td>False</td>\n",
              "      <td>False</td>\n",
              "      <td>False</td>\n",
              "      <td>False</td>\n",
              "      <td>False</td>\n",
              "      <td>False</td>\n",
              "      <td>False</td>\n",
              "      <td>False</td>\n",
              "      <td>False</td>\n",
              "      <td>False</td>\n",
              "      <td>False</td>\n",
              "      <td>False</td>\n",
              "      <td>False</td>\n",
              "      <td>False</td>\n",
              "      <td>False</td>\n",
              "      <td>False</td>\n",
              "      <td>False</td>\n",
              "      <td>False</td>\n",
              "      <td>False</td>\n",
              "      <td>False</td>\n",
              "      <td>...</td>\n",
              "      <td>False</td>\n",
              "      <td>False</td>\n",
              "      <td>False</td>\n",
              "      <td>False</td>\n",
              "      <td>False</td>\n",
              "      <td>False</td>\n",
              "      <td>False</td>\n",
              "      <td>False</td>\n",
              "      <td>False</td>\n",
              "      <td>False</td>\n",
              "      <td>False</td>\n",
              "      <td>False</td>\n",
              "      <td>False</td>\n",
              "      <td>False</td>\n",
              "      <td>False</td>\n",
              "      <td>False</td>\n",
              "      <td>False</td>\n",
              "      <td>False</td>\n",
              "      <td>False</td>\n",
              "      <td>False</td>\n",
              "      <td>False</td>\n",
              "      <td>False</td>\n",
              "      <td>False</td>\n",
              "      <td>False</td>\n",
              "      <td>False</td>\n",
              "      <td>False</td>\n",
              "      <td>False</td>\n",
              "      <td>False</td>\n",
              "      <td>False</td>\n",
              "      <td>False</td>\n",
              "      <td>False</td>\n",
              "      <td>False</td>\n",
              "      <td>False</td>\n",
              "      <td>False</td>\n",
              "      <td>False</td>\n",
              "      <td>False</td>\n",
              "      <td>False</td>\n",
              "      <td>False</td>\n",
              "      <td>False</td>\n",
              "      <td>False</td>\n",
              "    </tr>\n",
              "    <tr>\n",
              "      <th>0002e53b-1f60-4309-8380-31ca03de51f8</th>\n",
              "      <td>False</td>\n",
              "      <td>False</td>\n",
              "      <td>False</td>\n",
              "      <td>False</td>\n",
              "      <td>False</td>\n",
              "      <td>False</td>\n",
              "      <td>False</td>\n",
              "      <td>False</td>\n",
              "      <td>False</td>\n",
              "      <td>False</td>\n",
              "      <td>False</td>\n",
              "      <td>False</td>\n",
              "      <td>False</td>\n",
              "      <td>False</td>\n",
              "      <td>False</td>\n",
              "      <td>False</td>\n",
              "      <td>False</td>\n",
              "      <td>False</td>\n",
              "      <td>False</td>\n",
              "      <td>False</td>\n",
              "      <td>False</td>\n",
              "      <td>False</td>\n",
              "      <td>False</td>\n",
              "      <td>False</td>\n",
              "      <td>False</td>\n",
              "      <td>False</td>\n",
              "      <td>False</td>\n",
              "      <td>False</td>\n",
              "      <td>False</td>\n",
              "      <td>False</td>\n",
              "      <td>False</td>\n",
              "      <td>False</td>\n",
              "      <td>False</td>\n",
              "      <td>False</td>\n",
              "      <td>False</td>\n",
              "      <td>False</td>\n",
              "      <td>False</td>\n",
              "      <td>False</td>\n",
              "      <td>False</td>\n",
              "      <td>False</td>\n",
              "      <td>...</td>\n",
              "      <td>False</td>\n",
              "      <td>False</td>\n",
              "      <td>False</td>\n",
              "      <td>False</td>\n",
              "      <td>False</td>\n",
              "      <td>False</td>\n",
              "      <td>False</td>\n",
              "      <td>False</td>\n",
              "      <td>False</td>\n",
              "      <td>False</td>\n",
              "      <td>False</td>\n",
              "      <td>False</td>\n",
              "      <td>False</td>\n",
              "      <td>False</td>\n",
              "      <td>False</td>\n",
              "      <td>False</td>\n",
              "      <td>False</td>\n",
              "      <td>False</td>\n",
              "      <td>False</td>\n",
              "      <td>False</td>\n",
              "      <td>False</td>\n",
              "      <td>False</td>\n",
              "      <td>False</td>\n",
              "      <td>False</td>\n",
              "      <td>False</td>\n",
              "      <td>False</td>\n",
              "      <td>False</td>\n",
              "      <td>False</td>\n",
              "      <td>False</td>\n",
              "      <td>False</td>\n",
              "      <td>False</td>\n",
              "      <td>False</td>\n",
              "      <td>False</td>\n",
              "      <td>False</td>\n",
              "      <td>False</td>\n",
              "      <td>False</td>\n",
              "      <td>False</td>\n",
              "      <td>False</td>\n",
              "      <td>False</td>\n",
              "      <td>False</td>\n",
              "    </tr>\n",
              "    <tr>\n",
              "      <th>0002ef34-6bee-4953-874b-8298ec26b625</th>\n",
              "      <td>False</td>\n",
              "      <td>False</td>\n",
              "      <td>False</td>\n",
              "      <td>False</td>\n",
              "      <td>False</td>\n",
              "      <td>False</td>\n",
              "      <td>False</td>\n",
              "      <td>False</td>\n",
              "      <td>False</td>\n",
              "      <td>False</td>\n",
              "      <td>False</td>\n",
              "      <td>False</td>\n",
              "      <td>False</td>\n",
              "      <td>False</td>\n",
              "      <td>False</td>\n",
              "      <td>False</td>\n",
              "      <td>False</td>\n",
              "      <td>False</td>\n",
              "      <td>False</td>\n",
              "      <td>False</td>\n",
              "      <td>False</td>\n",
              "      <td>False</td>\n",
              "      <td>False</td>\n",
              "      <td>False</td>\n",
              "      <td>False</td>\n",
              "      <td>False</td>\n",
              "      <td>False</td>\n",
              "      <td>False</td>\n",
              "      <td>False</td>\n",
              "      <td>False</td>\n",
              "      <td>False</td>\n",
              "      <td>False</td>\n",
              "      <td>False</td>\n",
              "      <td>False</td>\n",
              "      <td>False</td>\n",
              "      <td>False</td>\n",
              "      <td>False</td>\n",
              "      <td>False</td>\n",
              "      <td>False</td>\n",
              "      <td>False</td>\n",
              "      <td>...</td>\n",
              "      <td>False</td>\n",
              "      <td>False</td>\n",
              "      <td>False</td>\n",
              "      <td>False</td>\n",
              "      <td>False</td>\n",
              "      <td>False</td>\n",
              "      <td>False</td>\n",
              "      <td>False</td>\n",
              "      <td>False</td>\n",
              "      <td>False</td>\n",
              "      <td>False</td>\n",
              "      <td>False</td>\n",
              "      <td>False</td>\n",
              "      <td>False</td>\n",
              "      <td>False</td>\n",
              "      <td>False</td>\n",
              "      <td>False</td>\n",
              "      <td>False</td>\n",
              "      <td>False</td>\n",
              "      <td>False</td>\n",
              "      <td>False</td>\n",
              "      <td>False</td>\n",
              "      <td>False</td>\n",
              "      <td>False</td>\n",
              "      <td>False</td>\n",
              "      <td>False</td>\n",
              "      <td>False</td>\n",
              "      <td>False</td>\n",
              "      <td>False</td>\n",
              "      <td>False</td>\n",
              "      <td>False</td>\n",
              "      <td>False</td>\n",
              "      <td>False</td>\n",
              "      <td>False</td>\n",
              "      <td>False</td>\n",
              "      <td>False</td>\n",
              "      <td>False</td>\n",
              "      <td>False</td>\n",
              "      <td>False</td>\n",
              "      <td>False</td>\n",
              "    </tr>\n",
              "    <tr>\n",
              "      <th>000618de-d415-408c-863e-6124db43f529</th>\n",
              "      <td>False</td>\n",
              "      <td>False</td>\n",
              "      <td>False</td>\n",
              "      <td>False</td>\n",
              "      <td>False</td>\n",
              "      <td>False</td>\n",
              "      <td>False</td>\n",
              "      <td>False</td>\n",
              "      <td>False</td>\n",
              "      <td>False</td>\n",
              "      <td>False</td>\n",
              "      <td>False</td>\n",
              "      <td>False</td>\n",
              "      <td>False</td>\n",
              "      <td>False</td>\n",
              "      <td>False</td>\n",
              "      <td>False</td>\n",
              "      <td>False</td>\n",
              "      <td>False</td>\n",
              "      <td>False</td>\n",
              "      <td>False</td>\n",
              "      <td>False</td>\n",
              "      <td>False</td>\n",
              "      <td>False</td>\n",
              "      <td>False</td>\n",
              "      <td>False</td>\n",
              "      <td>False</td>\n",
              "      <td>False</td>\n",
              "      <td>False</td>\n",
              "      <td>False</td>\n",
              "      <td>False</td>\n",
              "      <td>False</td>\n",
              "      <td>False</td>\n",
              "      <td>False</td>\n",
              "      <td>False</td>\n",
              "      <td>False</td>\n",
              "      <td>False</td>\n",
              "      <td>False</td>\n",
              "      <td>False</td>\n",
              "      <td>False</td>\n",
              "      <td>...</td>\n",
              "      <td>False</td>\n",
              "      <td>False</td>\n",
              "      <td>False</td>\n",
              "      <td>False</td>\n",
              "      <td>False</td>\n",
              "      <td>False</td>\n",
              "      <td>False</td>\n",
              "      <td>False</td>\n",
              "      <td>False</td>\n",
              "      <td>False</td>\n",
              "      <td>False</td>\n",
              "      <td>False</td>\n",
              "      <td>False</td>\n",
              "      <td>False</td>\n",
              "      <td>False</td>\n",
              "      <td>False</td>\n",
              "      <td>False</td>\n",
              "      <td>False</td>\n",
              "      <td>False</td>\n",
              "      <td>False</td>\n",
              "      <td>False</td>\n",
              "      <td>False</td>\n",
              "      <td>False</td>\n",
              "      <td>False</td>\n",
              "      <td>False</td>\n",
              "      <td>False</td>\n",
              "      <td>False</td>\n",
              "      <td>False</td>\n",
              "      <td>False</td>\n",
              "      <td>False</td>\n",
              "      <td>False</td>\n",
              "      <td>False</td>\n",
              "      <td>False</td>\n",
              "      <td>False</td>\n",
              "      <td>False</td>\n",
              "      <td>False</td>\n",
              "      <td>False</td>\n",
              "      <td>False</td>\n",
              "      <td>False</td>\n",
              "      <td>False</td>\n",
              "    </tr>\n",
              "    <tr>\n",
              "      <th>000770d6-c2d4-4ad2-bb2c-b35274bc5e7e</th>\n",
              "      <td>False</td>\n",
              "      <td>False</td>\n",
              "      <td>False</td>\n",
              "      <td>False</td>\n",
              "      <td>False</td>\n",
              "      <td>False</td>\n",
              "      <td>False</td>\n",
              "      <td>False</td>\n",
              "      <td>False</td>\n",
              "      <td>False</td>\n",
              "      <td>False</td>\n",
              "      <td>False</td>\n",
              "      <td>False</td>\n",
              "      <td>False</td>\n",
              "      <td>False</td>\n",
              "      <td>False</td>\n",
              "      <td>False</td>\n",
              "      <td>False</td>\n",
              "      <td>False</td>\n",
              "      <td>False</td>\n",
              "      <td>False</td>\n",
              "      <td>False</td>\n",
              "      <td>False</td>\n",
              "      <td>False</td>\n",
              "      <td>False</td>\n",
              "      <td>False</td>\n",
              "      <td>False</td>\n",
              "      <td>False</td>\n",
              "      <td>False</td>\n",
              "      <td>False</td>\n",
              "      <td>False</td>\n",
              "      <td>False</td>\n",
              "      <td>False</td>\n",
              "      <td>False</td>\n",
              "      <td>False</td>\n",
              "      <td>False</td>\n",
              "      <td>False</td>\n",
              "      <td>False</td>\n",
              "      <td>False</td>\n",
              "      <td>False</td>\n",
              "      <td>...</td>\n",
              "      <td>False</td>\n",
              "      <td>False</td>\n",
              "      <td>False</td>\n",
              "      <td>False</td>\n",
              "      <td>False</td>\n",
              "      <td>False</td>\n",
              "      <td>False</td>\n",
              "      <td>False</td>\n",
              "      <td>False</td>\n",
              "      <td>False</td>\n",
              "      <td>False</td>\n",
              "      <td>False</td>\n",
              "      <td>False</td>\n",
              "      <td>False</td>\n",
              "      <td>False</td>\n",
              "      <td>False</td>\n",
              "      <td>False</td>\n",
              "      <td>False</td>\n",
              "      <td>False</td>\n",
              "      <td>False</td>\n",
              "      <td>False</td>\n",
              "      <td>False</td>\n",
              "      <td>False</td>\n",
              "      <td>False</td>\n",
              "      <td>False</td>\n",
              "      <td>False</td>\n",
              "      <td>False</td>\n",
              "      <td>False</td>\n",
              "      <td>False</td>\n",
              "      <td>False</td>\n",
              "      <td>False</td>\n",
              "      <td>False</td>\n",
              "      <td>False</td>\n",
              "      <td>False</td>\n",
              "      <td>False</td>\n",
              "      <td>False</td>\n",
              "      <td>False</td>\n",
              "      <td>False</td>\n",
              "      <td>False</td>\n",
              "      <td>False</td>\n",
              "    </tr>\n",
              "  </tbody>\n",
              "</table>\n",
              "<p>5 rows × 10235 columns</p>\n",
              "</div>"
            ],
            "text/plain": [
              "productid                             AILEBIZIZSMTLDGY54  ...  ZYWAX12117\n",
              "sessionid                                                 ...            \n",
              "000280f4-62fc-4dcd-b51d-c66ac14d7d8c               False  ...       False\n",
              "0002e53b-1f60-4309-8380-31ca03de51f8               False  ...       False\n",
              "0002ef34-6bee-4953-874b-8298ec26b625               False  ...       False\n",
              "000618de-d415-408c-863e-6124db43f529               False  ...       False\n",
              "000770d6-c2d4-4ad2-bb2c-b35274bc5e7e               False  ...       False\n",
              "\n",
              "[5 rows x 10235 columns]"
            ]
          },
          "metadata": {
            "tags": []
          },
          "execution_count": 15
        }
      ]
    },
    {
      "cell_type": "code",
      "metadata": {
        "colab": {
          "base_uri": "https://localhost:8080/"
        },
        "id": "I7B2SZJmxQw1",
        "outputId": "e0971cbd-dc3d-463b-f544-609f3320b943"
      },
      "source": [
        "!pip install mlxtend==0.17.0"
      ],
      "execution_count": 16,
      "outputs": [
        {
          "output_type": "stream",
          "text": [
            "Requirement already satisfied: mlxtend==0.17.0 in /usr/local/lib/python3.7/dist-packages (0.17.0)\n",
            "Requirement already satisfied: pandas>=0.24.2 in /usr/local/lib/python3.7/dist-packages (from mlxtend==0.17.0) (1.1.5)\n",
            "Requirement already satisfied: joblib>=0.13.2 in /usr/local/lib/python3.7/dist-packages (from mlxtend==0.17.0) (1.0.1)\n",
            "Requirement already satisfied: setuptools in /usr/local/lib/python3.7/dist-packages (from mlxtend==0.17.0) (57.2.0)\n",
            "Requirement already satisfied: matplotlib>=3.0.0 in /usr/local/lib/python3.7/dist-packages (from mlxtend==0.17.0) (3.2.2)\n",
            "Requirement already satisfied: numpy>=1.16.2 in /usr/local/lib/python3.7/dist-packages (from mlxtend==0.17.0) (1.19.5)\n",
            "Requirement already satisfied: scikit-learn>=0.20.3 in /usr/local/lib/python3.7/dist-packages (from mlxtend==0.17.0) (0.22.2.post1)\n",
            "Requirement already satisfied: scipy>=1.2.1 in /usr/local/lib/python3.7/dist-packages (from mlxtend==0.17.0) (1.4.1)\n",
            "Requirement already satisfied: kiwisolver>=1.0.1 in /usr/local/lib/python3.7/dist-packages (from matplotlib>=3.0.0->mlxtend==0.17.0) (1.3.1)\n",
            "Requirement already satisfied: python-dateutil>=2.1 in /usr/local/lib/python3.7/dist-packages (from matplotlib>=3.0.0->mlxtend==0.17.0) (2.8.1)\n",
            "Requirement already satisfied: cycler>=0.10 in /usr/local/lib/python3.7/dist-packages (from matplotlib>=3.0.0->mlxtend==0.17.0) (0.10.0)\n",
            "Requirement already satisfied: pyparsing!=2.0.4,!=2.1.2,!=2.1.6,>=2.0.1 in /usr/local/lib/python3.7/dist-packages (from matplotlib>=3.0.0->mlxtend==0.17.0) (2.4.7)\n",
            "Requirement already satisfied: six in /usr/local/lib/python3.7/dist-packages (from cycler>=0.10->matplotlib>=3.0.0->mlxtend==0.17.0) (1.15.0)\n",
            "Requirement already satisfied: pytz>=2017.2 in /usr/local/lib/python3.7/dist-packages (from pandas>=0.24.2->mlxtend==0.17.0) (2018.9)\n"
          ],
          "name": "stdout"
        }
      ]
    },
    {
      "cell_type": "code",
      "metadata": {
        "colab": {
          "base_uri": "https://localhost:8080/"
        },
        "id": "U_XhF3ERx_Id",
        "outputId": "a29ad170-cdff-4717-f7b0-2ca606b53be8"
      },
      "source": [
        "import mlxtend\n",
        "print(mlxtend.__version__)"
      ],
      "execution_count": 17,
      "outputs": [
        {
          "output_type": "stream",
          "text": [
            "0.17.0\n"
          ],
          "name": "stdout"
        }
      ]
    },
    {
      "cell_type": "code",
      "metadata": {
        "id": "QlqoKdmUxGjv"
      },
      "source": [
        "from mlxtend.frequent_patterns import fpgrowth \n",
        "fb_data = fpgrowth(fp_data, min_support=0.00002, use_colnames=True,max_len=2)"
      ],
      "execution_count": 147,
      "outputs": []
    },
    {
      "cell_type": "code",
      "metadata": {
        "id": "2UlH1Dsx1kdY"
      },
      "source": [
        "from mlxtend.frequent_patterns import association_rules\n",
        "fb_rules = association_rules(fb_data, metric=\"confidence\", min_threshold=0.50)"
      ],
      "execution_count": 148,
      "outputs": []
    },
    {
      "cell_type": "code",
      "metadata": {
        "colab": {
          "base_uri": "https://localhost:8080/",
          "height": 300
        },
        "id": "klnDXEKZ4Ekz",
        "outputId": "58e0c318-3d11-4ffb-a0b1-91864dd562e2"
      },
      "source": [
        "fb_rules.describe()"
      ],
      "execution_count": 149,
      "outputs": [
        {
          "output_type": "execute_result",
          "data": {
            "text/html": [
              "<div>\n",
              "<style scoped>\n",
              "    .dataframe tbody tr th:only-of-type {\n",
              "        vertical-align: middle;\n",
              "    }\n",
              "\n",
              "    .dataframe tbody tr th {\n",
              "        vertical-align: top;\n",
              "    }\n",
              "\n",
              "    .dataframe thead th {\n",
              "        text-align: right;\n",
              "    }\n",
              "</style>\n",
              "<table border=\"1\" class=\"dataframe\">\n",
              "  <thead>\n",
              "    <tr style=\"text-align: right;\">\n",
              "      <th></th>\n",
              "      <th>antecedent support</th>\n",
              "      <th>consequent support</th>\n",
              "      <th>support</th>\n",
              "      <th>confidence</th>\n",
              "      <th>lift</th>\n",
              "      <th>leverage</th>\n",
              "      <th>conviction</th>\n",
              "    </tr>\n",
              "  </thead>\n",
              "  <tbody>\n",
              "    <tr>\n",
              "      <th>count</th>\n",
              "      <td>3189.000000</td>\n",
              "      <td>3189.000000</td>\n",
              "      <td>3189.000000</td>\n",
              "      <td>3189.000000</td>\n",
              "      <td>3189.000000</td>\n",
              "      <td>3189.000000</td>\n",
              "      <td>3189.000000</td>\n",
              "    </tr>\n",
              "    <tr>\n",
              "      <th>mean</th>\n",
              "      <td>0.000087</td>\n",
              "      <td>0.006347</td>\n",
              "      <td>0.000052</td>\n",
              "      <td>0.641401</td>\n",
              "      <td>2563.862063</td>\n",
              "      <td>0.000051</td>\n",
              "      <td>inf</td>\n",
              "    </tr>\n",
              "    <tr>\n",
              "      <th>std</th>\n",
              "      <td>0.000350</td>\n",
              "      <td>0.012119</td>\n",
              "      <td>0.000194</td>\n",
              "      <td>0.176505</td>\n",
              "      <td>3982.277723</td>\n",
              "      <td>0.000184</td>\n",
              "      <td>NaN</td>\n",
              "    </tr>\n",
              "    <tr>\n",
              "      <th>min</th>\n",
              "      <td>0.000037</td>\n",
              "      <td>0.000037</td>\n",
              "      <td>0.000037</td>\n",
              "      <td>0.500000</td>\n",
              "      <td>4.948373</td>\n",
              "      <td>0.000029</td>\n",
              "      <td>1.797913</td>\n",
              "    </tr>\n",
              "    <tr>\n",
              "      <th>25%</th>\n",
              "      <td>0.000055</td>\n",
              "      <td>0.000184</td>\n",
              "      <td>0.000037</td>\n",
              "      <td>0.500000</td>\n",
              "      <td>118.352174</td>\n",
              "      <td>0.000037</td>\n",
              "      <td>1.998824</td>\n",
              "    </tr>\n",
              "    <tr>\n",
              "      <th>50%</th>\n",
              "      <td>0.000073</td>\n",
              "      <td>0.000625</td>\n",
              "      <td>0.000037</td>\n",
              "      <td>0.600000</td>\n",
              "      <td>1008.185185</td>\n",
              "      <td>0.000037</td>\n",
              "      <td>2.494857</td>\n",
              "    </tr>\n",
              "    <tr>\n",
              "      <th>75%</th>\n",
              "      <td>0.000073</td>\n",
              "      <td>0.005125</td>\n",
              "      <td>0.000037</td>\n",
              "      <td>0.666667</td>\n",
              "      <td>3140.884615</td>\n",
              "      <td>0.000037</td>\n",
              "      <td>2.999559</td>\n",
              "    </tr>\n",
              "    <tr>\n",
              "      <th>max</th>\n",
              "      <td>0.018166</td>\n",
              "      <td>0.101043</td>\n",
              "      <td>0.009992</td>\n",
              "      <td>1.000000</td>\n",
              "      <td>27221.000000</td>\n",
              "      <td>0.009382</td>\n",
              "      <td>inf</td>\n",
              "    </tr>\n",
              "  </tbody>\n",
              "</table>\n",
              "</div>"
            ],
            "text/plain": [
              "       antecedent support  consequent support  ...     leverage   conviction\n",
              "count         3189.000000         3189.000000  ...  3189.000000  3189.000000\n",
              "mean             0.000087            0.006347  ...     0.000051          inf\n",
              "std              0.000350            0.012119  ...     0.000184          NaN\n",
              "min              0.000037            0.000037  ...     0.000029     1.797913\n",
              "25%              0.000055            0.000184  ...     0.000037     1.998824\n",
              "50%              0.000073            0.000625  ...     0.000037     2.494857\n",
              "75%              0.000073            0.005125  ...     0.000037     2.999559\n",
              "max              0.018166            0.101043  ...     0.009382          inf\n",
              "\n",
              "[8 rows x 7 columns]"
            ]
          },
          "metadata": {
            "tags": []
          },
          "execution_count": 149
        }
      ]
    },
    {
      "cell_type": "code",
      "metadata": {
        "colab": {
          "base_uri": "https://localhost:8080/",
          "height": 283
        },
        "id": "6tIyC08n4qTL",
        "outputId": "32edaa6a-2fca-491b-ccc2-b31471c3948b"
      },
      "source": [
        "fb_rules.lift.plot(kind='hist')"
      ],
      "execution_count": 150,
      "outputs": [
        {
          "output_type": "execute_result",
          "data": {
            "text/plain": [
              "<matplotlib.axes._subplots.AxesSubplot at 0x7f06f45450d0>"
            ]
          },
          "metadata": {
            "tags": []
          },
          "execution_count": 150
        },
        {
          "output_type": "display_data",
          "data": {
            "image/png": "[encoded data removed]",
            "text/plain": [
              "<Figure size 432x288 with 1 Axes>"
            ]
          },
          "metadata": {
            "tags": [],
            "needs_background": "light"
          }
        }
      ]
    },
    {
      "cell_type": "code",
      "metadata": {
        "colab": {
          "base_uri": "https://localhost:8080/",
          "height": 283
        },
        "id": "HQypYKAp47_g",
        "outputId": "0fdb516a-69e3-40cd-8b1c-2ae19936d22e"
      },
      "source": [
        "fb_rules.confidence.plot(kind='hist')"
      ],
      "execution_count": 151,
      "outputs": [
        {
          "output_type": "execute_result",
          "data": {
            "text/plain": [
              "<matplotlib.axes._subplots.AxesSubplot at 0x7f06f4b13dd0>"
            ]
          },
          "metadata": {
            "tags": []
          },
          "execution_count": 151
        },
        {
          "output_type": "display_data",
          "data": {
            "image/png": "[encoded data removed]",
            "text/plain": [
              "<Figure size 432x288 with 1 Axes>"
            ]
          },
          "metadata": {
            "tags": [],
            "needs_background": "light"
          }
        }
      ]
    },
    {
      "cell_type": "code",
      "metadata": {
        "colab": {
          "base_uri": "https://localhost:8080/"
        },
        "id": "7sXyRbeZ7nCv",
        "outputId": "5caf0cac-c9e6-4eb9-d7ca-9249d2f9c5f7"
      },
      "source": [
        "fb_rules.columns"
      ],
      "execution_count": 152,
      "outputs": [
        {
          "output_type": "execute_result",
          "data": {
            "text/plain": [
              "Index(['antecedents', 'consequents', 'antecedent support',\n",
              "       'consequent support', 'support', 'confidence', 'lift', 'leverage',\n",
              "       'conviction'],\n",
              "      dtype='object')"
            ]
          },
          "metadata": {
            "tags": []
          },
          "execution_count": 152
        }
      ]
    },
    {
      "cell_type": "code",
      "metadata": {
        "id": "KlxaY34M5I3X"
      },
      "source": [
        "fb_rules = fb_rules[['antecedents','consequents','confidence']]\n",
        "fb_rules.antecedents  = fb_rules.antecedents.apply(lambda x:list(x)[0]).astype(\"unicode\")\n",
        "fb_rules.consequents  = fb_rules.consequents.apply(lambda x:list(x)[0]).astype(\"unicode\")"
      ],
      "execution_count": 153,
      "outputs": []
    },
    {
      "cell_type": "code",
      "metadata": {
        "colab": {
          "base_uri": "https://localhost:8080/",
          "height": 424
        },
        "id": "n_YITEPk7ykt",
        "outputId": "383aace1-587d-43be-e086-229b80ec7894"
      },
      "source": [
        "#lift and right tabel \n",
        "fb_rules"
      ],
      "execution_count": 154,
      "outputs": [
        {
          "output_type": "execute_result",
          "data": {
            "text/html": [
              "<div>\n",
              "<style scoped>\n",
              "    .dataframe tbody tr th:only-of-type {\n",
              "        vertical-align: middle;\n",
              "    }\n",
              "\n",
              "    .dataframe tbody tr th {\n",
              "        vertical-align: top;\n",
              "    }\n",
              "\n",
              "    .dataframe thead th {\n",
              "        text-align: right;\n",
              "    }\n",
              "</style>\n",
              "<table border=\"1\" class=\"dataframe\">\n",
              "  <thead>\n",
              "    <tr style=\"text-align: right;\">\n",
              "      <th></th>\n",
              "      <th>antecedents</th>\n",
              "      <th>consequents</th>\n",
              "      <th>confidence</th>\n",
              "    </tr>\n",
              "  </thead>\n",
              "  <tbody>\n",
              "    <tr>\n",
              "      <th>0</th>\n",
              "      <td>HBV00000PV7JF</td>\n",
              "      <td>HBV00000TIRU5</td>\n",
              "      <td>0.666667</td>\n",
              "    </tr>\n",
              "    <tr>\n",
              "      <th>1</th>\n",
              "      <td>HBV00000NG8FM</td>\n",
              "      <td>HBV00000U27H6</td>\n",
              "      <td>0.500000</td>\n",
              "    </tr>\n",
              "    <tr>\n",
              "      <th>2</th>\n",
              "      <td>ZYGIM21035</td>\n",
              "      <td>HBV00000NG8FM</td>\n",
              "      <td>0.600000</td>\n",
              "    </tr>\n",
              "    <tr>\n",
              "      <th>3</th>\n",
              "      <td>HBV00000TDWF9</td>\n",
              "      <td>HBV00000O2S62</td>\n",
              "      <td>0.750000</td>\n",
              "    </tr>\n",
              "    <tr>\n",
              "      <th>4</th>\n",
              "      <td>HBV00000TDWF9</td>\n",
              "      <td>HBV00000TDWFG</td>\n",
              "      <td>0.500000</td>\n",
              "    </tr>\n",
              "    <tr>\n",
              "      <th>...</th>\n",
              "      <td>...</td>\n",
              "      <td>...</td>\n",
              "      <td>...</td>\n",
              "    </tr>\n",
              "    <tr>\n",
              "      <th>3184</th>\n",
              "      <td>HBV00000U2B97</td>\n",
              "      <td>HBV00000PV8IF</td>\n",
              "      <td>1.000000</td>\n",
              "    </tr>\n",
              "    <tr>\n",
              "      <th>3185</th>\n",
              "      <td>HBV00000PV8IF</td>\n",
              "      <td>HBV00000U2B97</td>\n",
              "      <td>1.000000</td>\n",
              "    </tr>\n",
              "    <tr>\n",
              "      <th>3186</th>\n",
              "      <td>HBV0000097EJO</td>\n",
              "      <td>ZYBENC336876</td>\n",
              "      <td>1.000000</td>\n",
              "    </tr>\n",
              "    <tr>\n",
              "      <th>3187</th>\n",
              "      <td>HBV00000PVQBT</td>\n",
              "      <td>HRTEK3TEKIS604</td>\n",
              "      <td>1.000000</td>\n",
              "    </tr>\n",
              "    <tr>\n",
              "      <th>3188</th>\n",
              "      <td>HRTEK3TEKIS604</td>\n",
              "      <td>HBV00000PVQBT</td>\n",
              "      <td>1.000000</td>\n",
              "    </tr>\n",
              "  </tbody>\n",
              "</table>\n",
              "<p>3189 rows × 3 columns</p>\n",
              "</div>"
            ],
            "text/plain": [
              "         antecedents     consequents  confidence\n",
              "0      HBV00000PV7JF   HBV00000TIRU5    0.666667\n",
              "1      HBV00000NG8FM   HBV00000U27H6    0.500000\n",
              "2         ZYGIM21035   HBV00000NG8FM    0.600000\n",
              "3      HBV00000TDWF9   HBV00000O2S62    0.750000\n",
              "4      HBV00000TDWF9   HBV00000TDWFG    0.500000\n",
              "...              ...             ...         ...\n",
              "3184   HBV00000U2B97   HBV00000PV8IF    1.000000\n",
              "3185   HBV00000PV8IF   HBV00000U2B97    1.000000\n",
              "3186   HBV0000097EJO    ZYBENC336876    1.000000\n",
              "3187   HBV00000PVQBT  HRTEK3TEKIS604    1.000000\n",
              "3188  HRTEK3TEKIS604   HBV00000PVQBT    1.000000\n",
              "\n",
              "[3189 rows x 3 columns]"
            ]
          },
          "metadata": {
            "tags": []
          },
          "execution_count": 154
        }
      ]
    },
    {
      "cell_type": "code",
      "metadata": {
        "colab": {
          "base_uri": "https://localhost:8080/",
          "height": 1000
        },
        "id": "zNlcxFB0-oFa",
        "outputId": "5776a0aa-756f-45b0-f21f-677588a8da38"
      },
      "source": [
        "#merging \n",
        "fb_merged = fb_rules.merge(meta,left_on='antecedents',right_on='productid',suffixes=(None,\"_left\"))\n",
        "fb_merged = fb_merged.merge(meta,left_on='consequents',right_on='productid',suffixes=(None,\"_right\"))\n",
        "\n",
        "fb_merged"
      ],
      "execution_count": 155,
      "outputs": [
        {
          "output_type": "execute_result",
          "data": {
            "text/html": [
              "<div>\n",
              "<style scoped>\n",
              "    .dataframe tbody tr th:only-of-type {\n",
              "        vertical-align: middle;\n",
              "    }\n",
              "\n",
              "    .dataframe tbody tr th {\n",
              "        vertical-align: top;\n",
              "    }\n",
              "\n",
              "    .dataframe thead th {\n",
              "        text-align: right;\n",
              "    }\n",
              "</style>\n",
              "<table border=\"1\" class=\"dataframe\">\n",
              "  <thead>\n",
              "    <tr style=\"text-align: right;\">\n",
              "      <th></th>\n",
              "      <th>antecedents</th>\n",
              "      <th>consequents</th>\n",
              "      <th>confidence</th>\n",
              "      <th>productid</th>\n",
              "      <th>brand</th>\n",
              "      <th>category</th>\n",
              "      <th>subcategory</th>\n",
              "      <th>name</th>\n",
              "      <th>productid_right</th>\n",
              "      <th>brand_right</th>\n",
              "      <th>category_right</th>\n",
              "      <th>subcategory_right</th>\n",
              "      <th>name_right</th>\n",
              "    </tr>\n",
              "  </thead>\n",
              "  <tbody>\n",
              "    <tr>\n",
              "      <th>0</th>\n",
              "      <td>HBV00000PV7JF</td>\n",
              "      <td>HBV00000TIRU5</td>\n",
              "      <td>0.666667</td>\n",
              "      <td>HBV00000PV7JF</td>\n",
              "      <td>Febreze</td>\n",
              "      <td>Spor, Outdoor ve Oto</td>\n",
              "      <td>Oto Ürünleri</td>\n",
              "      <td>Bahar Çiçekleri Araba Kokusu 2 ml</td>\n",
              "      <td>HBV00000TIRU5</td>\n",
              "      <td>None</td>\n",
              "      <td>Meyve ve Sebze</td>\n",
              "      <td>Meyve</td>\n",
              "      <td>Nektarin Paket 500 gr</td>\n",
              "    </tr>\n",
              "    <tr>\n",
              "      <th>1</th>\n",
              "      <td>SGLEPETIT4305</td>\n",
              "      <td>HBV00000TIRU5</td>\n",
              "      <td>0.666667</td>\n",
              "      <td>SGLEPETIT4305</td>\n",
              "      <td>Le Petit Marseillais</td>\n",
              "      <td>Kişisel Bakım</td>\n",
              "      <td>Duş Jelleri ve Sabunlar</td>\n",
              "      <td>Le Petit Marseillais Duş Jeli Şeftali ve Nekta...</td>\n",
              "      <td>HBV00000TIRU5</td>\n",
              "      <td>None</td>\n",
              "      <td>Meyve ve Sebze</td>\n",
              "      <td>Meyve</td>\n",
              "      <td>Nektarin Paket 500 gr</td>\n",
              "    </tr>\n",
              "    <tr>\n",
              "      <th>2</th>\n",
              "      <td>HBV00000O2SIV</td>\n",
              "      <td>HBV00000TIRU5</td>\n",
              "      <td>0.500000</td>\n",
              "      <td>HBV00000O2SIV</td>\n",
              "      <td>None</td>\n",
              "      <td>Meyve ve Sebze</td>\n",
              "      <td>Meyve</td>\n",
              "      <td>Mango Gurme Yemeğe Hazır Adet</td>\n",
              "      <td>HBV00000TIRU5</td>\n",
              "      <td>None</td>\n",
              "      <td>Meyve ve Sebze</td>\n",
              "      <td>Meyve</td>\n",
              "      <td>Nektarin Paket 500 gr</td>\n",
              "    </tr>\n",
              "    <tr>\n",
              "      <th>3</th>\n",
              "      <td>HBV00000PV8Y0</td>\n",
              "      <td>HBV00000TIRU5</td>\n",
              "      <td>0.500000</td>\n",
              "      <td>HBV00000PV8Y0</td>\n",
              "      <td>Knorr</td>\n",
              "      <td>Pratik Yemekler</td>\n",
              "      <td>Hazır Çorbalar</td>\n",
              "      <td>Knorr Terbiyeli Tavuk Çorba 62 g</td>\n",
              "      <td>HBV00000TIRU5</td>\n",
              "      <td>None</td>\n",
              "      <td>Meyve ve Sebze</td>\n",
              "      <td>Meyve</td>\n",
              "      <td>Nektarin Paket 500 gr</td>\n",
              "    </tr>\n",
              "    <tr>\n",
              "      <th>4</th>\n",
              "      <td>HBV00000NFHPD</td>\n",
              "      <td>HBV00000TIRU5</td>\n",
              "      <td>0.500000</td>\n",
              "      <td>HBV00000NFHPD</td>\n",
              "      <td>Exotic</td>\n",
              "      <td>İçecekler</td>\n",
              "      <td>Meyve Suyu</td>\n",
              "      <td>Exotic Portakal Suyu 330 ml</td>\n",
              "      <td>HBV00000TIRU5</td>\n",
              "      <td>None</td>\n",
              "      <td>Meyve ve Sebze</td>\n",
              "      <td>Meyve</td>\n",
              "      <td>Nektarin Paket 500 gr</td>\n",
              "    </tr>\n",
              "    <tr>\n",
              "      <th>...</th>\n",
              "      <td>...</td>\n",
              "      <td>...</td>\n",
              "      <td>...</td>\n",
              "      <td>...</td>\n",
              "      <td>...</td>\n",
              "      <td>...</td>\n",
              "      <td>...</td>\n",
              "      <td>...</td>\n",
              "      <td>...</td>\n",
              "      <td>...</td>\n",
              "      <td>...</td>\n",
              "      <td>...</td>\n",
              "      <td>...</td>\n",
              "    </tr>\n",
              "    <tr>\n",
              "      <th>3184</th>\n",
              "      <td>HBV00000U2B97</td>\n",
              "      <td>HBV00000PV8IF</td>\n",
              "      <td>1.000000</td>\n",
              "      <td>HBV00000U2B97</td>\n",
              "      <td>Hipp</td>\n",
              "      <td>Bebek</td>\n",
              "      <td>Biberon Mamaları</td>\n",
              "      <td>Hipp Organik Yoğurtlu Meyveli Tahıl Bazlı Ek g...</td>\n",
              "      <td>HBV00000PV8IF</td>\n",
              "      <td>Hipp</td>\n",
              "      <td>Bebek</td>\n",
              "      <td>Biberon Mamaları</td>\n",
              "      <td>Hipp Organik Sütlü Meyveli Ek Gıda 250 g</td>\n",
              "    </tr>\n",
              "    <tr>\n",
              "      <th>3185</th>\n",
              "      <td>HBV00000PV8IF</td>\n",
              "      <td>HBV00000U2B97</td>\n",
              "      <td>1.000000</td>\n",
              "      <td>HBV00000PV8IF</td>\n",
              "      <td>Hipp</td>\n",
              "      <td>Bebek</td>\n",
              "      <td>Biberon Mamaları</td>\n",
              "      <td>Hipp Organik Sütlü Meyveli Ek Gıda 250 g</td>\n",
              "      <td>HBV00000U2B97</td>\n",
              "      <td>Hipp</td>\n",
              "      <td>Bebek</td>\n",
              "      <td>Biberon Mamaları</td>\n",
              "      <td>Hipp Organik Yoğurtlu Meyveli Tahıl Bazlı Ek g...</td>\n",
              "    </tr>\n",
              "    <tr>\n",
              "      <th>3186</th>\n",
              "      <td>HBV0000097EJO</td>\n",
              "      <td>ZYBENC336876</td>\n",
              "      <td>1.000000</td>\n",
              "      <td>HBV0000097EJO</td>\n",
              "      <td>Mr. Muscle</td>\n",
              "      <td>Ev Bakım ve Temizlik</td>\n",
              "      <td>Mutfak Ve Banyo Ürünleri</td>\n",
              "      <td>Mr Muscle Promo Mutfak Temizleyici Limon 750 m...</td>\n",
              "      <td>ZYBENC336876</td>\n",
              "      <td>Marc</td>\n",
              "      <td>Ev Bakım ve Temizlik</td>\n",
              "      <td>Mutfak Ve Banyo Ürünleri</td>\n",
              "      <td>Marc Banyo ve Mutfak Temizleyici Yağ Çözücü &amp; ...</td>\n",
              "    </tr>\n",
              "    <tr>\n",
              "      <th>3187</th>\n",
              "      <td>HBV00000PVQBT</td>\n",
              "      <td>HRTEK3TEKIS604</td>\n",
              "      <td>1.000000</td>\n",
              "      <td>HBV00000PVQBT</td>\n",
              "      <td>Tekis</td>\n",
              "      <td>Ev Yaşam ve Bahçe</td>\n",
              "      <td>Hırdavat, Kablo ve Aksesuarlar</td>\n",
              "      <td>Golyat Üçlü Fiş</td>\n",
              "      <td>HRTEK3TEKIS604</td>\n",
              "      <td>TEK-İŞ</td>\n",
              "      <td>Ev Yaşam ve Bahçe</td>\n",
              "      <td>Hırdavat, Kablo ve Aksesuarlar</td>\n",
              "      <td>Tek-İş - Klasik Üçlü Fiş</td>\n",
              "    </tr>\n",
              "    <tr>\n",
              "      <th>3188</th>\n",
              "      <td>HRTEK3TEKIS604</td>\n",
              "      <td>HBV00000PVQBT</td>\n",
              "      <td>1.000000</td>\n",
              "      <td>HRTEK3TEKIS604</td>\n",
              "      <td>TEK-İŞ</td>\n",
              "      <td>Ev Yaşam ve Bahçe</td>\n",
              "      <td>Hırdavat, Kablo ve Aksesuarlar</td>\n",
              "      <td>Tek-İş - Klasik Üçlü Fiş</td>\n",
              "      <td>HBV00000PVQBT</td>\n",
              "      <td>Tekis</td>\n",
              "      <td>Ev Yaşam ve Bahçe</td>\n",
              "      <td>Hırdavat, Kablo ve Aksesuarlar</td>\n",
              "      <td>Golyat Üçlü Fiş</td>\n",
              "    </tr>\n",
              "  </tbody>\n",
              "</table>\n",
              "<p>3189 rows × 13 columns</p>\n",
              "</div>"
            ],
            "text/plain": [
              "         antecedents  ...                                         name_right\n",
              "0      HBV00000PV7JF  ...                              Nektarin Paket 500 gr\n",
              "1      SGLEPETIT4305  ...                              Nektarin Paket 500 gr\n",
              "2      HBV00000O2SIV  ...                              Nektarin Paket 500 gr\n",
              "3      HBV00000PV8Y0  ...                              Nektarin Paket 500 gr\n",
              "4      HBV00000NFHPD  ...                              Nektarin Paket 500 gr\n",
              "...              ...  ...                                                ...\n",
              "3184   HBV00000U2B97  ...           Hipp Organik Sütlü Meyveli Ek Gıda 250 g\n",
              "3185   HBV00000PV8IF  ...  Hipp Organik Yoğurtlu Meyveli Tahıl Bazlı Ek g...\n",
              "3186   HBV0000097EJO  ...  Marc Banyo ve Mutfak Temizleyici Yağ Çözücü & ...\n",
              "3187   HBV00000PVQBT  ...                           Tek-İş - Klasik Üçlü Fiş\n",
              "3188  HRTEK3TEKIS604  ...                                    Golyat Üçlü Fiş\n",
              "\n",
              "[3189 rows x 13 columns]"
            ]
          },
          "metadata": {
            "tags": []
          },
          "execution_count": 155
        }
      ]
    },
    {
      "cell_type": "code",
      "metadata": {
        "id": "1IzQ9OFnEjXl"
      },
      "source": [
        "features_list = list(fb_merged.columns)\n",
        "features_list.remove('confidence')"
      ],
      "execution_count": 156,
      "outputs": []
    },
    {
      "cell_type": "code",
      "metadata": {
        "colab": {
          "base_uri": "https://localhost:8080/",
          "height": 1000
        },
        "id": "EVQFgUanEJ7R",
        "outputId": "bd44b9cc-b93b-4b6c-af0f-5bdfd0b235f9"
      },
      "source": [
        "features = fb_merged[features_list]\n",
        "features"
      ],
      "execution_count": 157,
      "outputs": [
        {
          "output_type": "execute_result",
          "data": {
            "text/html": [
              "<div>\n",
              "<style scoped>\n",
              "    .dataframe tbody tr th:only-of-type {\n",
              "        vertical-align: middle;\n",
              "    }\n",
              "\n",
              "    .dataframe tbody tr th {\n",
              "        vertical-align: top;\n",
              "    }\n",
              "\n",
              "    .dataframe thead th {\n",
              "        text-align: right;\n",
              "    }\n",
              "</style>\n",
              "<table border=\"1\" class=\"dataframe\">\n",
              "  <thead>\n",
              "    <tr style=\"text-align: right;\">\n",
              "      <th></th>\n",
              "      <th>antecedents</th>\n",
              "      <th>consequents</th>\n",
              "      <th>productid</th>\n",
              "      <th>brand</th>\n",
              "      <th>category</th>\n",
              "      <th>subcategory</th>\n",
              "      <th>name</th>\n",
              "      <th>productid_right</th>\n",
              "      <th>brand_right</th>\n",
              "      <th>category_right</th>\n",
              "      <th>subcategory_right</th>\n",
              "      <th>name_right</th>\n",
              "    </tr>\n",
              "  </thead>\n",
              "  <tbody>\n",
              "    <tr>\n",
              "      <th>0</th>\n",
              "      <td>HBV00000PV7JF</td>\n",
              "      <td>HBV00000TIRU5</td>\n",
              "      <td>HBV00000PV7JF</td>\n",
              "      <td>Febreze</td>\n",
              "      <td>Spor, Outdoor ve Oto</td>\n",
              "      <td>Oto Ürünleri</td>\n",
              "      <td>Bahar Çiçekleri Araba Kokusu 2 ml</td>\n",
              "      <td>HBV00000TIRU5</td>\n",
              "      <td>None</td>\n",
              "      <td>Meyve ve Sebze</td>\n",
              "      <td>Meyve</td>\n",
              "      <td>Nektarin Paket 500 gr</td>\n",
              "    </tr>\n",
              "    <tr>\n",
              "      <th>1</th>\n",
              "      <td>SGLEPETIT4305</td>\n",
              "      <td>HBV00000TIRU5</td>\n",
              "      <td>SGLEPETIT4305</td>\n",
              "      <td>Le Petit Marseillais</td>\n",
              "      <td>Kişisel Bakım</td>\n",
              "      <td>Duş Jelleri ve Sabunlar</td>\n",
              "      <td>Le Petit Marseillais Duş Jeli Şeftali ve Nekta...</td>\n",
              "      <td>HBV00000TIRU5</td>\n",
              "      <td>None</td>\n",
              "      <td>Meyve ve Sebze</td>\n",
              "      <td>Meyve</td>\n",
              "      <td>Nektarin Paket 500 gr</td>\n",
              "    </tr>\n",
              "    <tr>\n",
              "      <th>2</th>\n",
              "      <td>HBV00000O2SIV</td>\n",
              "      <td>HBV00000TIRU5</td>\n",
              "      <td>HBV00000O2SIV</td>\n",
              "      <td>None</td>\n",
              "      <td>Meyve ve Sebze</td>\n",
              "      <td>Meyve</td>\n",
              "      <td>Mango Gurme Yemeğe Hazır Adet</td>\n",
              "      <td>HBV00000TIRU5</td>\n",
              "      <td>None</td>\n",
              "      <td>Meyve ve Sebze</td>\n",
              "      <td>Meyve</td>\n",
              "      <td>Nektarin Paket 500 gr</td>\n",
              "    </tr>\n",
              "    <tr>\n",
              "      <th>3</th>\n",
              "      <td>HBV00000PV8Y0</td>\n",
              "      <td>HBV00000TIRU5</td>\n",
              "      <td>HBV00000PV8Y0</td>\n",
              "      <td>Knorr</td>\n",
              "      <td>Pratik Yemekler</td>\n",
              "      <td>Hazır Çorbalar</td>\n",
              "      <td>Knorr Terbiyeli Tavuk Çorba 62 g</td>\n",
              "      <td>HBV00000TIRU5</td>\n",
              "      <td>None</td>\n",
              "      <td>Meyve ve Sebze</td>\n",
              "      <td>Meyve</td>\n",
              "      <td>Nektarin Paket 500 gr</td>\n",
              "    </tr>\n",
              "    <tr>\n",
              "      <th>4</th>\n",
              "      <td>HBV00000NFHPD</td>\n",
              "      <td>HBV00000TIRU5</td>\n",
              "      <td>HBV00000NFHPD</td>\n",
              "      <td>Exotic</td>\n",
              "      <td>İçecekler</td>\n",
              "      <td>Meyve Suyu</td>\n",
              "      <td>Exotic Portakal Suyu 330 ml</td>\n",
              "      <td>HBV00000TIRU5</td>\n",
              "      <td>None</td>\n",
              "      <td>Meyve ve Sebze</td>\n",
              "      <td>Meyve</td>\n",
              "      <td>Nektarin Paket 500 gr</td>\n",
              "    </tr>\n",
              "    <tr>\n",
              "      <th>...</th>\n",
              "      <td>...</td>\n",
              "      <td>...</td>\n",
              "      <td>...</td>\n",
              "      <td>...</td>\n",
              "      <td>...</td>\n",
              "      <td>...</td>\n",
              "      <td>...</td>\n",
              "      <td>...</td>\n",
              "      <td>...</td>\n",
              "      <td>...</td>\n",
              "      <td>...</td>\n",
              "      <td>...</td>\n",
              "    </tr>\n",
              "    <tr>\n",
              "      <th>3184</th>\n",
              "      <td>HBV00000U2B97</td>\n",
              "      <td>HBV00000PV8IF</td>\n",
              "      <td>HBV00000U2B97</td>\n",
              "      <td>Hipp</td>\n",
              "      <td>Bebek</td>\n",
              "      <td>Biberon Mamaları</td>\n",
              "      <td>Hipp Organik Yoğurtlu Meyveli Tahıl Bazlı Ek g...</td>\n",
              "      <td>HBV00000PV8IF</td>\n",
              "      <td>Hipp</td>\n",
              "      <td>Bebek</td>\n",
              "      <td>Biberon Mamaları</td>\n",
              "      <td>Hipp Organik Sütlü Meyveli Ek Gıda 250 g</td>\n",
              "    </tr>\n",
              "    <tr>\n",
              "      <th>3185</th>\n",
              "      <td>HBV00000PV8IF</td>\n",
              "      <td>HBV00000U2B97</td>\n",
              "      <td>HBV00000PV8IF</td>\n",
              "      <td>Hipp</td>\n",
              "      <td>Bebek</td>\n",
              "      <td>Biberon Mamaları</td>\n",
              "      <td>Hipp Organik Sütlü Meyveli Ek Gıda 250 g</td>\n",
              "      <td>HBV00000U2B97</td>\n",
              "      <td>Hipp</td>\n",
              "      <td>Bebek</td>\n",
              "      <td>Biberon Mamaları</td>\n",
              "      <td>Hipp Organik Yoğurtlu Meyveli Tahıl Bazlı Ek g...</td>\n",
              "    </tr>\n",
              "    <tr>\n",
              "      <th>3186</th>\n",
              "      <td>HBV0000097EJO</td>\n",
              "      <td>ZYBENC336876</td>\n",
              "      <td>HBV0000097EJO</td>\n",
              "      <td>Mr. Muscle</td>\n",
              "      <td>Ev Bakım ve Temizlik</td>\n",
              "      <td>Mutfak Ve Banyo Ürünleri</td>\n",
              "      <td>Mr Muscle Promo Mutfak Temizleyici Limon 750 m...</td>\n",
              "      <td>ZYBENC336876</td>\n",
              "      <td>Marc</td>\n",
              "      <td>Ev Bakım ve Temizlik</td>\n",
              "      <td>Mutfak Ve Banyo Ürünleri</td>\n",
              "      <td>Marc Banyo ve Mutfak Temizleyici Yağ Çözücü &amp; ...</td>\n",
              "    </tr>\n",
              "    <tr>\n",
              "      <th>3187</th>\n",
              "      <td>HBV00000PVQBT</td>\n",
              "      <td>HRTEK3TEKIS604</td>\n",
              "      <td>HBV00000PVQBT</td>\n",
              "      <td>Tekis</td>\n",
              "      <td>Ev Yaşam ve Bahçe</td>\n",
              "      <td>Hırdavat, Kablo ve Aksesuarlar</td>\n",
              "      <td>Golyat Üçlü Fiş</td>\n",
              "      <td>HRTEK3TEKIS604</td>\n",
              "      <td>TEK-İŞ</td>\n",
              "      <td>Ev Yaşam ve Bahçe</td>\n",
              "      <td>Hırdavat, Kablo ve Aksesuarlar</td>\n",
              "      <td>Tek-İş - Klasik Üçlü Fiş</td>\n",
              "    </tr>\n",
              "    <tr>\n",
              "      <th>3188</th>\n",
              "      <td>HRTEK3TEKIS604</td>\n",
              "      <td>HBV00000PVQBT</td>\n",
              "      <td>HRTEK3TEKIS604</td>\n",
              "      <td>TEK-İŞ</td>\n",
              "      <td>Ev Yaşam ve Bahçe</td>\n",
              "      <td>Hırdavat, Kablo ve Aksesuarlar</td>\n",
              "      <td>Tek-İş - Klasik Üçlü Fiş</td>\n",
              "      <td>HBV00000PVQBT</td>\n",
              "      <td>Tekis</td>\n",
              "      <td>Ev Yaşam ve Bahçe</td>\n",
              "      <td>Hırdavat, Kablo ve Aksesuarlar</td>\n",
              "      <td>Golyat Üçlü Fiş</td>\n",
              "    </tr>\n",
              "  </tbody>\n",
              "</table>\n",
              "<p>3189 rows × 12 columns</p>\n",
              "</div>"
            ],
            "text/plain": [
              "         antecedents  ...                                         name_right\n",
              "0      HBV00000PV7JF  ...                              Nektarin Paket 500 gr\n",
              "1      SGLEPETIT4305  ...                              Nektarin Paket 500 gr\n",
              "2      HBV00000O2SIV  ...                              Nektarin Paket 500 gr\n",
              "3      HBV00000PV8Y0  ...                              Nektarin Paket 500 gr\n",
              "4      HBV00000NFHPD  ...                              Nektarin Paket 500 gr\n",
              "...              ...  ...                                                ...\n",
              "3184   HBV00000U2B97  ...           Hipp Organik Sütlü Meyveli Ek Gıda 250 g\n",
              "3185   HBV00000PV8IF  ...  Hipp Organik Yoğurtlu Meyveli Tahıl Bazlı Ek g...\n",
              "3186   HBV0000097EJO  ...  Marc Banyo ve Mutfak Temizleyici Yağ Çözücü & ...\n",
              "3187   HBV00000PVQBT  ...                           Tek-İş - Klasik Üçlü Fiş\n",
              "3188  HRTEK3TEKIS604  ...                                    Golyat Üçlü Fiş\n",
              "\n",
              "[3189 rows x 12 columns]"
            ]
          },
          "metadata": {
            "tags": []
          },
          "execution_count": 157
        }
      ]
    },
    {
      "cell_type": "code",
      "metadata": {
        "colab": {
          "base_uri": "https://localhost:8080/"
        },
        "id": "pwbOqmCbFn3m",
        "outputId": "d4898339-312c-4d25-98e1-2b7cba6db55e"
      },
      "source": [
        "fb_merged.info()"
      ],
      "execution_count": 158,
      "outputs": [
        {
          "output_type": "stream",
          "text": [
            "<class 'pandas.core.frame.DataFrame'>\n",
            "Int64Index: 3189 entries, 0 to 3188\n",
            "Data columns (total 13 columns):\n",
            " #   Column             Non-Null Count  Dtype  \n",
            "---  ------             --------------  -----  \n",
            " 0   antecedents        3189 non-null   object \n",
            " 1   consequents        3189 non-null   object \n",
            " 2   confidence         3189 non-null   float64\n",
            " 3   productid          3189 non-null   object \n",
            " 4   brand              3058 non-null   object \n",
            " 5   category           3189 non-null   object \n",
            " 6   subcategory        3189 non-null   object \n",
            " 7   name               3189 non-null   object \n",
            " 8   productid_right    3189 non-null   object \n",
            " 9   brand_right        2498 non-null   object \n",
            " 10  category_right     3189 non-null   object \n",
            " 11  subcategory_right  3189 non-null   object \n",
            " 12  name_right         3189 non-null   object \n",
            "dtypes: float64(1), object(12)\n",
            "memory usage: 348.8+ KB\n"
          ],
          "name": "stdout"
        }
      ]
    },
    {
      "cell_type": "code",
      "metadata": {
        "colab": {
          "base_uri": "https://localhost:8080/"
        },
        "id": "Dy_m2cuXEAoJ",
        "outputId": "1691100b-ed51-4f90-def6-65335dd27cd7"
      },
      "source": [
        "fb_merged.values[0]"
      ],
      "execution_count": 159,
      "outputs": [
        {
          "output_type": "execute_result",
          "data": {
            "text/plain": [
              "array(['HBV00000PV7JF', 'HBV00000TIRU5', 0.6666666666666666,\n",
              "       'HBV00000PV7JF', 'Febreze', 'Spor, Outdoor ve Oto', 'Oto Ürünleri',\n",
              "       'Bahar Çiçekleri Araba Kokusu 2 ml', 'HBV00000TIRU5', None,\n",
              "       'Meyve ve Sebze', 'Meyve', 'Nektarin Paket 500 gr'], dtype=object)"
            ]
          },
          "metadata": {
            "tags": []
          },
          "execution_count": 159
        }
      ]
    },
    {
      "cell_type": "code",
      "metadata": {
        "colab": {
          "base_uri": "https://localhost:8080/",
          "height": 171
        },
        "id": "FOayOlHWGGHY",
        "outputId": "dbf92187-1f60-4c38-b63b-90c6b63e99d3"
      },
      "source": [
        "' '.join(features.values[100])"
      ],
      "execution_count": 160,
      "outputs": [
        {
          "output_type": "error",
          "ename": "TypeError",
          "evalue": "ignored",
          "traceback": [
            "\u001b[0;31m---------------------------------------------------------------------------\u001b[0m",
            "\u001b[0;31mTypeError\u001b[0m                                 Traceback (most recent call last)",
            "\u001b[0;32m<ipython-input-160-879db47aafb3>\u001b[0m in \u001b[0;36m<module>\u001b[0;34m()\u001b[0m\n\u001b[0;32m----> 1\u001b[0;31m \u001b[0;34m' '\u001b[0m\u001b[0;34m.\u001b[0m\u001b[0mjoin\u001b[0m\u001b[0;34m(\u001b[0m\u001b[0mfeatures\u001b[0m\u001b[0;34m.\u001b[0m\u001b[0mvalues\u001b[0m\u001b[0;34m[\u001b[0m\u001b[0;36m100\u001b[0m\u001b[0;34m]\u001b[0m\u001b[0;34m)\u001b[0m\u001b[0;34m\u001b[0m\u001b[0;34m\u001b[0m\u001b[0m\n\u001b[0m",
            "\u001b[0;31mTypeError\u001b[0m: sequence item 8: expected str instance, NoneType found"
          ]
        }
      ]
    },
    {
      "cell_type": "code",
      "metadata": {
        "id": "3WC5zxAuHIgw"
      },
      "source": [
        "features.values"
      ],
      "execution_count": null,
      "outputs": []
    },
    {
      "cell_type": "code",
      "metadata": {
        "id": "kRbKyttxCH6_"
      },
      "source": [
        "#vectorizing using tfidf\n",
        "corpus_list = []\n",
        "for seq in features.values:\n",
        "  try:\n",
        "    x = ' '.join(seq)\n",
        "  except :\n",
        "    pass \n",
        "  corpus_list.append(x)"
      ],
      "execution_count": null,
      "outputs": []
    },
    {
      "cell_type": "code",
      "metadata": {
        "id": "fYjL7w3XLDJh"
      },
      "source": [
        "#split test and training \n",
        "test_size = .2 \n",
        "train_features = corpus_list[:int(len(corpus_list)*(1-test_size))]\n",
        "train_labels = fb_merged.confidence.values[:int(len(corpus_list)*(1-test_size))]"
      ],
      "execution_count": null,
      "outputs": []
    },
    {
      "cell_type": "code",
      "metadata": {
        "id": "Pu2XMu3lL3Oj"
      },
      "source": [
        "len(train_features) - len(train_labels)"
      ],
      "execution_count": null,
      "outputs": []
    },
    {
      "cell_type": "code",
      "metadata": {
        "id": "t0wsZ4ZsIARN"
      },
      "source": [
        "from sklearn.feature_extraction.text import TfidfVectorizer\n",
        "vectorizer = TfidfVectorizer()\n",
        "X= vectorizer.fit_transform(train_features)"
      ],
      "execution_count": null,
      "outputs": []
    },
    {
      "cell_type": "code",
      "metadata": {
        "id": "irTNzZCFQvRa"
      },
      "source": [
        "X"
      ],
      "execution_count": null,
      "outputs": []
    },
    {
      "cell_type": "code",
      "metadata": {
        "id": "wKAcR8daHm4P"
      },
      "source": [
        "len(vectorizer.get_feature_names())"
      ],
      "execution_count": null,
      "outputs": []
    },
    {
      "cell_type": "code",
      "metadata": {
        "id": "cZKjwu1gJ3Lk"
      },
      "source": [
        "encoded = vectorizer.transform(corpus_list[0].split())"
      ],
      "execution_count": null,
      "outputs": []
    },
    {
      "cell_type": "code",
      "metadata": {
        "id": "Udezv4jGJCwf"
      },
      "source": [
        "decoded= vectorizer.inverse_transform(encoded)"
      ],
      "execution_count": null,
      "outputs": []
    },
    {
      "cell_type": "code",
      "metadata": {
        "id": "-HVGFSyBJyo-"
      },
      "source": [
        "for x in decoded:\n",
        "  print(x)"
      ],
      "execution_count": null,
      "outputs": []
    },
    {
      "cell_type": "code",
      "metadata": {
        "id": "DVrnBgQyKmZb"
      },
      "source": [
        "train_features = [vectorizer.transform(train_features)]"
      ],
      "execution_count": null,
      "outputs": []
    },
    {
      "cell_type": "code",
      "metadata": {
        "id": "1zZc8FwAPiJk"
      },
      "source": [
        "X"
      ],
      "execution_count": null,
      "outputs": []
    },
    {
      "cell_type": "code",
      "metadata": {
        "id": "4yYiV9CyP6FL"
      },
      "source": [
        "train_labels[0]"
      ],
      "execution_count": null,
      "outputs": []
    },
    {
      "cell_type": "code",
      "metadata": {
        "id": "PQArBF5GMouZ"
      },
      "source": [
        "from sklearn.ensemble import RandomForestRegressor\n",
        "from sklearn.decomposition import TruncatedSVD\n",
        "pca = TruncatedSVD(350)\n",
        "X = pca.fit_transform(X)\n",
        "regressor = RandomForestRegressor()"
      ],
      "execution_count": null,
      "outputs": []
    },
    {
      "cell_type": "code",
      "metadata": {
        "id": "VVfh3q_5IicL"
      },
      "source": [
        "import numpy as np\n",
        "sum(pca.explained_variance_ratio_)"
      ],
      "execution_count": null,
      "outputs": []
    },
    {
      "cell_type": "code",
      "metadata": {
        "id": "tJmg9FK-xs7E"
      },
      "source": [
        "X[0]"
      ],
      "execution_count": null,
      "outputs": []
    },
    {
      "cell_type": "code",
      "metadata": {
        "id": "ko1Yz8HxZ7PE"
      },
      "source": [
        "regressor.fit(X, train_labels)"
      ],
      "execution_count": null,
      "outputs": []
    },
    {
      "cell_type": "code",
      "metadata": {
        "id": "pXdvduwbZ_4-"
      },
      "source": [
        "features_test = corpus_list[len(X):]\n",
        "features_test = vectorizer.transform(features_test)\n",
        "features_test = pca.transform(features_test)\n",
        "labels_test = fb_merged.confidence.values[len(X):]\n",
        "prediction = regressor.predict(features_test)\n"
      ],
      "execution_count": null,
      "outputs": []
    },
    {
      "cell_type": "code",
      "metadata": {
        "id": "XUPlUhbWyuYE"
      },
      "source": [
        "from sklearn.metrics import mean_squared_error\n",
        "rmse = mean_squared_error(labels_test, prediction, squared=False)"
      ],
      "execution_count": null,
      "outputs": []
    },
    {
      "cell_type": "code",
      "metadata": {
        "id": "44WYOz0C7E6b"
      },
      "source": [
        "rmse"
      ],
      "execution_count": null,
      "outputs": []
    }
  ]
}