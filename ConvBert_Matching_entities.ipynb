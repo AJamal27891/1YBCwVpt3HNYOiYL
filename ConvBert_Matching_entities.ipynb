{
  "nbformat": 4,
  "nbformat_minor": 0,
  "metadata": {
    "colab": {
      "name": "ConvBert_Matching_entities.ipynb",
      "provenance": [],
      "mount_file_id": "1fjtUWw3M2fpu0YSrsl8tHW9D4pXsMv0C",
      "authorship_tag": "ABX9TyNVUXGP4k0DmzRhZOnp2Qo0",
      "include_colab_link": true
    },
    "kernelspec": {
      "name": "python3",
      "display_name": "Python 3"
    },
    "language_info": {
      "name": "python"
    },
    "accelerator": "GPU",
    "widgets": {
      "application/vnd.jupyter.widget-state+json": {
        "43f0d31781504280b96fb0c96ab134a2": {
          "model_module": "@jupyter-widgets/controls",
          "model_name": "HBoxModel",
          "state": {
            "_view_name": "HBoxView",
            "_dom_classes": [],
            "_model_name": "HBoxModel",
            "_view_module": "@jupyter-widgets/controls",
            "_model_module_version": "1.5.0",
            "_view_count": null,
            "_view_module_version": "1.5.0",
            "box_style": "",
            "layout": "IPY_MODEL_028ae02a2c1d4df0b073f7c87bc02436",
            "_model_module": "@jupyter-widgets/controls",
            "children": [
              "IPY_MODEL_5569e8827fbf494fa9775cdd1987125b",
              "IPY_MODEL_221ceaa1d10844fe9bc75a9a9922883b"
            ]
          }
        },
        "028ae02a2c1d4df0b073f7c87bc02436": {
          "model_module": "@jupyter-widgets/base",
          "model_name": "LayoutModel",
          "state": {
            "_view_name": "LayoutView",
            "grid_template_rows": null,
            "right": null,
            "justify_content": null,
            "_view_module": "@jupyter-widgets/base",
            "overflow": null,
            "_model_module_version": "1.2.0",
            "_view_count": null,
            "flex_flow": null,
            "width": null,
            "min_width": null,
            "border": null,
            "align_items": null,
            "bottom": null,
            "_model_module": "@jupyter-widgets/base",
            "top": null,
            "grid_column": null,
            "overflow_y": null,
            "overflow_x": null,
            "grid_auto_flow": null,
            "grid_area": null,
            "grid_template_columns": null,
            "flex": null,
            "_model_name": "LayoutModel",
            "justify_items": null,
            "grid_row": null,
            "max_height": null,
            "align_content": null,
            "visibility": null,
            "align_self": null,
            "height": null,
            "min_height": null,
            "padding": null,
            "grid_auto_rows": null,
            "grid_gap": null,
            "max_width": null,
            "order": null,
            "_view_module_version": "1.2.0",
            "grid_template_areas": null,
            "object_position": null,
            "object_fit": null,
            "grid_auto_columns": null,
            "margin": null,
            "display": null,
            "left": null
          }
        },
        "5569e8827fbf494fa9775cdd1987125b": {
          "model_module": "@jupyter-widgets/controls",
          "model_name": "FloatProgressModel",
          "state": {
            "_view_name": "ProgressView",
            "style": "IPY_MODEL_451803ed534b4f6989509d6855b37ce8",
            "_dom_classes": [],
            "description": "",
            "_model_name": "FloatProgressModel",
            "bar_style": "info",
            "max": 1,
            "_view_module": "@jupyter-widgets/controls",
            "_model_module_version": "1.5.0",
            "value": 1,
            "_view_count": null,
            "_view_module_version": "1.5.0",
            "orientation": "horizontal",
            "min": 0,
            "description_tooltip": null,
            "_model_module": "@jupyter-widgets/controls",
            "layout": "IPY_MODEL_d12e1af9a28043359dde4b90b66b08d5"
          }
        },
        "221ceaa1d10844fe9bc75a9a9922883b": {
          "model_module": "@jupyter-widgets/controls",
          "model_name": "HTMLModel",
          "state": {
            "_view_name": "HTMLView",
            "style": "IPY_MODEL_d2b383374f0b4bd7ad046c1ecf69890d",
            "_dom_classes": [],
            "description": "",
            "_model_name": "HTMLModel",
            "placeholder": "​",
            "_view_module": "@jupyter-widgets/controls",
            "_model_module_version": "1.5.0",
            "value": " 2/? [00:00&lt;00:00,  9.15 tables/s]",
            "_view_count": null,
            "_view_module_version": "1.5.0",
            "description_tooltip": null,
            "_model_module": "@jupyter-widgets/controls",
            "layout": "IPY_MODEL_85d242baabd04e96a456d2c0130cec07"
          }
        },
        "451803ed534b4f6989509d6855b37ce8": {
          "model_module": "@jupyter-widgets/controls",
          "model_name": "ProgressStyleModel",
          "state": {
            "_view_name": "StyleView",
            "_model_name": "ProgressStyleModel",
            "description_width": "initial",
            "_view_module": "@jupyter-widgets/base",
            "_model_module_version": "1.5.0",
            "_view_count": null,
            "_view_module_version": "1.2.0",
            "bar_color": null,
            "_model_module": "@jupyter-widgets/controls"
          }
        },
        "d12e1af9a28043359dde4b90b66b08d5": {
          "model_module": "@jupyter-widgets/base",
          "model_name": "LayoutModel",
          "state": {
            "_view_name": "LayoutView",
            "grid_template_rows": null,
            "right": null,
            "justify_content": null,
            "_view_module": "@jupyter-widgets/base",
            "overflow": null,
            "_model_module_version": "1.2.0",
            "_view_count": null,
            "flex_flow": null,
            "width": null,
            "min_width": null,
            "border": null,
            "align_items": null,
            "bottom": null,
            "_model_module": "@jupyter-widgets/base",
            "top": null,
            "grid_column": null,
            "overflow_y": null,
            "overflow_x": null,
            "grid_auto_flow": null,
            "grid_area": null,
            "grid_template_columns": null,
            "flex": null,
            "_model_name": "LayoutModel",
            "justify_items": null,
            "grid_row": null,
            "max_height": null,
            "align_content": null,
            "visibility": null,
            "align_self": null,
            "height": null,
            "min_height": null,
            "padding": null,
            "grid_auto_rows": null,
            "grid_gap": null,
            "max_width": null,
            "order": null,
            "_view_module_version": "1.2.0",
            "grid_template_areas": null,
            "object_position": null,
            "object_fit": null,
            "grid_auto_columns": null,
            "margin": null,
            "display": null,
            "left": null
          }
        },
        "d2b383374f0b4bd7ad046c1ecf69890d": {
          "model_module": "@jupyter-widgets/controls",
          "model_name": "DescriptionStyleModel",
          "state": {
            "_view_name": "StyleView",
            "_model_name": "DescriptionStyleModel",
            "description_width": "",
            "_view_module": "@jupyter-widgets/base",
            "_model_module_version": "1.5.0",
            "_view_count": null,
            "_view_module_version": "1.2.0",
            "_model_module": "@jupyter-widgets/controls"
          }
        },
        "85d242baabd04e96a456d2c0130cec07": {
          "model_module": "@jupyter-widgets/base",
          "model_name": "LayoutModel",
          "state": {
            "_view_name": "LayoutView",
            "grid_template_rows": null,
            "right": null,
            "justify_content": null,
            "_view_module": "@jupyter-widgets/base",
            "overflow": null,
            "_model_module_version": "1.2.0",
            "_view_count": null,
            "flex_flow": null,
            "width": null,
            "min_width": null,
            "border": null,
            "align_items": null,
            "bottom": null,
            "_model_module": "@jupyter-widgets/base",
            "top": null,
            "grid_column": null,
            "overflow_y": null,
            "overflow_x": null,
            "grid_auto_flow": null,
            "grid_area": null,
            "grid_template_columns": null,
            "flex": null,
            "_model_name": "LayoutModel",
            "justify_items": null,
            "grid_row": null,
            "max_height": null,
            "align_content": null,
            "visibility": null,
            "align_self": null,
            "height": null,
            "min_height": null,
            "padding": null,
            "grid_auto_rows": null,
            "grid_gap": null,
            "max_width": null,
            "order": null,
            "_view_module_version": "1.2.0",
            "grid_template_areas": null,
            "object_position": null,
            "object_fit": null,
            "grid_auto_columns": null,
            "margin": null,
            "display": null,
            "left": null
          }
        },
        "328bbc3cd580478c88a7d03fd98312c9": {
          "model_module": "@jupyter-widgets/controls",
          "model_name": "HBoxModel",
          "state": {
            "_view_name": "HBoxView",
            "_dom_classes": [],
            "_model_name": "HBoxModel",
            "_view_module": "@jupyter-widgets/controls",
            "_model_module_version": "1.5.0",
            "_view_count": null,
            "_view_module_version": "1.5.0",
            "box_style": "",
            "layout": "IPY_MODEL_4ab860b4cc3540058ba3935d89ac1cbc",
            "_model_module": "@jupyter-widgets/controls",
            "children": [
              "IPY_MODEL_6b46daf5c2784cc3a08888252c8c7e36",
              "IPY_MODEL_f91c562ca7bc413fa06785a4390e1249"
            ]
          }
        },
        "4ab860b4cc3540058ba3935d89ac1cbc": {
          "model_module": "@jupyter-widgets/base",
          "model_name": "LayoutModel",
          "state": {
            "_view_name": "LayoutView",
            "grid_template_rows": null,
            "right": null,
            "justify_content": null,
            "_view_module": "@jupyter-widgets/base",
            "overflow": null,
            "_model_module_version": "1.2.0",
            "_view_count": null,
            "flex_flow": null,
            "width": null,
            "min_width": null,
            "border": null,
            "align_items": null,
            "bottom": null,
            "_model_module": "@jupyter-widgets/base",
            "top": null,
            "grid_column": null,
            "overflow_y": null,
            "overflow_x": null,
            "grid_auto_flow": null,
            "grid_area": null,
            "grid_template_columns": null,
            "flex": null,
            "_model_name": "LayoutModel",
            "justify_items": null,
            "grid_row": null,
            "max_height": null,
            "align_content": null,
            "visibility": null,
            "align_self": null,
            "height": null,
            "min_height": null,
            "padding": null,
            "grid_auto_rows": null,
            "grid_gap": null,
            "max_width": null,
            "order": null,
            "_view_module_version": "1.2.0",
            "grid_template_areas": null,
            "object_position": null,
            "object_fit": null,
            "grid_auto_columns": null,
            "margin": null,
            "display": null,
            "left": null
          }
        },
        "6b46daf5c2784cc3a08888252c8c7e36": {
          "model_module": "@jupyter-widgets/controls",
          "model_name": "FloatProgressModel",
          "state": {
            "_view_name": "ProgressView",
            "style": "IPY_MODEL_a84e70c2c7be4e959cec29f10a6287e8",
            "_dom_classes": [],
            "description": "",
            "_model_name": "FloatProgressModel",
            "bar_style": "info",
            "max": 1,
            "_view_module": "@jupyter-widgets/controls",
            "_model_module_version": "1.5.0",
            "value": 1,
            "_view_count": null,
            "_view_module_version": "1.5.0",
            "orientation": "horizontal",
            "min": 0,
            "description_tooltip": null,
            "_model_module": "@jupyter-widgets/controls",
            "layout": "IPY_MODEL_e528e407438f4f65a23b785d7f7f8ac8"
          }
        },
        "f91c562ca7bc413fa06785a4390e1249": {
          "model_module": "@jupyter-widgets/controls",
          "model_name": "HTMLModel",
          "state": {
            "_view_name": "HTMLView",
            "style": "IPY_MODEL_249ac84914ec43708b0c82df231e5a82",
            "_dom_classes": [],
            "description": "",
            "_model_name": "HTMLModel",
            "placeholder": "​",
            "_view_module": "@jupyter-widgets/controls",
            "_model_module_version": "1.5.0",
            "value": " 1/? [00:00&lt;00:00, 19.23 tables/s]",
            "_view_count": null,
            "_view_module_version": "1.5.0",
            "description_tooltip": null,
            "_model_module": "@jupyter-widgets/controls",
            "layout": "IPY_MODEL_c62a0e8b0dfc4536bcd0598aa0b72b93"
          }
        },
        "a84e70c2c7be4e959cec29f10a6287e8": {
          "model_module": "@jupyter-widgets/controls",
          "model_name": "ProgressStyleModel",
          "state": {
            "_view_name": "StyleView",
            "_model_name": "ProgressStyleModel",
            "description_width": "initial",
            "_view_module": "@jupyter-widgets/base",
            "_model_module_version": "1.5.0",
            "_view_count": null,
            "_view_module_version": "1.2.0",
            "bar_color": null,
            "_model_module": "@jupyter-widgets/controls"
          }
        },
        "e528e407438f4f65a23b785d7f7f8ac8": {
          "model_module": "@jupyter-widgets/base",
          "model_name": "LayoutModel",
          "state": {
            "_view_name": "LayoutView",
            "grid_template_rows": null,
            "right": null,
            "justify_content": null,
            "_view_module": "@jupyter-widgets/base",
            "overflow": null,
            "_model_module_version": "1.2.0",
            "_view_count": null,
            "flex_flow": null,
            "width": null,
            "min_width": null,
            "border": null,
            "align_items": null,
            "bottom": null,
            "_model_module": "@jupyter-widgets/base",
            "top": null,
            "grid_column": null,
            "overflow_y": null,
            "overflow_x": null,
            "grid_auto_flow": null,
            "grid_area": null,
            "grid_template_columns": null,
            "flex": null,
            "_model_name": "LayoutModel",
            "justify_items": null,
            "grid_row": null,
            "max_height": null,
            "align_content": null,
            "visibility": null,
            "align_self": null,
            "height": null,
            "min_height": null,
            "padding": null,
            "grid_auto_rows": null,
            "grid_gap": null,
            "max_width": null,
            "order": null,
            "_view_module_version": "1.2.0",
            "grid_template_areas": null,
            "object_position": null,
            "object_fit": null,
            "grid_auto_columns": null,
            "margin": null,
            "display": null,
            "left": null
          }
        },
        "249ac84914ec43708b0c82df231e5a82": {
          "model_module": "@jupyter-widgets/controls",
          "model_name": "DescriptionStyleModel",
          "state": {
            "_view_name": "StyleView",
            "_model_name": "DescriptionStyleModel",
            "description_width": "",
            "_view_module": "@jupyter-widgets/base",
            "_model_module_version": "1.5.0",
            "_view_count": null,
            "_view_module_version": "1.2.0",
            "_model_module": "@jupyter-widgets/controls"
          }
        },
        "c62a0e8b0dfc4536bcd0598aa0b72b93": {
          "model_module": "@jupyter-widgets/base",
          "model_name": "LayoutModel",
          "state": {
            "_view_name": "LayoutView",
            "grid_template_rows": null,
            "right": null,
            "justify_content": null,
            "_view_module": "@jupyter-widgets/base",
            "overflow": null,
            "_model_module_version": "1.2.0",
            "_view_count": null,
            "flex_flow": null,
            "width": null,
            "min_width": null,
            "border": null,
            "align_items": null,
            "bottom": null,
            "_model_module": "@jupyter-widgets/base",
            "top": null,
            "grid_column": null,
            "overflow_y": null,
            "overflow_x": null,
            "grid_auto_flow": null,
            "grid_area": null,
            "grid_template_columns": null,
            "flex": null,
            "_model_name": "LayoutModel",
            "justify_items": null,
            "grid_row": null,
            "max_height": null,
            "align_content": null,
            "visibility": null,
            "align_self": null,
            "height": null,
            "min_height": null,
            "padding": null,
            "grid_auto_rows": null,
            "grid_gap": null,
            "max_width": null,
            "order": null,
            "_view_module_version": "1.2.0",
            "grid_template_areas": null,
            "object_position": null,
            "object_fit": null,
            "grid_auto_columns": null,
            "margin": null,
            "display": null,
            "left": null
          }
        },
        "af92a8ec4c7344e48c99681f4e42f4bc": {
          "model_module": "@jupyter-widgets/controls",
          "model_name": "HBoxModel",
          "state": {
            "_view_name": "HBoxView",
            "_dom_classes": [],
            "_model_name": "HBoxModel",
            "_view_module": "@jupyter-widgets/controls",
            "_model_module_version": "1.5.0",
            "_view_count": null,
            "_view_module_version": "1.5.0",
            "box_style": "",
            "layout": "IPY_MODEL_c6f2c9fb2d1641329ca4a961a08315fd",
            "_model_module": "@jupyter-widgets/controls",
            "children": [
              "IPY_MODEL_a490d60e7eb441aca2575874d62457ce",
              "IPY_MODEL_e377d6450db845faa191482bbf1d6597"
            ]
          }
        },
        "c6f2c9fb2d1641329ca4a961a08315fd": {
          "model_module": "@jupyter-widgets/base",
          "model_name": "LayoutModel",
          "state": {
            "_view_name": "LayoutView",
            "grid_template_rows": null,
            "right": null,
            "justify_content": null,
            "_view_module": "@jupyter-widgets/base",
            "overflow": null,
            "_model_module_version": "1.2.0",
            "_view_count": null,
            "flex_flow": null,
            "width": null,
            "min_width": null,
            "border": null,
            "align_items": null,
            "bottom": null,
            "_model_module": "@jupyter-widgets/base",
            "top": null,
            "grid_column": null,
            "overflow_y": null,
            "overflow_x": null,
            "grid_auto_flow": null,
            "grid_area": null,
            "grid_template_columns": null,
            "flex": null,
            "_model_name": "LayoutModel",
            "justify_items": null,
            "grid_row": null,
            "max_height": null,
            "align_content": null,
            "visibility": null,
            "align_self": null,
            "height": null,
            "min_height": null,
            "padding": null,
            "grid_auto_rows": null,
            "grid_gap": null,
            "max_width": null,
            "order": null,
            "_view_module_version": "1.2.0",
            "grid_template_areas": null,
            "object_position": null,
            "object_fit": null,
            "grid_auto_columns": null,
            "margin": null,
            "display": null,
            "left": null
          }
        },
        "a490d60e7eb441aca2575874d62457ce": {
          "model_module": "@jupyter-widgets/controls",
          "model_name": "FloatProgressModel",
          "state": {
            "_view_name": "ProgressView",
            "style": "IPY_MODEL_d08d03441eb54852b7582f5fda55c9e9",
            "_dom_classes": [],
            "description": "100%",
            "_model_name": "FloatProgressModel",
            "bar_style": "success",
            "max": 31,
            "_view_module": "@jupyter-widgets/controls",
            "_model_module_version": "1.5.0",
            "value": 31,
            "_view_count": null,
            "_view_module_version": "1.5.0",
            "orientation": "horizontal",
            "min": 0,
            "description_tooltip": null,
            "_model_module": "@jupyter-widgets/controls",
            "layout": "IPY_MODEL_41c040060ba94935a570af186b52d069"
          }
        },
        "e377d6450db845faa191482bbf1d6597": {
          "model_module": "@jupyter-widgets/controls",
          "model_name": "HTMLModel",
          "state": {
            "_view_name": "HTMLView",
            "style": "IPY_MODEL_683e29e2cca54c72bd17b1fe28cdd97d",
            "_dom_classes": [],
            "description": "",
            "_model_name": "HTMLModel",
            "placeholder": "​",
            "_view_module": "@jupyter-widgets/controls",
            "_model_module_version": "1.5.0",
            "value": " 31/31 [00:49&lt;00:00,  1.61s/ba]",
            "_view_count": null,
            "_view_module_version": "1.5.0",
            "description_tooltip": null,
            "_model_module": "@jupyter-widgets/controls",
            "layout": "IPY_MODEL_05901a3e1ff841cc9150e3bf5c99a00b"
          }
        },
        "d08d03441eb54852b7582f5fda55c9e9": {
          "model_module": "@jupyter-widgets/controls",
          "model_name": "ProgressStyleModel",
          "state": {
            "_view_name": "StyleView",
            "_model_name": "ProgressStyleModel",
            "description_width": "initial",
            "_view_module": "@jupyter-widgets/base",
            "_model_module_version": "1.5.0",
            "_view_count": null,
            "_view_module_version": "1.2.0",
            "bar_color": null,
            "_model_module": "@jupyter-widgets/controls"
          }
        },
        "41c040060ba94935a570af186b52d069": {
          "model_module": "@jupyter-widgets/base",
          "model_name": "LayoutModel",
          "state": {
            "_view_name": "LayoutView",
            "grid_template_rows": null,
            "right": null,
            "justify_content": null,
            "_view_module": "@jupyter-widgets/base",
            "overflow": null,
            "_model_module_version": "1.2.0",
            "_view_count": null,
            "flex_flow": null,
            "width": null,
            "min_width": null,
            "border": null,
            "align_items": null,
            "bottom": null,
            "_model_module": "@jupyter-widgets/base",
            "top": null,
            "grid_column": null,
            "overflow_y": null,
            "overflow_x": null,
            "grid_auto_flow": null,
            "grid_area": null,
            "grid_template_columns": null,
            "flex": null,
            "_model_name": "LayoutModel",
            "justify_items": null,
            "grid_row": null,
            "max_height": null,
            "align_content": null,
            "visibility": null,
            "align_self": null,
            "height": null,
            "min_height": null,
            "padding": null,
            "grid_auto_rows": null,
            "grid_gap": null,
            "max_width": null,
            "order": null,
            "_view_module_version": "1.2.0",
            "grid_template_areas": null,
            "object_position": null,
            "object_fit": null,
            "grid_auto_columns": null,
            "margin": null,
            "display": null,
            "left": null
          }
        },
        "683e29e2cca54c72bd17b1fe28cdd97d": {
          "model_module": "@jupyter-widgets/controls",
          "model_name": "DescriptionStyleModel",
          "state": {
            "_view_name": "StyleView",
            "_model_name": "DescriptionStyleModel",
            "description_width": "",
            "_view_module": "@jupyter-widgets/base",
            "_model_module_version": "1.5.0",
            "_view_count": null,
            "_view_module_version": "1.2.0",
            "_model_module": "@jupyter-widgets/controls"
          }
        },
        "05901a3e1ff841cc9150e3bf5c99a00b": {
          "model_module": "@jupyter-widgets/base",
          "model_name": "LayoutModel",
          "state": {
            "_view_name": "LayoutView",
            "grid_template_rows": null,
            "right": null,
            "justify_content": null,
            "_view_module": "@jupyter-widgets/base",
            "overflow": null,
            "_model_module_version": "1.2.0",
            "_view_count": null,
            "flex_flow": null,
            "width": null,
            "min_width": null,
            "border": null,
            "align_items": null,
            "bottom": null,
            "_model_module": "@jupyter-widgets/base",
            "top": null,
            "grid_column": null,
            "overflow_y": null,
            "overflow_x": null,
            "grid_auto_flow": null,
            "grid_area": null,
            "grid_template_columns": null,
            "flex": null,
            "_model_name": "LayoutModel",
            "justify_items": null,
            "grid_row": null,
            "max_height": null,
            "align_content": null,
            "visibility": null,
            "align_self": null,
            "height": null,
            "min_height": null,
            "padding": null,
            "grid_auto_rows": null,
            "grid_gap": null,
            "max_width": null,
            "order": null,
            "_view_module_version": "1.2.0",
            "grid_template_areas": null,
            "object_position": null,
            "object_fit": null,
            "grid_auto_columns": null,
            "margin": null,
            "display": null,
            "left": null
          }
        },
        "2afc5bd2f00f46f9934aa820d88d1cc8": {
          "model_module": "@jupyter-widgets/controls",
          "model_name": "HBoxModel",
          "state": {
            "_view_name": "HBoxView",
            "_dom_classes": [],
            "_model_name": "HBoxModel",
            "_view_module": "@jupyter-widgets/controls",
            "_model_module_version": "1.5.0",
            "_view_count": null,
            "_view_module_version": "1.5.0",
            "box_style": "",
            "layout": "IPY_MODEL_aa077791867e481a9227819142f363c6",
            "_model_module": "@jupyter-widgets/controls",
            "children": [
              "IPY_MODEL_5f53ba0e21e642aabb2f741e6625b731",
              "IPY_MODEL_dd1d0617d5b240d4862428a4e8f4ac57"
            ]
          }
        },
        "aa077791867e481a9227819142f363c6": {
          "model_module": "@jupyter-widgets/base",
          "model_name": "LayoutModel",
          "state": {
            "_view_name": "LayoutView",
            "grid_template_rows": null,
            "right": null,
            "justify_content": null,
            "_view_module": "@jupyter-widgets/base",
            "overflow": null,
            "_model_module_version": "1.2.0",
            "_view_count": null,
            "flex_flow": null,
            "width": null,
            "min_width": null,
            "border": null,
            "align_items": null,
            "bottom": null,
            "_model_module": "@jupyter-widgets/base",
            "top": null,
            "grid_column": null,
            "overflow_y": null,
            "overflow_x": null,
            "grid_auto_flow": null,
            "grid_area": null,
            "grid_template_columns": null,
            "flex": null,
            "_model_name": "LayoutModel",
            "justify_items": null,
            "grid_row": null,
            "max_height": null,
            "align_content": null,
            "visibility": null,
            "align_self": null,
            "height": null,
            "min_height": null,
            "padding": null,
            "grid_auto_rows": null,
            "grid_gap": null,
            "max_width": null,
            "order": null,
            "_view_module_version": "1.2.0",
            "grid_template_areas": null,
            "object_position": null,
            "object_fit": null,
            "grid_auto_columns": null,
            "margin": null,
            "display": null,
            "left": null
          }
        },
        "5f53ba0e21e642aabb2f741e6625b731": {
          "model_module": "@jupyter-widgets/controls",
          "model_name": "FloatProgressModel",
          "state": {
            "_view_name": "ProgressView",
            "style": "IPY_MODEL_c34ef2b1efd3445caf1bfb8dee30e7cb",
            "_dom_classes": [],
            "description": "100%",
            "_model_name": "FloatProgressModel",
            "bar_style": "success",
            "max": 2,
            "_view_module": "@jupyter-widgets/controls",
            "_model_module_version": "1.5.0",
            "value": 2,
            "_view_count": null,
            "_view_module_version": "1.5.0",
            "orientation": "horizontal",
            "min": 0,
            "description_tooltip": null,
            "_model_module": "@jupyter-widgets/controls",
            "layout": "IPY_MODEL_19b88c85435746fbb68723395cf83931"
          }
        },
        "dd1d0617d5b240d4862428a4e8f4ac57": {
          "model_module": "@jupyter-widgets/controls",
          "model_name": "HTMLModel",
          "state": {
            "_view_name": "HTMLView",
            "style": "IPY_MODEL_52a4f68412454322890314db11239177",
            "_dom_classes": [],
            "description": "",
            "_model_name": "HTMLModel",
            "placeholder": "​",
            "_view_module": "@jupyter-widgets/controls",
            "_model_module_version": "1.5.0",
            "value": " 2/2 [00:25&lt;00:00, 12.63s/ba]",
            "_view_count": null,
            "_view_module_version": "1.5.0",
            "description_tooltip": null,
            "_model_module": "@jupyter-widgets/controls",
            "layout": "IPY_MODEL_49929cea48bc47c5ac1232b66149abed"
          }
        },
        "c34ef2b1efd3445caf1bfb8dee30e7cb": {
          "model_module": "@jupyter-widgets/controls",
          "model_name": "ProgressStyleModel",
          "state": {
            "_view_name": "StyleView",
            "_model_name": "ProgressStyleModel",
            "description_width": "initial",
            "_view_module": "@jupyter-widgets/base",
            "_model_module_version": "1.5.0",
            "_view_count": null,
            "_view_module_version": "1.2.0",
            "bar_color": null,
            "_model_module": "@jupyter-widgets/controls"
          }
        },
        "19b88c85435746fbb68723395cf83931": {
          "model_module": "@jupyter-widgets/base",
          "model_name": "LayoutModel",
          "state": {
            "_view_name": "LayoutView",
            "grid_template_rows": null,
            "right": null,
            "justify_content": null,
            "_view_module": "@jupyter-widgets/base",
            "overflow": null,
            "_model_module_version": "1.2.0",
            "_view_count": null,
            "flex_flow": null,
            "width": null,
            "min_width": null,
            "border": null,
            "align_items": null,
            "bottom": null,
            "_model_module": "@jupyter-widgets/base",
            "top": null,
            "grid_column": null,
            "overflow_y": null,
            "overflow_x": null,
            "grid_auto_flow": null,
            "grid_area": null,
            "grid_template_columns": null,
            "flex": null,
            "_model_name": "LayoutModel",
            "justify_items": null,
            "grid_row": null,
            "max_height": null,
            "align_content": null,
            "visibility": null,
            "align_self": null,
            "height": null,
            "min_height": null,
            "padding": null,
            "grid_auto_rows": null,
            "grid_gap": null,
            "max_width": null,
            "order": null,
            "_view_module_version": "1.2.0",
            "grid_template_areas": null,
            "object_position": null,
            "object_fit": null,
            "grid_auto_columns": null,
            "margin": null,
            "display": null,
            "left": null
          }
        },
        "52a4f68412454322890314db11239177": {
          "model_module": "@jupyter-widgets/controls",
          "model_name": "DescriptionStyleModel",
          "state": {
            "_view_name": "StyleView",
            "_model_name": "DescriptionStyleModel",
            "description_width": "",
            "_view_module": "@jupyter-widgets/base",
            "_model_module_version": "1.5.0",
            "_view_count": null,
            "_view_module_version": "1.2.0",
            "_model_module": "@jupyter-widgets/controls"
          }
        },
        "49929cea48bc47c5ac1232b66149abed": {
          "model_module": "@jupyter-widgets/base",
          "model_name": "LayoutModel",
          "state": {
            "_view_name": "LayoutView",
            "grid_template_rows": null,
            "right": null,
            "justify_content": null,
            "_view_module": "@jupyter-widgets/base",
            "overflow": null,
            "_model_module_version": "1.2.0",
            "_view_count": null,
            "flex_flow": null,
            "width": null,
            "min_width": null,
            "border": null,
            "align_items": null,
            "bottom": null,
            "_model_module": "@jupyter-widgets/base",
            "top": null,
            "grid_column": null,
            "overflow_y": null,
            "overflow_x": null,
            "grid_auto_flow": null,
            "grid_area": null,
            "grid_template_columns": null,
            "flex": null,
            "_model_name": "LayoutModel",
            "justify_items": null,
            "grid_row": null,
            "max_height": null,
            "align_content": null,
            "visibility": null,
            "align_self": null,
            "height": null,
            "min_height": null,
            "padding": null,
            "grid_auto_rows": null,
            "grid_gap": null,
            "max_width": null,
            "order": null,
            "_view_module_version": "1.2.0",
            "grid_template_areas": null,
            "object_position": null,
            "object_fit": null,
            "grid_auto_columns": null,
            "margin": null,
            "display": null,
            "left": null
          }
        },
        "37cce2dafa0c4aa38534e22134e2a7da": {
          "model_module": "@jupyter-widgets/controls",
          "model_name": "HBoxModel",
          "state": {
            "_view_name": "HBoxView",
            "_dom_classes": [],
            "_model_name": "HBoxModel",
            "_view_module": "@jupyter-widgets/controls",
            "_model_module_version": "1.5.0",
            "_view_count": null,
            "_view_module_version": "1.5.0",
            "box_style": "",
            "layout": "IPY_MODEL_3b35d60a3a0448dfb9ad8bfef63d6bac",
            "_model_module": "@jupyter-widgets/controls",
            "children": [
              "IPY_MODEL_5bd01456efd94da380a0c8785d7623b4",
              "IPY_MODEL_46be9c002aed43708208275aeff45372"
            ]
          }
        },
        "3b35d60a3a0448dfb9ad8bfef63d6bac": {
          "model_module": "@jupyter-widgets/base",
          "model_name": "LayoutModel",
          "state": {
            "_view_name": "LayoutView",
            "grid_template_rows": null,
            "right": null,
            "justify_content": null,
            "_view_module": "@jupyter-widgets/base",
            "overflow": null,
            "_model_module_version": "1.2.0",
            "_view_count": null,
            "flex_flow": null,
            "width": null,
            "min_width": null,
            "border": null,
            "align_items": null,
            "bottom": null,
            "_model_module": "@jupyter-widgets/base",
            "top": null,
            "grid_column": null,
            "overflow_y": null,
            "overflow_x": null,
            "grid_auto_flow": null,
            "grid_area": null,
            "grid_template_columns": null,
            "flex": null,
            "_model_name": "LayoutModel",
            "justify_items": null,
            "grid_row": null,
            "max_height": null,
            "align_content": null,
            "visibility": null,
            "align_self": null,
            "height": null,
            "min_height": null,
            "padding": null,
            "grid_auto_rows": null,
            "grid_gap": null,
            "max_width": null,
            "order": null,
            "_view_module_version": "1.2.0",
            "grid_template_areas": null,
            "object_position": null,
            "object_fit": null,
            "grid_auto_columns": null,
            "margin": null,
            "display": null,
            "left": null
          }
        },
        "5bd01456efd94da380a0c8785d7623b4": {
          "model_module": "@jupyter-widgets/controls",
          "model_name": "FloatProgressModel",
          "state": {
            "_view_name": "ProgressView",
            "style": "IPY_MODEL_9c69d0d6022a4721b7359749f4f2e63f",
            "_dom_classes": [],
            "description": "Downloading: ",
            "_model_name": "FloatProgressModel",
            "bar_style": "success",
            "max": 1905,
            "_view_module": "@jupyter-widgets/controls",
            "_model_module_version": "1.5.0",
            "value": 1905,
            "_view_count": null,
            "_view_module_version": "1.5.0",
            "orientation": "horizontal",
            "min": 0,
            "description_tooltip": null,
            "_model_module": "@jupyter-widgets/controls",
            "layout": "IPY_MODEL_c836ad65d8634dadb8a883fc7fcb5e49"
          }
        },
        "46be9c002aed43708208275aeff45372": {
          "model_module": "@jupyter-widgets/controls",
          "model_name": "HTMLModel",
          "state": {
            "_view_name": "HTMLView",
            "style": "IPY_MODEL_981120129a7343db928b77e336d8e9ec",
            "_dom_classes": [],
            "description": "",
            "_model_name": "HTMLModel",
            "placeholder": "​",
            "_view_module": "@jupyter-widgets/controls",
            "_model_module_version": "1.5.0",
            "value": " 4.38k/? [00:03&lt;00:00, 1.26kB/s]",
            "_view_count": null,
            "_view_module_version": "1.5.0",
            "description_tooltip": null,
            "_model_module": "@jupyter-widgets/controls",
            "layout": "IPY_MODEL_268954fa33f94e9d9770be5baa62fd1f"
          }
        },
        "9c69d0d6022a4721b7359749f4f2e63f": {
          "model_module": "@jupyter-widgets/controls",
          "model_name": "ProgressStyleModel",
          "state": {
            "_view_name": "StyleView",
            "_model_name": "ProgressStyleModel",
            "description_width": "initial",
            "_view_module": "@jupyter-widgets/base",
            "_model_module_version": "1.5.0",
            "_view_count": null,
            "_view_module_version": "1.2.0",
            "bar_color": null,
            "_model_module": "@jupyter-widgets/controls"
          }
        },
        "c836ad65d8634dadb8a883fc7fcb5e49": {
          "model_module": "@jupyter-widgets/base",
          "model_name": "LayoutModel",
          "state": {
            "_view_name": "LayoutView",
            "grid_template_rows": null,
            "right": null,
            "justify_content": null,
            "_view_module": "@jupyter-widgets/base",
            "overflow": null,
            "_model_module_version": "1.2.0",
            "_view_count": null,
            "flex_flow": null,
            "width": null,
            "min_width": null,
            "border": null,
            "align_items": null,
            "bottom": null,
            "_model_module": "@jupyter-widgets/base",
            "top": null,
            "grid_column": null,
            "overflow_y": null,
            "overflow_x": null,
            "grid_auto_flow": null,
            "grid_area": null,
            "grid_template_columns": null,
            "flex": null,
            "_model_name": "LayoutModel",
            "justify_items": null,
            "grid_row": null,
            "max_height": null,
            "align_content": null,
            "visibility": null,
            "align_self": null,
            "height": null,
            "min_height": null,
            "padding": null,
            "grid_auto_rows": null,
            "grid_gap": null,
            "max_width": null,
            "order": null,
            "_view_module_version": "1.2.0",
            "grid_template_areas": null,
            "object_position": null,
            "object_fit": null,
            "grid_auto_columns": null,
            "margin": null,
            "display": null,
            "left": null
          }
        },
        "981120129a7343db928b77e336d8e9ec": {
          "model_module": "@jupyter-widgets/controls",
          "model_name": "DescriptionStyleModel",
          "state": {
            "_view_name": "StyleView",
            "_model_name": "DescriptionStyleModel",
            "description_width": "",
            "_view_module": "@jupyter-widgets/base",
            "_model_module_version": "1.5.0",
            "_view_count": null,
            "_view_module_version": "1.2.0",
            "_model_module": "@jupyter-widgets/controls"
          }
        },
        "268954fa33f94e9d9770be5baa62fd1f": {
          "model_module": "@jupyter-widgets/base",
          "model_name": "LayoutModel",
          "state": {
            "_view_name": "LayoutView",
            "grid_template_rows": null,
            "right": null,
            "justify_content": null,
            "_view_module": "@jupyter-widgets/base",
            "overflow": null,
            "_model_module_version": "1.2.0",
            "_view_count": null,
            "flex_flow": null,
            "width": null,
            "min_width": null,
            "border": null,
            "align_items": null,
            "bottom": null,
            "_model_module": "@jupyter-widgets/base",
            "top": null,
            "grid_column": null,
            "overflow_y": null,
            "overflow_x": null,
            "grid_auto_flow": null,
            "grid_area": null,
            "grid_template_columns": null,
            "flex": null,
            "_model_name": "LayoutModel",
            "justify_items": null,
            "grid_row": null,
            "max_height": null,
            "align_content": null,
            "visibility": null,
            "align_self": null,
            "height": null,
            "min_height": null,
            "padding": null,
            "grid_auto_rows": null,
            "grid_gap": null,
            "max_width": null,
            "order": null,
            "_view_module_version": "1.2.0",
            "grid_template_areas": null,
            "object_position": null,
            "object_fit": null,
            "grid_auto_columns": null,
            "margin": null,
            "display": null,
            "left": null
          }
        },
        "9e386c09338e41cf90e4ac750f87deab": {
          "model_module": "@jupyter-widgets/controls",
          "model_name": "HBoxModel",
          "state": {
            "_view_name": "HBoxView",
            "_dom_classes": [],
            "_model_name": "HBoxModel",
            "_view_module": "@jupyter-widgets/controls",
            "_model_module_version": "1.5.0",
            "_view_count": null,
            "_view_module_version": "1.5.0",
            "box_style": "",
            "layout": "IPY_MODEL_7ff53498df4642a697f397755813e997",
            "_model_module": "@jupyter-widgets/controls",
            "children": [
              "IPY_MODEL_48c719144d05445eb8989955096a126d",
              "IPY_MODEL_c48b709837fe42c1b3185c531143c17f"
            ]
          }
        },
        "7ff53498df4642a697f397755813e997": {
          "model_module": "@jupyter-widgets/base",
          "model_name": "LayoutModel",
          "state": {
            "_view_name": "LayoutView",
            "grid_template_rows": null,
            "right": null,
            "justify_content": null,
            "_view_module": "@jupyter-widgets/base",
            "overflow": null,
            "_model_module_version": "1.2.0",
            "_view_count": null,
            "flex_flow": null,
            "width": null,
            "min_width": null,
            "border": null,
            "align_items": null,
            "bottom": null,
            "_model_module": "@jupyter-widgets/base",
            "top": null,
            "grid_column": null,
            "overflow_y": null,
            "overflow_x": null,
            "grid_auto_flow": null,
            "grid_area": null,
            "grid_template_columns": null,
            "flex": null,
            "_model_name": "LayoutModel",
            "justify_items": null,
            "grid_row": null,
            "max_height": null,
            "align_content": null,
            "visibility": null,
            "align_self": null,
            "height": null,
            "min_height": null,
            "padding": null,
            "grid_auto_rows": null,
            "grid_gap": null,
            "max_width": null,
            "order": null,
            "_view_module_version": "1.2.0",
            "grid_template_areas": null,
            "object_position": null,
            "object_fit": null,
            "grid_auto_columns": null,
            "margin": null,
            "display": null,
            "left": null
          }
        },
        "48c719144d05445eb8989955096a126d": {
          "model_module": "@jupyter-widgets/controls",
          "model_name": "FloatProgressModel",
          "state": {
            "_view_name": "ProgressView",
            "style": "IPY_MODEL_5317ea9c58504f37b58a4f7fdbe18486",
            "_dom_classes": [],
            "description": "",
            "_model_name": "FloatProgressModel",
            "bar_style": "info",
            "max": 1,
            "_view_module": "@jupyter-widgets/controls",
            "_model_module_version": "1.5.0",
            "value": 1,
            "_view_count": null,
            "_view_module_version": "1.5.0",
            "orientation": "horizontal",
            "min": 0,
            "description_tooltip": null,
            "_model_module": "@jupyter-widgets/controls",
            "layout": "IPY_MODEL_b77146c0f1a24154860ec44379dd9c48"
          }
        },
        "c48b709837fe42c1b3185c531143c17f": {
          "model_module": "@jupyter-widgets/controls",
          "model_name": "HTMLModel",
          "state": {
            "_view_name": "HTMLView",
            "style": "IPY_MODEL_f9e9eaebbbc742f2ac1b71ff26a8f893",
            "_dom_classes": [],
            "description": "",
            "_model_name": "HTMLModel",
            "placeholder": "​",
            "_view_module": "@jupyter-widgets/controls",
            "_model_module_version": "1.5.0",
            "value": " 4/? [00:00&lt;00:00,  8.30 tables/s]",
            "_view_count": null,
            "_view_module_version": "1.5.0",
            "description_tooltip": null,
            "_model_module": "@jupyter-widgets/controls",
            "layout": "IPY_MODEL_b19a29a399704572ab1c9ae0af9528c7"
          }
        },
        "5317ea9c58504f37b58a4f7fdbe18486": {
          "model_module": "@jupyter-widgets/controls",
          "model_name": "ProgressStyleModel",
          "state": {
            "_view_name": "StyleView",
            "_model_name": "ProgressStyleModel",
            "description_width": "initial",
            "_view_module": "@jupyter-widgets/base",
            "_model_module_version": "1.5.0",
            "_view_count": null,
            "_view_module_version": "1.2.0",
            "bar_color": null,
            "_model_module": "@jupyter-widgets/controls"
          }
        },
        "b77146c0f1a24154860ec44379dd9c48": {
          "model_module": "@jupyter-widgets/base",
          "model_name": "LayoutModel",
          "state": {
            "_view_name": "LayoutView",
            "grid_template_rows": null,
            "right": null,
            "justify_content": null,
            "_view_module": "@jupyter-widgets/base",
            "overflow": null,
            "_model_module_version": "1.2.0",
            "_view_count": null,
            "flex_flow": null,
            "width": null,
            "min_width": null,
            "border": null,
            "align_items": null,
            "bottom": null,
            "_model_module": "@jupyter-widgets/base",
            "top": null,
            "grid_column": null,
            "overflow_y": null,
            "overflow_x": null,
            "grid_auto_flow": null,
            "grid_area": null,
            "grid_template_columns": null,
            "flex": null,
            "_model_name": "LayoutModel",
            "justify_items": null,
            "grid_row": null,
            "max_height": null,
            "align_content": null,
            "visibility": null,
            "align_self": null,
            "height": null,
            "min_height": null,
            "padding": null,
            "grid_auto_rows": null,
            "grid_gap": null,
            "max_width": null,
            "order": null,
            "_view_module_version": "1.2.0",
            "grid_template_areas": null,
            "object_position": null,
            "object_fit": null,
            "grid_auto_columns": null,
            "margin": null,
            "display": null,
            "left": null
          }
        },
        "f9e9eaebbbc742f2ac1b71ff26a8f893": {
          "model_module": "@jupyter-widgets/controls",
          "model_name": "DescriptionStyleModel",
          "state": {
            "_view_name": "StyleView",
            "_model_name": "DescriptionStyleModel",
            "description_width": "",
            "_view_module": "@jupyter-widgets/base",
            "_model_module_version": "1.5.0",
            "_view_count": null,
            "_view_module_version": "1.2.0",
            "_model_module": "@jupyter-widgets/controls"
          }
        },
        "b19a29a399704572ab1c9ae0af9528c7": {
          "model_module": "@jupyter-widgets/base",
          "model_name": "LayoutModel",
          "state": {
            "_view_name": "LayoutView",
            "grid_template_rows": null,
            "right": null,
            "justify_content": null,
            "_view_module": "@jupyter-widgets/base",
            "overflow": null,
            "_model_module_version": "1.2.0",
            "_view_count": null,
            "flex_flow": null,
            "width": null,
            "min_width": null,
            "border": null,
            "align_items": null,
            "bottom": null,
            "_model_module": "@jupyter-widgets/base",
            "top": null,
            "grid_column": null,
            "overflow_y": null,
            "overflow_x": null,
            "grid_auto_flow": null,
            "grid_area": null,
            "grid_template_columns": null,
            "flex": null,
            "_model_name": "LayoutModel",
            "justify_items": null,
            "grid_row": null,
            "max_height": null,
            "align_content": null,
            "visibility": null,
            "align_self": null,
            "height": null,
            "min_height": null,
            "padding": null,
            "grid_auto_rows": null,
            "grid_gap": null,
            "max_width": null,
            "order": null,
            "_view_module_version": "1.2.0",
            "grid_template_areas": null,
            "object_position": null,
            "object_fit": null,
            "grid_auto_columns": null,
            "margin": null,
            "display": null,
            "left": null
          }
        },
        "c043148c0f614b7a8d22c09b713eed7e": {
          "model_module": "@jupyter-widgets/controls",
          "model_name": "HBoxModel",
          "state": {
            "_view_name": "HBoxView",
            "_dom_classes": [],
            "_model_name": "HBoxModel",
            "_view_module": "@jupyter-widgets/controls",
            "_model_module_version": "1.5.0",
            "_view_count": null,
            "_view_module_version": "1.5.0",
            "box_style": "",
            "layout": "IPY_MODEL_66f01a37ab854ca28078fda9d62cf919",
            "_model_module": "@jupyter-widgets/controls",
            "children": [
              "IPY_MODEL_9c0a903a14a54237affbc48cd1c1bf78",
              "IPY_MODEL_06bc61685b11432eace808455fb0e7e6"
            ]
          }
        },
        "66f01a37ab854ca28078fda9d62cf919": {
          "model_module": "@jupyter-widgets/base",
          "model_name": "LayoutModel",
          "state": {
            "_view_name": "LayoutView",
            "grid_template_rows": null,
            "right": null,
            "justify_content": null,
            "_view_module": "@jupyter-widgets/base",
            "overflow": null,
            "_model_module_version": "1.2.0",
            "_view_count": null,
            "flex_flow": null,
            "width": null,
            "min_width": null,
            "border": null,
            "align_items": null,
            "bottom": null,
            "_model_module": "@jupyter-widgets/base",
            "top": null,
            "grid_column": null,
            "overflow_y": null,
            "overflow_x": null,
            "grid_auto_flow": null,
            "grid_area": null,
            "grid_template_columns": null,
            "flex": null,
            "_model_name": "LayoutModel",
            "justify_items": null,
            "grid_row": null,
            "max_height": null,
            "align_content": null,
            "visibility": null,
            "align_self": null,
            "height": null,
            "min_height": null,
            "padding": null,
            "grid_auto_rows": null,
            "grid_gap": null,
            "max_width": null,
            "order": null,
            "_view_module_version": "1.2.0",
            "grid_template_areas": null,
            "object_position": null,
            "object_fit": null,
            "grid_auto_columns": null,
            "margin": null,
            "display": null,
            "left": null
          }
        },
        "9c0a903a14a54237affbc48cd1c1bf78": {
          "model_module": "@jupyter-widgets/controls",
          "model_name": "FloatProgressModel",
          "state": {
            "_view_name": "ProgressView",
            "style": "IPY_MODEL_01b5b56170914941b03f2aa667b18aff",
            "_dom_classes": [],
            "description": "",
            "_model_name": "FloatProgressModel",
            "bar_style": "info",
            "max": 1,
            "_view_module": "@jupyter-widgets/controls",
            "_model_module_version": "1.5.0",
            "value": 1,
            "_view_count": null,
            "_view_module_version": "1.5.0",
            "orientation": "horizontal",
            "min": 0,
            "description_tooltip": null,
            "_model_module": "@jupyter-widgets/controls",
            "layout": "IPY_MODEL_a4295c0709254ef1bb3400f7a983cd64"
          }
        },
        "06bc61685b11432eace808455fb0e7e6": {
          "model_module": "@jupyter-widgets/controls",
          "model_name": "HTMLModel",
          "state": {
            "_view_name": "HTMLView",
            "style": "IPY_MODEL_c23a587c9949494a8bb54759b377dbc1",
            "_dom_classes": [],
            "description": "",
            "_model_name": "HTMLModel",
            "placeholder": "​",
            "_view_module": "@jupyter-widgets/controls",
            "_model_module_version": "1.5.0",
            "value": " 1/? [00:00&lt;00:00, 11.91 tables/s]",
            "_view_count": null,
            "_view_module_version": "1.5.0",
            "description_tooltip": null,
            "_model_module": "@jupyter-widgets/controls",
            "layout": "IPY_MODEL_4e4296991de945cb8cd1933070463aef"
          }
        },
        "01b5b56170914941b03f2aa667b18aff": {
          "model_module": "@jupyter-widgets/controls",
          "model_name": "ProgressStyleModel",
          "state": {
            "_view_name": "StyleView",
            "_model_name": "ProgressStyleModel",
            "description_width": "initial",
            "_view_module": "@jupyter-widgets/base",
            "_model_module_version": "1.5.0",
            "_view_count": null,
            "_view_module_version": "1.2.0",
            "bar_color": null,
            "_model_module": "@jupyter-widgets/controls"
          }
        },
        "a4295c0709254ef1bb3400f7a983cd64": {
          "model_module": "@jupyter-widgets/base",
          "model_name": "LayoutModel",
          "state": {
            "_view_name": "LayoutView",
            "grid_template_rows": null,
            "right": null,
            "justify_content": null,
            "_view_module": "@jupyter-widgets/base",
            "overflow": null,
            "_model_module_version": "1.2.0",
            "_view_count": null,
            "flex_flow": null,
            "width": null,
            "min_width": null,
            "border": null,
            "align_items": null,
            "bottom": null,
            "_model_module": "@jupyter-widgets/base",
            "top": null,
            "grid_column": null,
            "overflow_y": null,
            "overflow_x": null,
            "grid_auto_flow": null,
            "grid_area": null,
            "grid_template_columns": null,
            "flex": null,
            "_model_name": "LayoutModel",
            "justify_items": null,
            "grid_row": null,
            "max_height": null,
            "align_content": null,
            "visibility": null,
            "align_self": null,
            "height": null,
            "min_height": null,
            "padding": null,
            "grid_auto_rows": null,
            "grid_gap": null,
            "max_width": null,
            "order": null,
            "_view_module_version": "1.2.0",
            "grid_template_areas": null,
            "object_position": null,
            "object_fit": null,
            "grid_auto_columns": null,
            "margin": null,
            "display": null,
            "left": null
          }
        },
        "c23a587c9949494a8bb54759b377dbc1": {
          "model_module": "@jupyter-widgets/controls",
          "model_name": "DescriptionStyleModel",
          "state": {
            "_view_name": "StyleView",
            "_model_name": "DescriptionStyleModel",
            "description_width": "",
            "_view_module": "@jupyter-widgets/base",
            "_model_module_version": "1.5.0",
            "_view_count": null,
            "_view_module_version": "1.2.0",
            "_model_module": "@jupyter-widgets/controls"
          }
        },
        "4e4296991de945cb8cd1933070463aef": {
          "model_module": "@jupyter-widgets/base",
          "model_name": "LayoutModel",
          "state": {
            "_view_name": "LayoutView",
            "grid_template_rows": null,
            "right": null,
            "justify_content": null,
            "_view_module": "@jupyter-widgets/base",
            "overflow": null,
            "_model_module_version": "1.2.0",
            "_view_count": null,
            "flex_flow": null,
            "width": null,
            "min_width": null,
            "border": null,
            "align_items": null,
            "bottom": null,
            "_model_module": "@jupyter-widgets/base",
            "top": null,
            "grid_column": null,
            "overflow_y": null,
            "overflow_x": null,
            "grid_auto_flow": null,
            "grid_area": null,
            "grid_template_columns": null,
            "flex": null,
            "_model_name": "LayoutModel",
            "justify_items": null,
            "grid_row": null,
            "max_height": null,
            "align_content": null,
            "visibility": null,
            "align_self": null,
            "height": null,
            "min_height": null,
            "padding": null,
            "grid_auto_rows": null,
            "grid_gap": null,
            "max_width": null,
            "order": null,
            "_view_module_version": "1.2.0",
            "grid_template_areas": null,
            "object_position": null,
            "object_fit": null,
            "grid_auto_columns": null,
            "margin": null,
            "display": null,
            "left": null
          }
        },
        "8fc2beeda27e4796bf3b9ae0e3a05bcb": {
          "model_module": "@jupyter-widgets/controls",
          "model_name": "HBoxModel",
          "state": {
            "_view_name": "HBoxView",
            "_dom_classes": [],
            "_model_name": "HBoxModel",
            "_view_module": "@jupyter-widgets/controls",
            "_model_module_version": "1.5.0",
            "_view_count": null,
            "_view_module_version": "1.5.0",
            "box_style": "",
            "layout": "IPY_MODEL_d49ced3937fb48b7ad7b247df4f82a8e",
            "_model_module": "@jupyter-widgets/controls",
            "children": [
              "IPY_MODEL_ff9f42e40d374d489706b08cd6146f6b",
              "IPY_MODEL_10147cce68b8490d81b0cb2b3b6db770"
            ]
          }
        },
        "d49ced3937fb48b7ad7b247df4f82a8e": {
          "model_module": "@jupyter-widgets/base",
          "model_name": "LayoutModel",
          "state": {
            "_view_name": "LayoutView",
            "grid_template_rows": null,
            "right": null,
            "justify_content": null,
            "_view_module": "@jupyter-widgets/base",
            "overflow": null,
            "_model_module_version": "1.2.0",
            "_view_count": null,
            "flex_flow": null,
            "width": null,
            "min_width": null,
            "border": null,
            "align_items": null,
            "bottom": null,
            "_model_module": "@jupyter-widgets/base",
            "top": null,
            "grid_column": null,
            "overflow_y": null,
            "overflow_x": null,
            "grid_auto_flow": null,
            "grid_area": null,
            "grid_template_columns": null,
            "flex": null,
            "_model_name": "LayoutModel",
            "justify_items": null,
            "grid_row": null,
            "max_height": null,
            "align_content": null,
            "visibility": null,
            "align_self": null,
            "height": null,
            "min_height": null,
            "padding": null,
            "grid_auto_rows": null,
            "grid_gap": null,
            "max_width": null,
            "order": null,
            "_view_module_version": "1.2.0",
            "grid_template_areas": null,
            "object_position": null,
            "object_fit": null,
            "grid_auto_columns": null,
            "margin": null,
            "display": null,
            "left": null
          }
        },
        "ff9f42e40d374d489706b08cd6146f6b": {
          "model_module": "@jupyter-widgets/controls",
          "model_name": "FloatProgressModel",
          "state": {
            "_view_name": "ProgressView",
            "style": "IPY_MODEL_ccdf6feaf6dd415fa3a3aedd01ade98a",
            "_dom_classes": [],
            "description": "100%",
            "_model_name": "FloatProgressModel",
            "bar_style": "success",
            "max": 31,
            "_view_module": "@jupyter-widgets/controls",
            "_model_module_version": "1.5.0",
            "value": 31,
            "_view_count": null,
            "_view_module_version": "1.5.0",
            "orientation": "horizontal",
            "min": 0,
            "description_tooltip": null,
            "_model_module": "@jupyter-widgets/controls",
            "layout": "IPY_MODEL_6bbf8f5de5d94f96a4fb620db1796bf2"
          }
        },
        "10147cce68b8490d81b0cb2b3b6db770": {
          "model_module": "@jupyter-widgets/controls",
          "model_name": "HTMLModel",
          "state": {
            "_view_name": "HTMLView",
            "style": "IPY_MODEL_b6a67059bf004ce885317f1a08426ffd",
            "_dom_classes": [],
            "description": "",
            "_model_name": "HTMLModel",
            "placeholder": "​",
            "_view_module": "@jupyter-widgets/controls",
            "_model_module_version": "1.5.0",
            "value": " 31/31 [00:11&lt;00:00,  2.60ba/s]",
            "_view_count": null,
            "_view_module_version": "1.5.0",
            "description_tooltip": null,
            "_model_module": "@jupyter-widgets/controls",
            "layout": "IPY_MODEL_fb1928bfd98c4d07bb8e85382e00544a"
          }
        },
        "ccdf6feaf6dd415fa3a3aedd01ade98a": {
          "model_module": "@jupyter-widgets/controls",
          "model_name": "ProgressStyleModel",
          "state": {
            "_view_name": "StyleView",
            "_model_name": "ProgressStyleModel",
            "description_width": "initial",
            "_view_module": "@jupyter-widgets/base",
            "_model_module_version": "1.5.0",
            "_view_count": null,
            "_view_module_version": "1.2.0",
            "bar_color": null,
            "_model_module": "@jupyter-widgets/controls"
          }
        },
        "6bbf8f5de5d94f96a4fb620db1796bf2": {
          "model_module": "@jupyter-widgets/base",
          "model_name": "LayoutModel",
          "state": {
            "_view_name": "LayoutView",
            "grid_template_rows": null,
            "right": null,
            "justify_content": null,
            "_view_module": "@jupyter-widgets/base",
            "overflow": null,
            "_model_module_version": "1.2.0",
            "_view_count": null,
            "flex_flow": null,
            "width": null,
            "min_width": null,
            "border": null,
            "align_items": null,
            "bottom": null,
            "_model_module": "@jupyter-widgets/base",
            "top": null,
            "grid_column": null,
            "overflow_y": null,
            "overflow_x": null,
            "grid_auto_flow": null,
            "grid_area": null,
            "grid_template_columns": null,
            "flex": null,
            "_model_name": "LayoutModel",
            "justify_items": null,
            "grid_row": null,
            "max_height": null,
            "align_content": null,
            "visibility": null,
            "align_self": null,
            "height": null,
            "min_height": null,
            "padding": null,
            "grid_auto_rows": null,
            "grid_gap": null,
            "max_width": null,
            "order": null,
            "_view_module_version": "1.2.0",
            "grid_template_areas": null,
            "object_position": null,
            "object_fit": null,
            "grid_auto_columns": null,
            "margin": null,
            "display": null,
            "left": null
          }
        },
        "b6a67059bf004ce885317f1a08426ffd": {
          "model_module": "@jupyter-widgets/controls",
          "model_name": "DescriptionStyleModel",
          "state": {
            "_view_name": "StyleView",
            "_model_name": "DescriptionStyleModel",
            "description_width": "",
            "_view_module": "@jupyter-widgets/base",
            "_model_module_version": "1.5.0",
            "_view_count": null,
            "_view_module_version": "1.2.0",
            "_model_module": "@jupyter-widgets/controls"
          }
        },
        "fb1928bfd98c4d07bb8e85382e00544a": {
          "model_module": "@jupyter-widgets/base",
          "model_name": "LayoutModel",
          "state": {
            "_view_name": "LayoutView",
            "grid_template_rows": null,
            "right": null,
            "justify_content": null,
            "_view_module": "@jupyter-widgets/base",
            "overflow": null,
            "_model_module_version": "1.2.0",
            "_view_count": null,
            "flex_flow": null,
            "width": null,
            "min_width": null,
            "border": null,
            "align_items": null,
            "bottom": null,
            "_model_module": "@jupyter-widgets/base",
            "top": null,
            "grid_column": null,
            "overflow_y": null,
            "overflow_x": null,
            "grid_auto_flow": null,
            "grid_area": null,
            "grid_template_columns": null,
            "flex": null,
            "_model_name": "LayoutModel",
            "justify_items": null,
            "grid_row": null,
            "max_height": null,
            "align_content": null,
            "visibility": null,
            "align_self": null,
            "height": null,
            "min_height": null,
            "padding": null,
            "grid_auto_rows": null,
            "grid_gap": null,
            "max_width": null,
            "order": null,
            "_view_module_version": "1.2.0",
            "grid_template_areas": null,
            "object_position": null,
            "object_fit": null,
            "grid_auto_columns": null,
            "margin": null,
            "display": null,
            "left": null
          }
        },
        "76b93af660874db5b2a244877d049e57": {
          "model_module": "@jupyter-widgets/controls",
          "model_name": "HBoxModel",
          "state": {
            "_view_name": "HBoxView",
            "_dom_classes": [],
            "_model_name": "HBoxModel",
            "_view_module": "@jupyter-widgets/controls",
            "_model_module_version": "1.5.0",
            "_view_count": null,
            "_view_module_version": "1.5.0",
            "box_style": "",
            "layout": "IPY_MODEL_2b972b52f7ad4544aef9d91976c6a001",
            "_model_module": "@jupyter-widgets/controls",
            "children": [
              "IPY_MODEL_9676b166b5774ccbb020eed570aae07c",
              "IPY_MODEL_8bd860daf7b84bc0b5507f580e68c4c8"
            ]
          }
        },
        "2b972b52f7ad4544aef9d91976c6a001": {
          "model_module": "@jupyter-widgets/base",
          "model_name": "LayoutModel",
          "state": {
            "_view_name": "LayoutView",
            "grid_template_rows": null,
            "right": null,
            "justify_content": null,
            "_view_module": "@jupyter-widgets/base",
            "overflow": null,
            "_model_module_version": "1.2.0",
            "_view_count": null,
            "flex_flow": null,
            "width": null,
            "min_width": null,
            "border": null,
            "align_items": null,
            "bottom": null,
            "_model_module": "@jupyter-widgets/base",
            "top": null,
            "grid_column": null,
            "overflow_y": null,
            "overflow_x": null,
            "grid_auto_flow": null,
            "grid_area": null,
            "grid_template_columns": null,
            "flex": null,
            "_model_name": "LayoutModel",
            "justify_items": null,
            "grid_row": null,
            "max_height": null,
            "align_content": null,
            "visibility": null,
            "align_self": null,
            "height": null,
            "min_height": null,
            "padding": null,
            "grid_auto_rows": null,
            "grid_gap": null,
            "max_width": null,
            "order": null,
            "_view_module_version": "1.2.0",
            "grid_template_areas": null,
            "object_position": null,
            "object_fit": null,
            "grid_auto_columns": null,
            "margin": null,
            "display": null,
            "left": null
          }
        },
        "9676b166b5774ccbb020eed570aae07c": {
          "model_module": "@jupyter-widgets/controls",
          "model_name": "FloatProgressModel",
          "state": {
            "_view_name": "ProgressView",
            "style": "IPY_MODEL_86e8526c4dab4a84846da9afb39f30db",
            "_dom_classes": [],
            "description": "100%",
            "_model_name": "FloatProgressModel",
            "bar_style": "success",
            "max": 2,
            "_view_module": "@jupyter-widgets/controls",
            "_model_module_version": "1.5.0",
            "value": 2,
            "_view_count": null,
            "_view_module_version": "1.5.0",
            "orientation": "horizontal",
            "min": 0,
            "description_tooltip": null,
            "_model_module": "@jupyter-widgets/controls",
            "layout": "IPY_MODEL_6b4b142fc2cb4379a41f97fbacc4e41f"
          }
        },
        "8bd860daf7b84bc0b5507f580e68c4c8": {
          "model_module": "@jupyter-widgets/controls",
          "model_name": "HTMLModel",
          "state": {
            "_view_name": "HTMLView",
            "style": "IPY_MODEL_0534beb5560c444a9dba0174ff6b522d",
            "_dom_classes": [],
            "description": "",
            "_model_name": "HTMLModel",
            "placeholder": "​",
            "_view_module": "@jupyter-widgets/controls",
            "_model_module_version": "1.5.0",
            "value": " 2/2 [01:14&lt;00:00, 37.16s/ba]",
            "_view_count": null,
            "_view_module_version": "1.5.0",
            "description_tooltip": null,
            "_model_module": "@jupyter-widgets/controls",
            "layout": "IPY_MODEL_cc0d0199eb304b1491c185039a748d31"
          }
        },
        "86e8526c4dab4a84846da9afb39f30db": {
          "model_module": "@jupyter-widgets/controls",
          "model_name": "ProgressStyleModel",
          "state": {
            "_view_name": "StyleView",
            "_model_name": "ProgressStyleModel",
            "description_width": "initial",
            "_view_module": "@jupyter-widgets/base",
            "_model_module_version": "1.5.0",
            "_view_count": null,
            "_view_module_version": "1.2.0",
            "bar_color": null,
            "_model_module": "@jupyter-widgets/controls"
          }
        },
        "6b4b142fc2cb4379a41f97fbacc4e41f": {
          "model_module": "@jupyter-widgets/base",
          "model_name": "LayoutModel",
          "state": {
            "_view_name": "LayoutView",
            "grid_template_rows": null,
            "right": null,
            "justify_content": null,
            "_view_module": "@jupyter-widgets/base",
            "overflow": null,
            "_model_module_version": "1.2.0",
            "_view_count": null,
            "flex_flow": null,
            "width": null,
            "min_width": null,
            "border": null,
            "align_items": null,
            "bottom": null,
            "_model_module": "@jupyter-widgets/base",
            "top": null,
            "grid_column": null,
            "overflow_y": null,
            "overflow_x": null,
            "grid_auto_flow": null,
            "grid_area": null,
            "grid_template_columns": null,
            "flex": null,
            "_model_name": "LayoutModel",
            "justify_items": null,
            "grid_row": null,
            "max_height": null,
            "align_content": null,
            "visibility": null,
            "align_self": null,
            "height": null,
            "min_height": null,
            "padding": null,
            "grid_auto_rows": null,
            "grid_gap": null,
            "max_width": null,
            "order": null,
            "_view_module_version": "1.2.0",
            "grid_template_areas": null,
            "object_position": null,
            "object_fit": null,
            "grid_auto_columns": null,
            "margin": null,
            "display": null,
            "left": null
          }
        },
        "0534beb5560c444a9dba0174ff6b522d": {
          "model_module": "@jupyter-widgets/controls",
          "model_name": "DescriptionStyleModel",
          "state": {
            "_view_name": "StyleView",
            "_model_name": "DescriptionStyleModel",
            "description_width": "",
            "_view_module": "@jupyter-widgets/base",
            "_model_module_version": "1.5.0",
            "_view_count": null,
            "_view_module_version": "1.2.0",
            "_model_module": "@jupyter-widgets/controls"
          }
        },
        "cc0d0199eb304b1491c185039a748d31": {
          "model_module": "@jupyter-widgets/base",
          "model_name": "LayoutModel",
          "state": {
            "_view_name": "LayoutView",
            "grid_template_rows": null,
            "right": null,
            "justify_content": null,
            "_view_module": "@jupyter-widgets/base",
            "overflow": null,
            "_model_module_version": "1.2.0",
            "_view_count": null,
            "flex_flow": null,
            "width": null,
            "min_width": null,
            "border": null,
            "align_items": null,
            "bottom": null,
            "_model_module": "@jupyter-widgets/base",
            "top": null,
            "grid_column": null,
            "overflow_y": null,
            "overflow_x": null,
            "grid_auto_flow": null,
            "grid_area": null,
            "grid_template_columns": null,
            "flex": null,
            "_model_name": "LayoutModel",
            "justify_items": null,
            "grid_row": null,
            "max_height": null,
            "align_content": null,
            "visibility": null,
            "align_self": null,
            "height": null,
            "min_height": null,
            "padding": null,
            "grid_auto_rows": null,
            "grid_gap": null,
            "max_width": null,
            "order": null,
            "_view_module_version": "1.2.0",
            "grid_template_areas": null,
            "object_position": null,
            "object_fit": null,
            "grid_auto_columns": null,
            "margin": null,
            "display": null,
            "left": null
          }
        }
      }
    }
  },
  "cells": [
    {
      "cell_type": "markdown",
      "metadata": {
        "id": "view-in-github",
        "colab_type": "text"
      },
      "source": [
        "<a href=\"https://colab.research.google.com/github/AJamal27891/1YBCwVpt3HNYOiYL/blob/main/ConvBert_Matching_entities.ipynb\" target=\"_parent\"><img src=\"https://colab.research.google.com/assets/colab-badge.svg\" alt=\"Open In Colab\"/></a>"
      ]
    },
    {
      "cell_type": "markdown",
      "metadata": {
        "id": "mG-rW9lIvoBq"
      },
      "source": [
        "# download dependencies"
      ]
    },
    {
      "cell_type": "code",
      "metadata": {
        "id": "2FNKhj_Tyksx"
      },
      "source": [
        "!rm -r  test_trainer "
      ],
      "execution_count": 2,
      "outputs": []
    },
    {
      "cell_type": "code",
      "metadata": {
        "colab": {
          "base_uri": "https://localhost:8080/"
        },
        "id": "rL6YqrRWb6PW",
        "outputId": "e64ad142-ae58-4a2e-82bd-c93cd10bd163"
      },
      "source": [
        "!pip install transformers\n",
        "!pip install datasets"
      ],
      "execution_count": 3,
      "outputs": [
        {
          "output_type": "stream",
          "text": [
            "Requirement already satisfied: transformers in /usr/local/lib/python3.7/dist-packages (4.8.2)\n",
            "Requirement already satisfied: regex!=2019.12.17 in /usr/local/lib/python3.7/dist-packages (from transformers) (2019.12.20)\n",
            "Requirement already satisfied: filelock in /usr/local/lib/python3.7/dist-packages (from transformers) (3.0.12)\n",
            "Requirement already satisfied: packaging in /usr/local/lib/python3.7/dist-packages (from transformers) (20.9)\n",
            "Requirement already satisfied: sacremoses in /usr/local/lib/python3.7/dist-packages (from transformers) (0.0.45)\n",
            "Requirement already satisfied: pyyaml in /usr/local/lib/python3.7/dist-packages (from transformers) (3.13)\n",
            "Requirement already satisfied: numpy>=1.17 in /usr/local/lib/python3.7/dist-packages (from transformers) (1.19.5)\n",
            "Requirement already satisfied: huggingface-hub==0.0.12 in /usr/local/lib/python3.7/dist-packages (from transformers) (0.0.12)\n",
            "Requirement already satisfied: tqdm>=4.27 in /usr/local/lib/python3.7/dist-packages (from transformers) (4.41.1)\n",
            "Requirement already satisfied: requests in /usr/local/lib/python3.7/dist-packages (from transformers) (2.23.0)\n",
            "Requirement already satisfied: importlib-metadata; python_version < \"3.8\" in /usr/local/lib/python3.7/dist-packages (from transformers) (4.5.0)\n",
            "Requirement already satisfied: tokenizers<0.11,>=0.10.1 in /usr/local/lib/python3.7/dist-packages (from transformers) (0.10.3)\n",
            "Requirement already satisfied: pyparsing>=2.0.2 in /usr/local/lib/python3.7/dist-packages (from packaging->transformers) (2.4.7)\n",
            "Requirement already satisfied: six in /usr/local/lib/python3.7/dist-packages (from sacremoses->transformers) (1.15.0)\n",
            "Requirement already satisfied: joblib in /usr/local/lib/python3.7/dist-packages (from sacremoses->transformers) (1.0.1)\n",
            "Requirement already satisfied: click in /usr/local/lib/python3.7/dist-packages (from sacremoses->transformers) (7.1.2)\n",
            "Requirement already satisfied: typing-extensions in /usr/local/lib/python3.7/dist-packages (from huggingface-hub==0.0.12->transformers) (3.7.4.3)\n",
            "Requirement already satisfied: chardet<4,>=3.0.2 in /usr/local/lib/python3.7/dist-packages (from requests->transformers) (3.0.4)\n",
            "Requirement already satisfied: urllib3!=1.25.0,!=1.25.1,<1.26,>=1.21.1 in /usr/local/lib/python3.7/dist-packages (from requests->transformers) (1.24.3)\n",
            "Requirement already satisfied: certifi>=2017.4.17 in /usr/local/lib/python3.7/dist-packages (from requests->transformers) (2021.5.30)\n",
            "Requirement already satisfied: idna<3,>=2.5 in /usr/local/lib/python3.7/dist-packages (from requests->transformers) (2.10)\n",
            "Requirement already satisfied: zipp>=0.5 in /usr/local/lib/python3.7/dist-packages (from importlib-metadata; python_version < \"3.8\"->transformers) (3.4.1)\n",
            "Requirement already satisfied: datasets in /usr/local/lib/python3.7/dist-packages (1.8.0)\n",
            "Requirement already satisfied: tqdm<4.50.0,>=4.27 in /usr/local/lib/python3.7/dist-packages (from datasets) (4.41.1)\n",
            "Requirement already satisfied: importlib-metadata; python_version < \"3.8\" in /usr/local/lib/python3.7/dist-packages (from datasets) (4.5.0)\n",
            "Requirement already satisfied: multiprocess in /usr/local/lib/python3.7/dist-packages (from datasets) (0.70.12.2)\n",
            "Requirement already satisfied: fsspec in /usr/local/lib/python3.7/dist-packages (from datasets) (2021.6.1)\n",
            "Requirement already satisfied: pandas in /usr/local/lib/python3.7/dist-packages (from datasets) (1.1.5)\n",
            "Requirement already satisfied: requests>=2.19.0 in /usr/local/lib/python3.7/dist-packages (from datasets) (2.23.0)\n",
            "Requirement already satisfied: xxhash in /usr/local/lib/python3.7/dist-packages (from datasets) (2.0.2)\n",
            "Requirement already satisfied: huggingface-hub<0.1.0 in /usr/local/lib/python3.7/dist-packages (from datasets) (0.0.12)\n",
            "Requirement already satisfied: packaging in /usr/local/lib/python3.7/dist-packages (from datasets) (20.9)\n",
            "Requirement already satisfied: numpy>=1.17 in /usr/local/lib/python3.7/dist-packages (from datasets) (1.19.5)\n",
            "Requirement already satisfied: dill in /usr/local/lib/python3.7/dist-packages (from datasets) (0.3.4)\n",
            "Requirement already satisfied: pyarrow<4.0.0,>=1.0.0 in /usr/local/lib/python3.7/dist-packages (from datasets) (3.0.0)\n",
            "Requirement already satisfied: typing-extensions>=3.6.4; python_version < \"3.8\" in /usr/local/lib/python3.7/dist-packages (from importlib-metadata; python_version < \"3.8\"->datasets) (3.7.4.3)\n",
            "Requirement already satisfied: zipp>=0.5 in /usr/local/lib/python3.7/dist-packages (from importlib-metadata; python_version < \"3.8\"->datasets) (3.4.1)\n",
            "Requirement already satisfied: python-dateutil>=2.7.3 in /usr/local/lib/python3.7/dist-packages (from pandas->datasets) (2.8.1)\n",
            "Requirement already satisfied: pytz>=2017.2 in /usr/local/lib/python3.7/dist-packages (from pandas->datasets) (2018.9)\n",
            "Requirement already satisfied: urllib3!=1.25.0,!=1.25.1,<1.26,>=1.21.1 in /usr/local/lib/python3.7/dist-packages (from requests>=2.19.0->datasets) (1.24.3)\n",
            "Requirement already satisfied: chardet<4,>=3.0.2 in /usr/local/lib/python3.7/dist-packages (from requests>=2.19.0->datasets) (3.0.4)\n",
            "Requirement already satisfied: idna<3,>=2.5 in /usr/local/lib/python3.7/dist-packages (from requests>=2.19.0->datasets) (2.10)\n",
            "Requirement already satisfied: certifi>=2017.4.17 in /usr/local/lib/python3.7/dist-packages (from requests>=2.19.0->datasets) (2021.5.30)\n",
            "Requirement already satisfied: filelock in /usr/local/lib/python3.7/dist-packages (from huggingface-hub<0.1.0->datasets) (3.0.12)\n",
            "Requirement already satisfied: pyparsing>=2.0.2 in /usr/local/lib/python3.7/dist-packages (from packaging->datasets) (2.4.7)\n",
            "Requirement already satisfied: six>=1.5 in /usr/local/lib/python3.7/dist-packages (from python-dateutil>=2.7.3->pandas->datasets) (1.15.0)\n"
          ],
          "name": "stdout"
        }
      ]
    },
    {
      "cell_type": "markdown",
      "metadata": {
        "id": "WF3WDPkDv12A"
      },
      "source": [
        "## load datasets "
      ]
    },
    {
      "cell_type": "code",
      "metadata": {
        "id": "0JuGlmOEpiqr"
      },
      "source": [
        "dirty_walmart_amazon = r'/content/drive/MyDrive/entity-matching-transformer-master/data_DeepMatching/dirty_walmart_amazon'\n",
        "dirty_dblp_scholar = r'/content/drive/MyDrive/entity-matching-transformer-master/data_DeepMatching/dirty_dblp_scholar'\n",
        "dirty_amazon_ituns = r'/content/drive/MyDrive/entity-matching-transformer-master/data_DeepMatching/dirty_amazon_itunes'\n",
        "dirty_dblp_acm = r'/content/drive/MyDrive/entity-matching-transformer-master/data_DeepMatching/dirty_dblp_acm'\n",
        "abt_buy = r'/content/drive/MyDrive/entity-matching-transformer-master/data_DeepMatching/abt_buy'\n",
        "amazon_google = r'/content/drive/MyDrive/entity-matching-transformer-master/data_DeepMatching/amazon_google'\n",
        "QQP= r'/content/drive/MyDrive/entity-matching-transformer-master/data_DeepMatching/QQP'"
      ],
      "execution_count": 4,
      "outputs": []
    },
    {
      "cell_type": "markdown",
      "metadata": {
        "id": "WYXWJMcPv8iX"
      },
      "source": [
        "## Test dataset merger functions"
      ]
    },
    {
      "cell_type": "code",
      "metadata": {
        "id": "MPs0EaCWWy0y"
      },
      "source": [
        "import pandas as pd \n",
        "data_A = pd.DataFrame({'id':[1,2,3,4,5,6],'price':[.2,.5,.6,.7,1,.8],'describtion':['samsung s5','iphone','xperia','sonny','hstc','xomi']})\n",
        "data_B = pd.DataFrame({'id':[1,2,3,4,5,6],'price':[.2,.5,.6,.7,1,.8],'describtion':['iphone','xperia','sonny','huawi','xomi','samsung s5']})\n",
        "lables = pd.DataFrame({'left_id':[1,2,3,4,5,6],'right_id':[6,1,2,3,4,5],'label':[1,1,1,1,0,1]})"
      ],
      "execution_count": 5,
      "outputs": []
    },
    {
      "cell_type": "code",
      "metadata": {
        "colab": {
          "base_uri": "https://localhost:8080/",
          "height": 238
        },
        "id": "S33VggvBYcrU",
        "outputId": "87322fa4-31f1-4fb1-921b-5e3ea2ab186b"
      },
      "source": [
        "total_data = lables.merge(data_A,left_on='left_id',right_on='id')\n",
        "total_data = total_data.merge(data_B,left_on='right_id',right_on='id')\n",
        "total_data"
      ],
      "execution_count": 14,
      "outputs": [
        {
          "output_type": "execute_result",
          "data": {
            "text/html": [
              "<div>\n",
              "<style scoped>\n",
              "    .dataframe tbody tr th:only-of-type {\n",
              "        vertical-align: middle;\n",
              "    }\n",
              "\n",
              "    .dataframe tbody tr th {\n",
              "        vertical-align: top;\n",
              "    }\n",
              "\n",
              "    .dataframe thead th {\n",
              "        text-align: right;\n",
              "    }\n",
              "</style>\n",
              "<table border=\"1\" class=\"dataframe\">\n",
              "  <thead>\n",
              "    <tr style=\"text-align: right;\">\n",
              "      <th></th>\n",
              "      <th>left_id</th>\n",
              "      <th>right_id</th>\n",
              "      <th>label</th>\n",
              "      <th>id_x</th>\n",
              "      <th>price_x</th>\n",
              "      <th>describtion_x</th>\n",
              "      <th>id_y</th>\n",
              "      <th>price_y</th>\n",
              "      <th>describtion_y</th>\n",
              "    </tr>\n",
              "  </thead>\n",
              "  <tbody>\n",
              "    <tr>\n",
              "      <th>0</th>\n",
              "      <td>1</td>\n",
              "      <td>6</td>\n",
              "      <td>1</td>\n",
              "      <td>1</td>\n",
              "      <td>0.2</td>\n",
              "      <td>samsung s5</td>\n",
              "      <td>6</td>\n",
              "      <td>0.8</td>\n",
              "      <td>samsung s5</td>\n",
              "    </tr>\n",
              "    <tr>\n",
              "      <th>1</th>\n",
              "      <td>2</td>\n",
              "      <td>1</td>\n",
              "      <td>1</td>\n",
              "      <td>2</td>\n",
              "      <td>0.5</td>\n",
              "      <td>iphone</td>\n",
              "      <td>1</td>\n",
              "      <td>0.2</td>\n",
              "      <td>iphone</td>\n",
              "    </tr>\n",
              "    <tr>\n",
              "      <th>2</th>\n",
              "      <td>3</td>\n",
              "      <td>2</td>\n",
              "      <td>1</td>\n",
              "      <td>3</td>\n",
              "      <td>0.6</td>\n",
              "      <td>xperia</td>\n",
              "      <td>2</td>\n",
              "      <td>0.5</td>\n",
              "      <td>xperia</td>\n",
              "    </tr>\n",
              "    <tr>\n",
              "      <th>3</th>\n",
              "      <td>4</td>\n",
              "      <td>3</td>\n",
              "      <td>1</td>\n",
              "      <td>4</td>\n",
              "      <td>0.7</td>\n",
              "      <td>sonny</td>\n",
              "      <td>3</td>\n",
              "      <td>0.6</td>\n",
              "      <td>sonny</td>\n",
              "    </tr>\n",
              "    <tr>\n",
              "      <th>4</th>\n",
              "      <td>5</td>\n",
              "      <td>4</td>\n",
              "      <td>0</td>\n",
              "      <td>5</td>\n",
              "      <td>1.0</td>\n",
              "      <td>hstc</td>\n",
              "      <td>4</td>\n",
              "      <td>0.7</td>\n",
              "      <td>huawi</td>\n",
              "    </tr>\n",
              "    <tr>\n",
              "      <th>5</th>\n",
              "      <td>6</td>\n",
              "      <td>5</td>\n",
              "      <td>1</td>\n",
              "      <td>6</td>\n",
              "      <td>0.8</td>\n",
              "      <td>xomi</td>\n",
              "      <td>5</td>\n",
              "      <td>1.0</td>\n",
              "      <td>xomi</td>\n",
              "    </tr>\n",
              "  </tbody>\n",
              "</table>\n",
              "</div>"
            ],
            "text/plain": [
              "   left_id  right_id  label  id_x  ...  describtion_x id_y  price_y  describtion_y\n",
              "0        1         6      1     1  ...     samsung s5    6      0.8     samsung s5\n",
              "1        2         1      1     2  ...         iphone    1      0.2         iphone\n",
              "2        3         2      1     3  ...         xperia    2      0.5         xperia\n",
              "3        4         3      1     4  ...          sonny    3      0.6          sonny\n",
              "4        5         4      0     5  ...           hstc    4      0.7          huawi\n",
              "5        6         5      1     6  ...           xomi    5      1.0           xomi\n",
              "\n",
              "[6 rows x 9 columns]"
            ]
          },
          "metadata": {
            "tags": []
          },
          "execution_count": 14
        }
      ]
    },
    {
      "cell_type": "code",
      "metadata": {
        "id": "tOV_RpcwwJCv"
      },
      "source": [
        "import random\n",
        "def augmentation(df):\n",
        "  first = ['label']\n",
        "  clist = df.columns.tolist()\n",
        "  clist.remove(first[0])\n",
        "  random.shuffle(clist)\n",
        "  df1 = df[first+clist]\n",
        "  random.shuffle(clist)\n",
        "  df2 = df[first+clist]\n",
        "  random.shuffle(clist)\n",
        "  df3 = df[first+clist]\n",
        "  random.shuffle(clist)\n",
        "  df4 = df[first+clist]\n",
        "  return df, df1,df2,df3,df4\n",
        "\n",
        "\n",
        "def remove_id_columns(total_data):\n",
        "  for x in total_data:\n",
        "    if x.endswith('id'):\n",
        "      total_data.drop(x,axis=1,inplace=True)\n",
        "    if x.startswith('id'):\n",
        "      total_data.drop(x,axis=1,inplace=True)\n",
        "  return total_data  \n",
        "\n",
        "def merger(data_A,data_B,train,test,valid,\n",
        "           remove_ids=True,\n",
        "           merge_attributes=True,\n",
        "           drop_original=True,\n",
        "           tuples=True):\n",
        "  train_data = train.merge(data_A,left_on='ltable_id',right_on='id')\n",
        "  train_data = train_data.merge(data_B,left_on='rtable_id',right_on='id')\n",
        "  test_data = test.merge(data_A,left_on='ltable_id',right_on='id')\n",
        "  test_data = test_data.merge(data_B,left_on='rtable_id',right_on='id')\n",
        "  valid_data = valid.merge(data_A,left_on='ltable_id',right_on='id')\n",
        "  valid_data = valid_data.merge(data_B,left_on='rtable_id',right_on='id')\n",
        "  if remove_ids:\n",
        "    train_data = remove_id_columns(train_data)\n",
        "    test_data = remove_id_columns(test_data)\n",
        "    valid_data = remove_id_columns(valid_data)\n",
        "  if merge_attributes:\n",
        "    dfs = augmentation(train_data)\n",
        "    new_dfs = []\n",
        "    for df in dfs:\n",
        "      df.iloc[:,1:]  = train_data.iloc[:,1:].astype(str).apply(lambda x : ' [COL] '+x.name.strip('_y').strip('_x') +' [VAL] '+x)\n",
        "      df['text_left'] =train_data[[c for c in train_data.columns[1:] if c.endswith('_x')]].apply(lambda x :\" [CLS] \" + ' '.join(x.astype(str)) ,axis=1)\n",
        "      df['text_right'] =train_data[[c for c in train_data.columns[1:] if c.endswith('_y')]].apply(lambda x :\" [SEP] \" + ' '.join(x.astype(str)) ,axis=1)\n",
        "      new_dfs.append(df[['label','text_left','text_right']])\n",
        "    train_data = pd.concat(new_dfs)\n",
        "    \n",
        "      \n",
        "    test_data.iloc[:,1:]  = test_data.iloc[:,1:].astype(str).apply(lambda x : ' [COL] '+x.name.strip('_y').strip('_x') +' [VAL] '+x)\n",
        "    test_data['text_left'] =test_data[[c for c in test_data.columns[1:] if c.endswith('_x')]].apply(lambda x :\" [CLS] \" + ' '.join(x.astype(str)) ,axis=1)\n",
        "    test_data['text_right'] =test_data[[c for c in test_data.columns[1:] if c.endswith('_y')]].apply(lambda x :\" [SEP] \" + ' '.join(x.astype(str)) ,axis=1)\n",
        "    valid_data.iloc[:,1:]  = valid_data.iloc[:,1:].astype(str).apply(lambda x : ' [COL]'+x.name.strip('_y').strip('_x') +' [VAL] '+x)\n",
        "    valid_data['text_left'] =valid_data[[c for c in valid_data.columns[1:] if c.endswith('_x')]].apply(lambda x :\" [CLS] \" + ' '.join(x.astype(str)) ,axis=1)\n",
        "    valid_data['text_right'] =valid_data[[c for c in valid_data.columns[1:] if c.endswith('_y')]].apply(lambda x :\" [SEP] \" + ' '.join(x.astype(str)) ,axis=1) \n",
        "\n",
        "  if drop_original:\n",
        "    train_data= train_data[['label','text_left','text_right']]\n",
        "    test_data= test_data[['label','text_left','text_right']]\n",
        "    valid_data= valid_data[['label','text_left','text_right']]\n",
        "  if tuples:\n",
        "    train_data['tuples']= train_data[['text_left','text_right']].values.tolist()\n",
        "    train_data['tuples'] = train_data['tuples'].apply(lambda x: ' '.join(x))\n",
        "    test_data['tuples']= test_data[['text_left','text_right']].values.tolist()\n",
        "    test_data['tuples'] = test_data['tuples'].apply(lambda x: ' '.join(x))\n",
        "    valid_data['tuples']= valid_data[['text_left','text_right']].values.tolist()\n",
        "    valid_data['tuples'] = valid_data['tuples'].apply(lambda x: ' '.join(x))\n",
        "\n",
        "  return train_data, test_data, valid_data"
      ],
      "execution_count": 9,
      "outputs": []
    },
    {
      "cell_type": "markdown",
      "metadata": {
        "id": "p1KTosSUs9QX"
      },
      "source": [
        "# Data Preprocessing"
      ]
    },
    {
      "cell_type": "markdown",
      "metadata": {
        "id": "Mgcc16oDs3B6"
      },
      "source": [
        "## Amazon Google data"
      ]
    },
    {
      "cell_type": "code",
      "metadata": {
        "colab": {
          "base_uri": "https://localhost:8080/",
          "height": 397
        },
        "id": "PkgGgxR9smGS",
        "outputId": "ed56ec12-2b40-4e3e-fa94-779a42411db7"
      },
      "source": [
        "table_A = pd.read_csv(amazon_google+r'/deep_matcher/tableA.csv')\n",
        "table_B = pd.read_csv(amazon_google+r'/deep_matcher/tableB.csv')\n",
        "AG_train = pd.read_csv(amazon_google+r'/deep_matcher/train.csv')\n",
        "AG_test = pd.read_csv(amazon_google+r'/deep_matcher/test.csv')\n",
        "AG_valid = pd.read_csv(amazon_google+r'/deep_matcher/valid.csv')\n",
        "AG_train, AG_test, AG_valid = merger(table_A,table_B,AG_train,AG_test,AG_valid)\n",
        "AG_train.head()"
      ],
      "execution_count": 17,
      "outputs": [
        {
          "output_type": "stream",
          "text": [
            "/usr/local/lib/python3.7/dist-packages/pandas/core/indexing.py:1715: SettingWithCopyWarning: \n",
            "A value is trying to be set on a copy of a slice from a DataFrame.\n",
            "Try using .loc[row_indexer,col_indexer] = value instead\n",
            "\n",
            "See the caveats in the documentation: https://pandas.pydata.org/pandas-docs/stable/user_guide/indexing.html#returning-a-view-versus-a-copy\n",
            "  isetter(loc, v)\n",
            "/usr/local/lib/python3.7/dist-packages/ipykernel_launcher.py:46: SettingWithCopyWarning: \n",
            "A value is trying to be set on a copy of a slice from a DataFrame.\n",
            "Try using .loc[row_indexer,col_indexer] = value instead\n",
            "\n",
            "See the caveats in the documentation: https://pandas.pydata.org/pandas-docs/stable/user_guide/indexing.html#returning-a-view-versus-a-copy\n"
          ],
          "name": "stderr"
        },
        {
          "output_type": "execute_result",
          "data": {
            "text/html": [
              "<div>\n",
              "<style scoped>\n",
              "    .dataframe tbody tr th:only-of-type {\n",
              "        vertical-align: middle;\n",
              "    }\n",
              "\n",
              "    .dataframe tbody tr th {\n",
              "        vertical-align: top;\n",
              "    }\n",
              "\n",
              "    .dataframe thead th {\n",
              "        text-align: right;\n",
              "    }\n",
              "</style>\n",
              "<table border=\"1\" class=\"dataframe\">\n",
              "  <thead>\n",
              "    <tr style=\"text-align: right;\">\n",
              "      <th></th>\n",
              "      <th>label</th>\n",
              "      <th>text_left</th>\n",
              "      <th>text_right</th>\n",
              "      <th>tuples</th>\n",
              "    </tr>\n",
              "  </thead>\n",
              "  <tbody>\n",
              "    <tr>\n",
              "      <th>0</th>\n",
              "      <td>0</td>\n",
              "      <td>[CLS]  [COL] title [VAL] microsoft visio stan...</td>\n",
              "      <td>[SEP]  [COL] title [VAL] adobe cs3 design sta...</td>\n",
              "      <td>[CLS]  [COL] title [VAL] microsoft visio stan...</td>\n",
              "    </tr>\n",
              "    <tr>\n",
              "      <th>1</th>\n",
              "      <td>0</td>\n",
              "      <td>[CLS]  [COL] title [VAL] adobe premiere pro c...</td>\n",
              "      <td>[SEP]  [COL] title [VAL] adobe cs3 design sta...</td>\n",
              "      <td>[CLS]  [COL] title [VAL] adobe premiere pro c...</td>\n",
              "    </tr>\n",
              "    <tr>\n",
              "      <th>2</th>\n",
              "      <td>0</td>\n",
              "      <td>[CLS]  [COL] title [VAL] adobe indesign cs3 u...</td>\n",
              "      <td>[SEP]  [COL] title [VAL] adobe cs3 design sta...</td>\n",
              "      <td>[CLS]  [COL] title [VAL] adobe indesign cs3 u...</td>\n",
              "    </tr>\n",
              "    <tr>\n",
              "      <th>3</th>\n",
              "      <td>0</td>\n",
              "      <td>[CLS]  [COL] title [VAL] adobe creative suite...</td>\n",
              "      <td>[SEP]  [COL] title [VAL] adobe cs3 design sta...</td>\n",
              "      <td>[CLS]  [COL] title [VAL] adobe creative suite...</td>\n",
              "    </tr>\n",
              "    <tr>\n",
              "      <th>4</th>\n",
              "      <td>0</td>\n",
              "      <td>[CLS]  [COL] title [VAL] adobe creative suite...</td>\n",
              "      <td>[SEP]  [COL] title [VAL] adobe cs3 design sta...</td>\n",
              "      <td>[CLS]  [COL] title [VAL] adobe creative suite...</td>\n",
              "    </tr>\n",
              "  </tbody>\n",
              "</table>\n",
              "</div>"
            ],
            "text/plain": [
              "   label  ...                                             tuples\n",
              "0      0  ...   [CLS]  [COL] title [VAL] microsoft visio stan...\n",
              "1      0  ...   [CLS]  [COL] title [VAL] adobe premiere pro c...\n",
              "2      0  ...   [CLS]  [COL] title [VAL] adobe indesign cs3 u...\n",
              "3      0  ...   [CLS]  [COL] title [VAL] adobe creative suite...\n",
              "4      0  ...   [CLS]  [COL] title [VAL] adobe creative suite...\n",
              "\n",
              "[5 rows x 4 columns]"
            ]
          },
          "metadata": {
            "tags": []
          },
          "execution_count": 17
        }
      ]
    },
    {
      "cell_type": "code",
      "metadata": {
        "colab": {
          "base_uri": "https://localhost:8080/",
          "height": 424
        },
        "id": "GT3zmTzPII8F",
        "outputId": "48fed2b5-096c-4817-9cbd-ef2f3c785166"
      },
      "source": [
        "AG_train"
      ],
      "execution_count": 18,
      "outputs": [
        {
          "output_type": "execute_result",
          "data": {
            "text/html": [
              "<div>\n",
              "<style scoped>\n",
              "    .dataframe tbody tr th:only-of-type {\n",
              "        vertical-align: middle;\n",
              "    }\n",
              "\n",
              "    .dataframe tbody tr th {\n",
              "        vertical-align: top;\n",
              "    }\n",
              "\n",
              "    .dataframe thead th {\n",
              "        text-align: right;\n",
              "    }\n",
              "</style>\n",
              "<table border=\"1\" class=\"dataframe\">\n",
              "  <thead>\n",
              "    <tr style=\"text-align: right;\">\n",
              "      <th></th>\n",
              "      <th>label</th>\n",
              "      <th>text_left</th>\n",
              "      <th>text_right</th>\n",
              "      <th>tuples</th>\n",
              "    </tr>\n",
              "  </thead>\n",
              "  <tbody>\n",
              "    <tr>\n",
              "      <th>0</th>\n",
              "      <td>0</td>\n",
              "      <td>[CLS]  [COL] title [VAL] microsoft visio stan...</td>\n",
              "      <td>[SEP]  [COL] title [VAL] adobe cs3 design sta...</td>\n",
              "      <td>[CLS]  [COL] title [VAL] microsoft visio stan...</td>\n",
              "    </tr>\n",
              "    <tr>\n",
              "      <th>1</th>\n",
              "      <td>0</td>\n",
              "      <td>[CLS]  [COL] title [VAL] adobe premiere pro c...</td>\n",
              "      <td>[SEP]  [COL] title [VAL] adobe cs3 design sta...</td>\n",
              "      <td>[CLS]  [COL] title [VAL] adobe premiere pro c...</td>\n",
              "    </tr>\n",
              "    <tr>\n",
              "      <th>2</th>\n",
              "      <td>0</td>\n",
              "      <td>[CLS]  [COL] title [VAL] adobe indesign cs3 u...</td>\n",
              "      <td>[SEP]  [COL] title [VAL] adobe cs3 design sta...</td>\n",
              "      <td>[CLS]  [COL] title [VAL] adobe indesign cs3 u...</td>\n",
              "    </tr>\n",
              "    <tr>\n",
              "      <th>3</th>\n",
              "      <td>0</td>\n",
              "      <td>[CLS]  [COL] title [VAL] adobe creative suite...</td>\n",
              "      <td>[SEP]  [COL] title [VAL] adobe cs3 design sta...</td>\n",
              "      <td>[CLS]  [COL] title [VAL] adobe creative suite...</td>\n",
              "    </tr>\n",
              "    <tr>\n",
              "      <th>4</th>\n",
              "      <td>0</td>\n",
              "      <td>[CLS]  [COL] title [VAL] adobe creative suite...</td>\n",
              "      <td>[SEP]  [COL] title [VAL] adobe cs3 design sta...</td>\n",
              "      <td>[CLS]  [COL] title [VAL] adobe creative suite...</td>\n",
              "    </tr>\n",
              "    <tr>\n",
              "      <th>...</th>\n",
              "      <td>...</td>\n",
              "      <td>...</td>\n",
              "      <td>...</td>\n",
              "      <td>...</td>\n",
              "    </tr>\n",
              "    <tr>\n",
              "      <th>6869</th>\n",
              "      <td>0</td>\n",
              "      <td>[CLS]  [COL] title [VAL] x-oom internet movie...</td>\n",
              "      <td>[SEP]  [COL] title [VAL] feral interactive th...</td>\n",
              "      <td>[CLS]  [COL] title [VAL] x-oom internet movie...</td>\n",
              "    </tr>\n",
              "    <tr>\n",
              "      <th>6870</th>\n",
              "      <td>1</td>\n",
              "      <td>[CLS]  [COL] title [VAL] pc hoyle jewels : sw...</td>\n",
              "      <td>[SEP]  [COL] title [VAL] encore software 1066...</td>\n",
              "      <td>[CLS]  [COL] title [VAL] pc hoyle jewels : sw...</td>\n",
              "    </tr>\n",
              "    <tr>\n",
              "      <th>6871</th>\n",
              "      <td>0</td>\n",
              "      <td>[CLS]  [COL] title [VAL] autodesk discreet co...</td>\n",
              "      <td>[SEP]  [COL] title [VAL] autodesk autodesk co...</td>\n",
              "      <td>[CLS]  [COL] title [VAL] autodesk discreet co...</td>\n",
              "    </tr>\n",
              "    <tr>\n",
              "      <th>6872</th>\n",
              "      <td>0</td>\n",
              "      <td>[CLS]  [COL] title [VAL] virtual labs : light...</td>\n",
              "      <td>[SEP]  [COL] title [VAL] virtual labs : light...</td>\n",
              "      <td>[CLS]  [COL] title [VAL] virtual labs : light...</td>\n",
              "    </tr>\n",
              "    <tr>\n",
              "      <th>6873</th>\n",
              "      <td>1</td>\n",
              "      <td>[CLS]  [COL] title [VAL] encore the big box o...</td>\n",
              "      <td>[SEP]  [COL] title [VAL] encore software 4600...</td>\n",
              "      <td>[CLS]  [COL] title [VAL] encore the big box o...</td>\n",
              "    </tr>\n",
              "  </tbody>\n",
              "</table>\n",
              "<p>34370 rows × 4 columns</p>\n",
              "</div>"
            ],
            "text/plain": [
              "      label  ...                                             tuples\n",
              "0         0  ...   [CLS]  [COL] title [VAL] microsoft visio stan...\n",
              "1         0  ...   [CLS]  [COL] title [VAL] adobe premiere pro c...\n",
              "2         0  ...   [CLS]  [COL] title [VAL] adobe indesign cs3 u...\n",
              "3         0  ...   [CLS]  [COL] title [VAL] adobe creative suite...\n",
              "4         0  ...   [CLS]  [COL] title [VAL] adobe creative suite...\n",
              "...     ...  ...                                                ...\n",
              "6869      0  ...   [CLS]  [COL] title [VAL] x-oom internet movie...\n",
              "6870      1  ...   [CLS]  [COL] title [VAL] pc hoyle jewels : sw...\n",
              "6871      0  ...   [CLS]  [COL] title [VAL] autodesk discreet co...\n",
              "6872      0  ...   [CLS]  [COL] title [VAL] virtual labs : light...\n",
              "6873      1  ...   [CLS]  [COL] title [VAL] encore the big box o...\n",
              "\n",
              "[34370 rows x 4 columns]"
            ]
          },
          "metadata": {
            "tags": []
          },
          "execution_count": 18
        }
      ]
    },
    {
      "cell_type": "code",
      "metadata": {
        "id": "XEcwJpwX-9oG"
      },
      "source": [
        "AG_train = AG_train.groupby('label')\n",
        "AG_train = AG_train.apply(lambda x: x.sample(AG_train.size().min()).reset_index(drop=True))\n",
        "AG_train = AG_train.sample(frac=1).reset_index(drop=True)\n",
        "AG_test = AG_test.groupby('label')\n",
        "AG_test = AG_test.apply(lambda x: x.sample(AG_test.size().min()).reset_index(drop=True))\n",
        "AG_test = AG_test.sample(frac=1).reset_index(drop=True)\n",
        "AG_valid = AG_valid.groupby('label')\n",
        "AG_valid = AG_valid.apply(lambda x: x.sample(AG_valid.size().min()).reset_index(drop=True))\n",
        "AG_valid = AG_valid.sample(frac=1).reset_index(drop=True)\n"
      ],
      "execution_count": 19,
      "outputs": []
    },
    {
      "cell_type": "code",
      "metadata": {
        "colab": {
          "base_uri": "https://localhost:8080/",
          "height": 424
        },
        "id": "HGm-x3soIQDF",
        "outputId": "ed4d1fed-2ed8-46aa-9194-cbcabde8bcc9"
      },
      "source": [
        "AG_train"
      ],
      "execution_count": 20,
      "outputs": [
        {
          "output_type": "execute_result",
          "data": {
            "text/html": [
              "<div>\n",
              "<style scoped>\n",
              "    .dataframe tbody tr th:only-of-type {\n",
              "        vertical-align: middle;\n",
              "    }\n",
              "\n",
              "    .dataframe tbody tr th {\n",
              "        vertical-align: top;\n",
              "    }\n",
              "\n",
              "    .dataframe thead th {\n",
              "        text-align: right;\n",
              "    }\n",
              "</style>\n",
              "<table border=\"1\" class=\"dataframe\">\n",
              "  <thead>\n",
              "    <tr style=\"text-align: right;\">\n",
              "      <th></th>\n",
              "      <th>label</th>\n",
              "      <th>text_left</th>\n",
              "      <th>text_right</th>\n",
              "      <th>tuples</th>\n",
              "    </tr>\n",
              "  </thead>\n",
              "  <tbody>\n",
              "    <tr>\n",
              "      <th>0</th>\n",
              "      <td>0</td>\n",
              "      <td>[CLS]  [COL] title [VAL] adventure workshop p...</td>\n",
              "      <td>[SEP]  [COL] title [VAL] encore software 1242...</td>\n",
              "      <td>[CLS]  [COL] title [VAL] adventure workshop p...</td>\n",
              "    </tr>\n",
              "    <tr>\n",
              "      <th>1</th>\n",
              "      <td>0</td>\n",
              "      <td>[CLS]  [COL] title [VAL] jumpstart 1st grade ...</td>\n",
              "      <td>[SEP]  [COL] title [VAL] brain play 1st-3rd g...</td>\n",
              "      <td>[CLS]  [COL] title [VAL] jumpstart 1st grade ...</td>\n",
              "    </tr>\n",
              "    <tr>\n",
              "      <th>2</th>\n",
              "      <td>1</td>\n",
              "      <td>[CLS]  [COL] title [VAL] quicken 2007 home &amp; ...</td>\n",
              "      <td>[SEP]  [COL] title [VAL] quicken home and bus...</td>\n",
              "      <td>[CLS]  [COL] title [VAL] quicken 2007 home &amp; ...</td>\n",
              "    </tr>\n",
              "    <tr>\n",
              "      <th>3</th>\n",
              "      <td>0</td>\n",
              "      <td>[CLS]  [COL] title [VAL] land before time : k...</td>\n",
              "      <td>[SEP]  [COL] title [VAL] jumpstart kindergart...</td>\n",
              "      <td>[CLS]  [COL] title [VAL] land before time : k...</td>\n",
              "    </tr>\n",
              "    <tr>\n",
              "      <th>4</th>\n",
              "      <td>1</td>\n",
              "      <td>[CLS]  [COL] title [VAL] sibelius 5 professio...</td>\n",
              "      <td>[SEP]  [COL] title [VAL] sibelius sibelius 5 ...</td>\n",
              "      <td>[CLS]  [COL] title [VAL] sibelius 5 professio...</td>\n",
              "    </tr>\n",
              "    <tr>\n",
              "      <th>...</th>\n",
              "      <td>...</td>\n",
              "      <td>...</td>\n",
              "      <td>...</td>\n",
              "      <td>...</td>\n",
              "    </tr>\n",
              "    <tr>\n",
              "      <th>6985</th>\n",
              "      <td>1</td>\n",
              "      <td>[CLS]  [COL] title [VAL] apple remote desktop...</td>\n",
              "      <td>[SEP]  [COL] title [VAL] apple remote desktop...</td>\n",
              "      <td>[CLS]  [COL] title [VAL] apple remote desktop...</td>\n",
              "    </tr>\n",
              "    <tr>\n",
              "      <th>6986</th>\n",
              "      <td>1</td>\n",
              "      <td>[CLS]  [COL] title [VAL] boomerang webpage de...</td>\n",
              "      <td>[SEP]  [COL] title [VAL] web page designer go...</td>\n",
              "      <td>[CLS]  [COL] title [VAL] boomerang webpage de...</td>\n",
              "    </tr>\n",
              "    <tr>\n",
              "      <th>6987</th>\n",
              "      <td>1</td>\n",
              "      <td>[CLS]  [COL] title [VAL] wisdom of the bible ...</td>\n",
              "      <td>[SEP]  [COL] title [VAL] tri synergy inc wisd...</td>\n",
              "      <td>[CLS]  [COL] title [VAL] wisdom of the bible ...</td>\n",
              "    </tr>\n",
              "    <tr>\n",
              "      <th>6988</th>\n",
              "      <td>0</td>\n",
              "      <td>[CLS]  [COL] title [VAL] instant immersion ja...</td>\n",
              "      <td>[SEP]  [COL] title [VAL] instant immersion it...</td>\n",
              "      <td>[CLS]  [COL] title [VAL] instant immersion ja...</td>\n",
              "    </tr>\n",
              "    <tr>\n",
              "      <th>6989</th>\n",
              "      <td>0</td>\n",
              "      <td>[CLS]  [COL] title [VAL] microsoft windows sm...</td>\n",
              "      <td>[SEP]  [COL] title [VAL] microsoft windows xp...</td>\n",
              "      <td>[CLS]  [COL] title [VAL] microsoft windows sm...</td>\n",
              "    </tr>\n",
              "  </tbody>\n",
              "</table>\n",
              "<p>6990 rows × 4 columns</p>\n",
              "</div>"
            ],
            "text/plain": [
              "      label  ...                                             tuples\n",
              "0         0  ...   [CLS]  [COL] title [VAL] adventure workshop p...\n",
              "1         0  ...   [CLS]  [COL] title [VAL] jumpstart 1st grade ...\n",
              "2         1  ...   [CLS]  [COL] title [VAL] quicken 2007 home & ...\n",
              "3         0  ...   [CLS]  [COL] title [VAL] land before time : k...\n",
              "4         1  ...   [CLS]  [COL] title [VAL] sibelius 5 professio...\n",
              "...     ...  ...                                                ...\n",
              "6985      1  ...   [CLS]  [COL] title [VAL] apple remote desktop...\n",
              "6986      1  ...   [CLS]  [COL] title [VAL] boomerang webpage de...\n",
              "6987      1  ...   [CLS]  [COL] title [VAL] wisdom of the bible ...\n",
              "6988      0  ...   [CLS]  [COL] title [VAL] instant immersion ja...\n",
              "6989      0  ...   [CLS]  [COL] title [VAL] microsoft windows sm...\n",
              "\n",
              "[6990 rows x 4 columns]"
            ]
          },
          "metadata": {
            "tags": []
          },
          "execution_count": 20
        }
      ]
    },
    {
      "cell_type": "code",
      "metadata": {
        "id": "vGTSs9-r9bjq"
      },
      "source": [
        "import os \n",
        "try:\n",
        "  os.mkdir('merged_data')\n",
        "  os.mkdir('merged_data/amazon_google')\n",
        "except FileExistsError:\n",
        "  pass\n",
        "\n",
        "AG_train.to_csv(r'merged_data/amazon_google/train.csv')\n",
        "AG_test.to_csv(r'merged_data/amazon_google/test.csv')\n",
        "AG_valid.to_csv(r'merged_data/amazon_google/valid.csv')\n",
        "\n"
      ],
      "execution_count": 21,
      "outputs": []
    },
    {
      "cell_type": "code",
      "metadata": {
        "colab": {
          "base_uri": "https://localhost:8080/",
          "height": 89,
          "referenced_widgets": [
            "43f0d31781504280b96fb0c96ab134a2",
            "028ae02a2c1d4df0b073f7c87bc02436",
            "5569e8827fbf494fa9775cdd1987125b",
            "221ceaa1d10844fe9bc75a9a9922883b",
            "451803ed534b4f6989509d6855b37ce8",
            "d12e1af9a28043359dde4b90b66b08d5",
            "d2b383374f0b4bd7ad046c1ecf69890d",
            "85d242baabd04e96a456d2c0130cec07",
            "328bbc3cd580478c88a7d03fd98312c9",
            "4ab860b4cc3540058ba3935d89ac1cbc",
            "6b46daf5c2784cc3a08888252c8c7e36",
            "f91c562ca7bc413fa06785a4390e1249",
            "a84e70c2c7be4e959cec29f10a6287e8",
            "e528e407438f4f65a23b785d7f7f8ac8",
            "249ac84914ec43708b0c82df231e5a82",
            "c62a0e8b0dfc4536bcd0598aa0b72b93"
          ]
        },
        "id": "ZsbzHx0GrAQY",
        "outputId": "198ed7d3-1bf4-4da5-d2a7-99dae6e7daf8"
      },
      "source": [
        "from datasets import load_dataset\n",
        "raw_datasets = load_dataset('csv',data_files={'train':['merged_data/amazon_google/train.csv','merged_data/amazon_google/valid.csv'],\n",
        "                                              'test':'merged_data/amazon_google/test.csv',\n",
        "                                              })"
      ],
      "execution_count": 22,
      "outputs": [
        {
          "output_type": "stream",
          "text": [
            "Using custom data configuration default-3b43034c075bb555\n"
          ],
          "name": "stderr"
        },
        {
          "output_type": "stream",
          "text": [
            "Downloading and preparing dataset csv/default (download: Unknown size, generated: Unknown size, post-processed: Unknown size, total: Unknown size) to /root/.cache/huggingface/datasets/csv/default-3b43034c075bb555/0.0.0/2dc6629a9ff6b5697d82c25b73731dd440507a69cbce8b425db50b751e8fcfd0...\n"
          ],
          "name": "stdout"
        },
        {
          "output_type": "display_data",
          "data": {
            "application/vnd.jupyter.widget-view+json": {
              "model_id": "43f0d31781504280b96fb0c96ab134a2",
              "version_minor": 0,
              "version_major": 2
            },
            "text/plain": [
              "HBox(children=(FloatProgress(value=1.0, bar_style='info', max=1.0), HTML(value='')))"
            ]
          },
          "metadata": {
            "tags": []
          }
        },
        {
          "output_type": "stream",
          "text": [
            "\r"
          ],
          "name": "stdout"
        },
        {
          "output_type": "display_data",
          "data": {
            "application/vnd.jupyter.widget-view+json": {
              "model_id": "328bbc3cd580478c88a7d03fd98312c9",
              "version_minor": 0,
              "version_major": 2
            },
            "text/plain": [
              "HBox(children=(FloatProgress(value=1.0, bar_style='info', max=1.0), HTML(value='')))"
            ]
          },
          "metadata": {
            "tags": []
          }
        },
        {
          "output_type": "stream",
          "text": [
            "\rDataset csv downloaded and prepared to /root/.cache/huggingface/datasets/csv/default-3b43034c075bb555/0.0.0/2dc6629a9ff6b5697d82c25b73731dd440507a69cbce8b425db50b751e8fcfd0. Subsequent calls will reuse this data.\n"
          ],
          "name": "stdout"
        }
      ]
    },
    {
      "cell_type": "code",
      "metadata": {
        "id": "GLTeCIuLbs-x"
      },
      "source": [
        "from transformers import AutoTokenizer\n",
        "\n",
        "tokenizer = AutoTokenizer.from_pretrained(\"YituTech/conv-bert-base\")"
      ],
      "execution_count": 14,
      "outputs": []
    },
    {
      "cell_type": "code",
      "metadata": {
        "colab": {
          "base_uri": "https://localhost:8080/",
          "height": 153,
          "referenced_widgets": [
            "af92a8ec4c7344e48c99681f4e42f4bc",
            "c6f2c9fb2d1641329ca4a961a08315fd",
            "a490d60e7eb441aca2575874d62457ce",
            "e377d6450db845faa191482bbf1d6597",
            "d08d03441eb54852b7582f5fda55c9e9",
            "41c040060ba94935a570af186b52d069",
            "683e29e2cca54c72bd17b1fe28cdd97d",
            "05901a3e1ff841cc9150e3bf5c99a00b",
            "2afc5bd2f00f46f9934aa820d88d1cc8",
            "aa077791867e481a9227819142f363c6",
            "5f53ba0e21e642aabb2f741e6625b731",
            "dd1d0617d5b240d4862428a4e8f4ac57",
            "c34ef2b1efd3445caf1bfb8dee30e7cb",
            "19b88c85435746fbb68723395cf83931",
            "52a4f68412454322890314db11239177",
            "49929cea48bc47c5ac1232b66149abed"
          ]
        },
        "id": "ArLWe4hP-9Vb",
        "outputId": "e23a1f18-6e3e-4c35-ddfd-e7d8274497da"
      },
      "source": [
        "def tokenize_function(examples):\n",
        "    # examples['text_left'].head()\n",
        "    # examples['tuples'] = examples[[\"text_left\",\"text_right\"]].apply(lambda x: (x[0],x[1]),axis=1)\n",
        "    return tokenizer(examples['tuples'], padding=\"max_length\", truncation=True,max_length=128)\n",
        "\n",
        "tokenized_datasets = raw_datasets.map(tokenize_function, batched=True)"
      ],
      "execution_count": 16,
      "outputs": [
        {
          "output_type": "stream",
          "text": [
            "Parameter 'function'=<function tokenize_function at 0x7fac3065a170> of the transform datasets.arrow_dataset.Dataset._map_single couldn't be hashed properly, a random hash was used instead. Make sure your transforms and parameters are serializable with pickle or dill for the dataset fingerprinting and caching to work. If you reuse this transform, the caching mechanism will consider it to be different from the previous calls and recompute everything. This warning is only showed once. Subsequent hashing failures won't be showed.\n"
          ],
          "name": "stderr"
        },
        {
          "output_type": "display_data",
          "data": {
            "application/vnd.jupyter.widget-view+json": {
              "model_id": "af92a8ec4c7344e48c99681f4e42f4bc",
              "version_minor": 0,
              "version_major": 2
            },
            "text/plain": [
              "HBox(children=(FloatProgress(value=0.0, max=31.0), HTML(value='')))"
            ]
          },
          "metadata": {
            "tags": []
          }
        },
        {
          "output_type": "stream",
          "text": [
            "\n"
          ],
          "name": "stdout"
        },
        {
          "output_type": "display_data",
          "data": {
            "application/vnd.jupyter.widget-view+json": {
              "model_id": "2afc5bd2f00f46f9934aa820d88d1cc8",
              "version_minor": 0,
              "version_major": 2
            },
            "text/plain": [
              "HBox(children=(FloatProgress(value=0.0, max=2.0), HTML(value='')))"
            ]
          },
          "metadata": {
            "tags": []
          }
        },
        {
          "output_type": "stream",
          "text": [
            "\n"
          ],
          "name": "stdout"
        }
      ]
    },
    {
      "cell_type": "code",
      "metadata": {
        "colab": {
          "base_uri": "https://localhost:8080/",
          "height": 87
        },
        "id": "vv1FWbZjRmdY",
        "outputId": "a9d3b975-be05-464d-cdd5-ad19dd94fe4e"
      },
      "source": [
        "tokenized_datasets = tokenized_datasets.remove_columns('Unnamed: 0')\n",
        "tokenizer.decode(tokenized_datasets['train']['input_ids'][0])"
      ],
      "execution_count": 25,
      "outputs": [
        {
          "output_type": "execute_result",
          "data": {
            "application/vnd.google.colaboratory.intrinsic+json": {
              "type": "string"
            },
            "text/plain": [
              "'[CLS] [CLS] [ col ] title [ val ] adventure workshop preschool - 1st grade 8th edition [ col ] manufacturer [ val ] encore [ col ] price [ val ] 19. 99 [SEP] [ col ] title [ val ] encore software 12421 adventure workshop 8 1st - 3rd [ col ] manufacturer [ val ] nan [ col ] price [ val ] 17. 97 [SEP] [PAD] [PAD] [PAD] [PAD] [PAD] [PAD] [PAD] [PAD] [PAD] [PAD] [PAD] [PAD] [PAD] [PAD] [PAD] [PAD] [PAD] [PAD] [PAD] [PAD] [PAD] [PAD] [PAD] [PAD] [PAD] [PAD] [PAD] [PAD] [PAD] [PAD] [PAD] [PAD] [PAD] [PAD] [PAD] [PAD] [PAD] [PAD] [PAD] [PAD] [PAD] [PAD] [PAD] [PAD] [PAD] [PAD] [PAD] [PAD] [PAD] [PAD] [PAD] [PAD] [PAD] [PAD] [PAD] [PAD]'"
            ]
          },
          "metadata": {
            "tags": []
          },
          "execution_count": 25
        }
      ]
    },
    {
      "cell_type": "code",
      "metadata": {
        "id": "OBmPWvjBb3S4"
      },
      "source": [
        "import torch\n",
        "torch.cuda.empty_cache()"
      ],
      "execution_count": 18,
      "outputs": []
    },
    {
      "cell_type": "code",
      "metadata": {
        "colab": {
          "base_uri": "https://localhost:8080/"
        },
        "id": "DgJ7bXw_hNLL",
        "outputId": "40c7d437-3b5f-4cf7-bdff-b13dac0c9a9b"
      },
      "source": [
        "from transformers import AutoModelForSequenceClassification\n",
        "\n",
        "model = AutoModelForSequenceClassification.from_pretrained(\"YituTech/conv-bert-base\", num_labels=2)"
      ],
      "execution_count": 19,
      "outputs": [
        {
          "output_type": "stream",
          "text": [
            "Some weights of ConvBertForSequenceClassification were not initialized from the model checkpoint at YituTech/conv-bert-base and are newly initialized: ['classifier.out_proj.weight', 'classifier.dense.weight', 'classifier.dense.bias', 'classifier.out_proj.bias']\n",
            "You should probably TRAIN this model on a down-stream task to be able to use it for predictions and inference.\n"
          ],
          "name": "stderr"
        }
      ]
    },
    {
      "cell_type": "code",
      "metadata": {
        "id": "JD0p3172QtOv"
      },
      "source": [
        "from transformers import TrainingArguments\n",
        "\n",
        "training_args = TrainingArguments(\"test_trainer\",num_train_epochs=14,per_device_train_batch_size=16)"
      ],
      "execution_count": 21,
      "outputs": []
    },
    {
      "cell_type": "code",
      "metadata": {
        "id": "lCHBcRcbQz1b"
      },
      "source": [
        "from transformers import Trainer\n",
        "\n",
        "trainer = Trainer(\n",
        "    model=model, args=training_args, train_dataset=tokenized_datasets['train'], eval_dataset=tokenized_datasets['test']\n",
        ")"
      ],
      "execution_count": 22,
      "outputs": []
    },
    {
      "cell_type": "code",
      "metadata": {
        "colab": {
          "base_uri": "https://localhost:8080/",
          "height": 1000
        },
        "id": "QVUNIuEFRLZ3",
        "outputId": "16eaeb4f-d891-4121-8f42-ef42c993eae9"
      },
      "source": [
        "trainer.train()"
      ],
      "execution_count": 30,
      "outputs": [
        {
          "output_type": "stream",
          "text": [
            "The following columns in the training set  don't have a corresponding argument in `ConvBertForSequenceClassification.forward` and have been ignored: text_right, text_left, tuples.\n",
            "***** Running training *****\n",
            "  Num examples = 7458\n",
            "  Num Epochs = 14\n",
            "  Instantaneous batch size per device = 16\n",
            "  Total train batch size (w. parallel, distributed & accumulation) = 16\n",
            "  Gradient Accumulation steps = 1\n",
            "  Total optimization steps = 6538\n"
          ],
          "name": "stderr"
        },
        {
          "output_type": "display_data",
          "data": {
            "text/html": [
              "\n",
              "    <div>\n",
              "      \n",
              "      <progress value='6538' max='6538' style='width:300px; height:20px; vertical-align: middle;'></progress>\n",
              "      [6538/6538 31:58, Epoch 14/14]\n",
              "    </div>\n",
              "    <table border=\"1\" class=\"dataframe\">\n",
              "  <thead>\n",
              "    <tr style=\"text-align: left;\">\n",
              "      <th>Step</th>\n",
              "      <th>Training Loss</th>\n",
              "    </tr>\n",
              "  </thead>\n",
              "  <tbody>\n",
              "    <tr>\n",
              "      <td>500</td>\n",
              "      <td>0.252600</td>\n",
              "    </tr>\n",
              "    <tr>\n",
              "      <td>1000</td>\n",
              "      <td>0.123500</td>\n",
              "    </tr>\n",
              "    <tr>\n",
              "      <td>1500</td>\n",
              "      <td>0.087700</td>\n",
              "    </tr>\n",
              "    <tr>\n",
              "      <td>2000</td>\n",
              "      <td>0.068000</td>\n",
              "    </tr>\n",
              "    <tr>\n",
              "      <td>2500</td>\n",
              "      <td>0.056400</td>\n",
              "    </tr>\n",
              "    <tr>\n",
              "      <td>3000</td>\n",
              "      <td>0.042300</td>\n",
              "    </tr>\n",
              "    <tr>\n",
              "      <td>3500</td>\n",
              "      <td>0.026300</td>\n",
              "    </tr>\n",
              "    <tr>\n",
              "      <td>4000</td>\n",
              "      <td>0.027400</td>\n",
              "    </tr>\n",
              "    <tr>\n",
              "      <td>4500</td>\n",
              "      <td>0.013500</td>\n",
              "    </tr>\n",
              "    <tr>\n",
              "      <td>5000</td>\n",
              "      <td>0.010300</td>\n",
              "    </tr>\n",
              "    <tr>\n",
              "      <td>5500</td>\n",
              "      <td>0.006100</td>\n",
              "    </tr>\n",
              "    <tr>\n",
              "      <td>6000</td>\n",
              "      <td>0.003100</td>\n",
              "    </tr>\n",
              "    <tr>\n",
              "      <td>6500</td>\n",
              "      <td>0.004800</td>\n",
              "    </tr>\n",
              "  </tbody>\n",
              "</table><p>"
            ],
            "text/plain": [
              "<IPython.core.display.HTML object>"
            ]
          },
          "metadata": {
            "tags": []
          }
        },
        {
          "output_type": "stream",
          "text": [
            "Saving model checkpoint to test_trainer/checkpoint-500\n",
            "Configuration saved in test_trainer/checkpoint-500/config.json\n",
            "Model weights saved in test_trainer/checkpoint-500/pytorch_model.bin\n",
            "Saving model checkpoint to test_trainer/checkpoint-1000\n",
            "Configuration saved in test_trainer/checkpoint-1000/config.json\n",
            "Model weights saved in test_trainer/checkpoint-1000/pytorch_model.bin\n",
            "Saving model checkpoint to test_trainer/checkpoint-1500\n",
            "Configuration saved in test_trainer/checkpoint-1500/config.json\n",
            "Model weights saved in test_trainer/checkpoint-1500/pytorch_model.bin\n",
            "Saving model checkpoint to test_trainer/checkpoint-2000\n",
            "Configuration saved in test_trainer/checkpoint-2000/config.json\n",
            "Model weights saved in test_trainer/checkpoint-2000/pytorch_model.bin\n",
            "Saving model checkpoint to test_trainer/checkpoint-2500\n",
            "Configuration saved in test_trainer/checkpoint-2500/config.json\n",
            "Model weights saved in test_trainer/checkpoint-2500/pytorch_model.bin\n",
            "Saving model checkpoint to test_trainer/checkpoint-3000\n",
            "Configuration saved in test_trainer/checkpoint-3000/config.json\n",
            "Model weights saved in test_trainer/checkpoint-3000/pytorch_model.bin\n",
            "Saving model checkpoint to test_trainer/checkpoint-3500\n",
            "Configuration saved in test_trainer/checkpoint-3500/config.json\n",
            "Model weights saved in test_trainer/checkpoint-3500/pytorch_model.bin\n",
            "Saving model checkpoint to test_trainer/checkpoint-4000\n",
            "Configuration saved in test_trainer/checkpoint-4000/config.json\n",
            "Model weights saved in test_trainer/checkpoint-4000/pytorch_model.bin\n",
            "Saving model checkpoint to test_trainer/checkpoint-4500\n",
            "Configuration saved in test_trainer/checkpoint-4500/config.json\n",
            "Model weights saved in test_trainer/checkpoint-4500/pytorch_model.bin\n",
            "Saving model checkpoint to test_trainer/checkpoint-5000\n",
            "Configuration saved in test_trainer/checkpoint-5000/config.json\n",
            "Model weights saved in test_trainer/checkpoint-5000/pytorch_model.bin\n",
            "Saving model checkpoint to test_trainer/checkpoint-5500\n",
            "Configuration saved in test_trainer/checkpoint-5500/config.json\n",
            "Model weights saved in test_trainer/checkpoint-5500/pytorch_model.bin\n",
            "Saving model checkpoint to test_trainer/checkpoint-6000\n",
            "Configuration saved in test_trainer/checkpoint-6000/config.json\n",
            "Model weights saved in test_trainer/checkpoint-6000/pytorch_model.bin\n",
            "Saving model checkpoint to test_trainer/checkpoint-6500\n",
            "Configuration saved in test_trainer/checkpoint-6500/config.json\n",
            "Model weights saved in test_trainer/checkpoint-6500/pytorch_model.bin\n",
            "\n",
            "\n",
            "Training completed. Do not forget to share your model on huggingface.co/models =)\n",
            "\n",
            "\n"
          ],
          "name": "stderr"
        },
        {
          "output_type": "execute_result",
          "data": {
            "text/plain": [
              "TrainOutput(global_step=6538, training_loss=0.05522880535963074, metrics={'train_runtime': 1918.8989, 'train_samples_per_second': 54.412, 'train_steps_per_second': 3.407, 'total_flos': 8521835467622400.0, 'train_loss': 0.05522880535963074, 'epoch': 14.0})"
            ]
          },
          "metadata": {
            "tags": []
          },
          "execution_count": 30
        }
      ]
    },
    {
      "cell_type": "code",
      "metadata": {
        "id": "RJpXMTl7YG45",
        "colab": {
          "base_uri": "https://localhost:8080/",
          "height": 66,
          "referenced_widgets": [
            "37cce2dafa0c4aa38534e22134e2a7da",
            "3b35d60a3a0448dfb9ad8bfef63d6bac",
            "5bd01456efd94da380a0c8785d7623b4",
            "46be9c002aed43708208275aeff45372",
            "9c69d0d6022a4721b7359749f4f2e63f",
            "c836ad65d8634dadb8a883fc7fcb5e49",
            "981120129a7343db928b77e336d8e9ec",
            "268954fa33f94e9d9770be5baa62fd1f"
          ]
        },
        "outputId": "ca80cdeb-0707-4063-b2e4-94014ec3f839"
      },
      "source": [
        "import numpy as np\n",
        "from datasets import load_metric\n",
        "\n",
        "metric = load_metric(\"f1\")\n",
        "\n",
        "def compute_metrics(eval_pred):\n",
        "    logits, labels = eval_pred\n",
        "    predictions = np.argmax(logits, axis=-1)\n",
        "    return metric.compute(predictions=predictions, references=labels)"
      ],
      "execution_count": 31,
      "outputs": [
        {
          "output_type": "display_data",
          "data": {
            "application/vnd.jupyter.widget-view+json": {
              "model_id": "37cce2dafa0c4aa38534e22134e2a7da",
              "version_minor": 0,
              "version_major": 2
            },
            "text/plain": [
              "HBox(children=(FloatProgress(value=0.0, description='Downloading', max=1905.0, style=ProgressStyle(description…"
            ]
          },
          "metadata": {
            "tags": []
          }
        },
        {
          "output_type": "stream",
          "text": [
            "\n"
          ],
          "name": "stdout"
        }
      ]
    },
    {
      "cell_type": "code",
      "metadata": {
        "id": "eTNUm3fRYcsD",
        "colab": {
          "base_uri": "https://localhost:8080/",
          "height": 193
        },
        "outputId": "d33082ba-f5b6-4a4d-ccf9-324c0abc4cc6"
      },
      "source": [
        "trainer = Trainer(\n",
        "    model=model,\n",
        "    args=training_args,\n",
        "    train_dataset=tokenized_datasets['train'],\n",
        "    eval_dataset=tokenized_datasets['test'],\n",
        "    compute_metrics=compute_metrics,\n",
        ")\n",
        "trainer.evaluate()"
      ],
      "execution_count": 32,
      "outputs": [
        {
          "output_type": "stream",
          "text": [
            "The following columns in the evaluation set  don't have a corresponding argument in `ConvBertForSequenceClassification.forward` and have been ignored: text_right, text_left, tuples.\n",
            "***** Running Evaluation *****\n",
            "  Num examples = 468\n",
            "  Batch size = 8\n"
          ],
          "name": "stderr"
        },
        {
          "output_type": "display_data",
          "data": {
            "text/html": [
              "\n",
              "    <div>\n",
              "      \n",
              "      <progress value='59' max='59' style='width:300px; height:20px; vertical-align: middle;'></progress>\n",
              "      [59/59 00:02]\n",
              "    </div>\n",
              "    "
            ],
            "text/plain": [
              "<IPython.core.display.HTML object>"
            ]
          },
          "metadata": {
            "tags": []
          }
        },
        {
          "output_type": "execute_result",
          "data": {
            "text/plain": [
              "{'eval_f1': 0.8954545454545455,\n",
              " 'eval_loss': 0.9385485649108887,\n",
              " 'eval_runtime': 3.0199,\n",
              " 'eval_samples_per_second': 154.973,\n",
              " 'eval_steps_per_second': 19.537}"
            ]
          },
          "metadata": {
            "tags": []
          },
          "execution_count": 32
        }
      ]
    },
    {
      "cell_type": "markdown",
      "metadata": {
        "id": "uMOXEhC2iOyX"
      },
      "source": [
        "## abt-BUy dataset"
      ]
    },
    {
      "cell_type": "code",
      "metadata": {
        "id": "3llffB9NTUVA",
        "colab": {
          "base_uri": "https://localhost:8080/",
          "height": 397
        },
        "outputId": "53242118-9e95-49b4-9ef1-6c5485e75277"
      },
      "source": [
        "table_A = pd.read_csv(abt_buy+r'/deep_matcher/tableA.csv')\n",
        "table_B = pd.read_csv(abt_buy+r'/deep_matcher/tableB.csv')\n",
        "AG_train = pd.read_csv(abt_buy+r'/deep_matcher/train.csv')\n",
        "AG_test = pd.read_csv(abt_buy+r'/deep_matcher/test.csv')\n",
        "AG_valid = pd.read_csv(abt_buy+r'/deep_matcher/valid.csv')\n",
        "AG_train, AG_test, AG_valid = merger(table_A,table_B,AG_train,AG_test,AG_valid)\n",
        "AG_train.head()"
      ],
      "execution_count": 10,
      "outputs": [
        {
          "output_type": "stream",
          "text": [
            "/usr/local/lib/python3.7/dist-packages/pandas/core/indexing.py:1715: SettingWithCopyWarning: \n",
            "A value is trying to be set on a copy of a slice from a DataFrame.\n",
            "Try using .loc[row_indexer,col_indexer] = value instead\n",
            "\n",
            "See the caveats in the documentation: https://pandas.pydata.org/pandas-docs/stable/user_guide/indexing.html#returning-a-view-versus-a-copy\n",
            "  isetter(loc, v)\n",
            "/usr/local/lib/python3.7/dist-packages/ipykernel_launcher.py:45: SettingWithCopyWarning: \n",
            "A value is trying to be set on a copy of a slice from a DataFrame.\n",
            "Try using .loc[row_indexer,col_indexer] = value instead\n",
            "\n",
            "See the caveats in the documentation: https://pandas.pydata.org/pandas-docs/stable/user_guide/indexing.html#returning-a-view-versus-a-copy\n"
          ],
          "name": "stderr"
        },
        {
          "output_type": "execute_result",
          "data": {
            "text/html": [
              "<div>\n",
              "<style scoped>\n",
              "    .dataframe tbody tr th:only-of-type {\n",
              "        vertical-align: middle;\n",
              "    }\n",
              "\n",
              "    .dataframe tbody tr th {\n",
              "        vertical-align: top;\n",
              "    }\n",
              "\n",
              "    .dataframe thead th {\n",
              "        text-align: right;\n",
              "    }\n",
              "</style>\n",
              "<table border=\"1\" class=\"dataframe\">\n",
              "  <thead>\n",
              "    <tr style=\"text-align: right;\">\n",
              "      <th></th>\n",
              "      <th>label</th>\n",
              "      <th>text_left</th>\n",
              "      <th>text_right</th>\n",
              "      <th>tuples</th>\n",
              "    </tr>\n",
              "  </thead>\n",
              "  <tbody>\n",
              "    <tr>\n",
              "      <th>0</th>\n",
              "      <td>0</td>\n",
              "      <td>[CLS]  [COL] name [VAL] lg 24 ' lds4821ww sem...</td>\n",
              "      <td>[SEP]  [COL] name [VAL] lg ldf6920bb fully in...</td>\n",
              "      <td>[CLS]  [COL] name [VAL] lg 24 ' lds4821ww sem...</td>\n",
              "    </tr>\n",
              "    <tr>\n",
              "      <th>1</th>\n",
              "      <td>0</td>\n",
              "      <td>[CLS]  [COL] name [VAL] lg 24 ' lds4821bb sem...</td>\n",
              "      <td>[SEP]  [COL] name [VAL] lg ldf6920bb fully in...</td>\n",
              "      <td>[CLS]  [COL] name [VAL] lg 24 ' lds4821bb sem...</td>\n",
              "    </tr>\n",
              "    <tr>\n",
              "      <th>2</th>\n",
              "      <td>1</td>\n",
              "      <td>[CLS]  [COL] name [VAL] lg 24 ' ldf6920bb ful...</td>\n",
              "      <td>[SEP]  [COL] name [VAL] lg ldf6920bb fully in...</td>\n",
              "      <td>[CLS]  [COL] name [VAL] lg 24 ' ldf6920bb ful...</td>\n",
              "    </tr>\n",
              "    <tr>\n",
              "      <th>3</th>\n",
              "      <td>0</td>\n",
              "      <td>[CLS]  [COL] name [VAL] lg 24 ' ldf6920ww ful...</td>\n",
              "      <td>[SEP]  [COL] name [VAL] lg ldf6920bb fully in...</td>\n",
              "      <td>[CLS]  [COL] name [VAL] lg 24 ' ldf6920ww ful...</td>\n",
              "    </tr>\n",
              "    <tr>\n",
              "      <th>4</th>\n",
              "      <td>0</td>\n",
              "      <td>[CLS]  [COL] name [VAL] lg 24 ' ldf6920st ful...</td>\n",
              "      <td>[SEP]  [COL] name [VAL] lg ldf6920bb fully in...</td>\n",
              "      <td>[CLS]  [COL] name [VAL] lg 24 ' ldf6920st ful...</td>\n",
              "    </tr>\n",
              "  </tbody>\n",
              "</table>\n",
              "</div>"
            ],
            "text/plain": [
              "   label  ...                                             tuples\n",
              "0      0  ...   [CLS]  [COL] name [VAL] lg 24 ' lds4821ww sem...\n",
              "1      0  ...   [CLS]  [COL] name [VAL] lg 24 ' lds4821bb sem...\n",
              "2      1  ...   [CLS]  [COL] name [VAL] lg 24 ' ldf6920bb ful...\n",
              "3      0  ...   [CLS]  [COL] name [VAL] lg 24 ' ldf6920ww ful...\n",
              "4      0  ...   [CLS]  [COL] name [VAL] lg 24 ' ldf6920st ful...\n",
              "\n",
              "[5 rows x 4 columns]"
            ]
          },
          "metadata": {
            "tags": []
          },
          "execution_count": 10
        }
      ]
    },
    {
      "cell_type": "code",
      "metadata": {
        "id": "l0avwe15ixVf"
      },
      "source": [
        "AG_train = AG_train.groupby('label')\n",
        "AG_train = AG_train.apply(lambda x: x.sample(AG_train.size().min()).reset_index(drop=True))\n",
        "AG_train = AG_train.sample(frac=1).reset_index(drop=True)\n",
        "AG_test = AG_test.groupby('label')\n",
        "AG_test = AG_test.apply(lambda x: x.sample(AG_test.size().min()).reset_index(drop=True))\n",
        "AG_test = AG_test.sample(frac=1).reset_index(drop=True)\n",
        "AG_valid = AG_valid.groupby('label')\n",
        "AG_valid = AG_valid.apply(lambda x: x.sample(AG_valid.size().min()).reset_index(drop=True))\n",
        "AG_valid = AG_valid.sample(frac=1).reset_index(drop=True)"
      ],
      "execution_count": 40,
      "outputs": []
    },
    {
      "cell_type": "code",
      "metadata": {
        "id": "nD1JewJYh0sI"
      },
      "source": [
        "\n",
        "import os \n",
        "try:\n",
        "  os.mkdir('merged_data/abt_buy/')\n",
        "except FileExistsError:\n",
        "  pass\n",
        "\n",
        "AG_train.to_csv(r'merged_data/abt_buy/train.csv')\n",
        "AG_test.to_csv(r'merged_data/abt_buy/test.csv')\n",
        "AG_valid.to_csv(r'merged_data/abt_buy/valid.csv')\n"
      ],
      "execution_count": 11,
      "outputs": []
    },
    {
      "cell_type": "code",
      "metadata": {
        "colab": {
          "base_uri": "https://localhost:8080/",
          "height": 89,
          "referenced_widgets": [
            "9e386c09338e41cf90e4ac750f87deab",
            "7ff53498df4642a697f397755813e997",
            "48c719144d05445eb8989955096a126d",
            "c48b709837fe42c1b3185c531143c17f",
            "5317ea9c58504f37b58a4f7fdbe18486",
            "b77146c0f1a24154860ec44379dd9c48",
            "f9e9eaebbbc742f2ac1b71ff26a8f893",
            "b19a29a399704572ab1c9ae0af9528c7",
            "c043148c0f614b7a8d22c09b713eed7e",
            "66f01a37ab854ca28078fda9d62cf919",
            "9c0a903a14a54237affbc48cd1c1bf78",
            "06bc61685b11432eace808455fb0e7e6",
            "01b5b56170914941b03f2aa667b18aff",
            "a4295c0709254ef1bb3400f7a983cd64",
            "c23a587c9949494a8bb54759b377dbc1",
            "4e4296991de945cb8cd1933070463aef"
          ]
        },
        "id": "2_51cpB6h3XN",
        "outputId": "93ced0a0-b347-4cea-c7ca-884fcc97ac5b"
      },
      "source": [
        "from datasets import load_dataset\n",
        "raw_datasets = load_dataset('csv',data_files={'train':['merged_data/abt_buy/train.csv','merged_data/abt_buy/valid.csv'],\n",
        "                                              'test':'merged_data/abt_buy/test.csv',\n",
        "                                              })"
      ],
      "execution_count": 12,
      "outputs": [
        {
          "output_type": "stream",
          "text": [
            "Using custom data configuration default-3b296a89a6307398\n"
          ],
          "name": "stderr"
        },
        {
          "output_type": "stream",
          "text": [
            "Downloading and preparing dataset csv/default (download: Unknown size, generated: Unknown size, post-processed: Unknown size, total: Unknown size) to /root/.cache/huggingface/datasets/csv/default-3b296a89a6307398/0.0.0/2dc6629a9ff6b5697d82c25b73731dd440507a69cbce8b425db50b751e8fcfd0...\n"
          ],
          "name": "stdout"
        },
        {
          "output_type": "display_data",
          "data": {
            "application/vnd.jupyter.widget-view+json": {
              "model_id": "9e386c09338e41cf90e4ac750f87deab",
              "version_minor": 0,
              "version_major": 2
            },
            "text/plain": [
              "HBox(children=(FloatProgress(value=1.0, bar_style='info', max=1.0), HTML(value='')))"
            ]
          },
          "metadata": {
            "tags": []
          }
        },
        {
          "output_type": "stream",
          "text": [
            "\r"
          ],
          "name": "stdout"
        },
        {
          "output_type": "display_data",
          "data": {
            "application/vnd.jupyter.widget-view+json": {
              "model_id": "c043148c0f614b7a8d22c09b713eed7e",
              "version_minor": 0,
              "version_major": 2
            },
            "text/plain": [
              "HBox(children=(FloatProgress(value=1.0, bar_style='info', max=1.0), HTML(value='')))"
            ]
          },
          "metadata": {
            "tags": []
          }
        },
        {
          "output_type": "stream",
          "text": [
            "\rDataset csv downloaded and prepared to /root/.cache/huggingface/datasets/csv/default-3b296a89a6307398/0.0.0/2dc6629a9ff6b5697d82c25b73731dd440507a69cbce8b425db50b751e8fcfd0. Subsequent calls will reuse this data.\n"
          ],
          "name": "stdout"
        }
      ]
    },
    {
      "cell_type": "code",
      "metadata": {
        "colab": {
          "base_uri": "https://localhost:8080/",
          "height": 289,
          "referenced_widgets": [
            "8fc2beeda27e4796bf3b9ae0e3a05bcb",
            "d49ced3937fb48b7ad7b247df4f82a8e",
            "ff9f42e40d374d489706b08cd6146f6b",
            "10147cce68b8490d81b0cb2b3b6db770",
            "ccdf6feaf6dd415fa3a3aedd01ade98a",
            "6bbf8f5de5d94f96a4fb620db1796bf2",
            "b6a67059bf004ce885317f1a08426ffd",
            "fb1928bfd98c4d07bb8e85382e00544a",
            "76b93af660874db5b2a244877d049e57",
            "2b972b52f7ad4544aef9d91976c6a001",
            "9676b166b5774ccbb020eed570aae07c",
            "8bd860daf7b84bc0b5507f580e68c4c8",
            "86e8526c4dab4a84846da9afb39f30db",
            "6b4b142fc2cb4379a41f97fbacc4e41f",
            "0534beb5560c444a9dba0174ff6b522d",
            "cc0d0199eb304b1491c185039a748d31"
          ]
        },
        "id": "ANQRHIpZh_Ro",
        "outputId": "65e512e6-6143-499a-a82c-608e65238371"
      },
      "source": [
        "tokenized_datasets = raw_datasets.map(tokenize_function, batched=True)\n",
        "tokenized_datasets = tokenized_datasets.remove_columns('Unnamed: 0')\n",
        "tokenized_datasets"
      ],
      "execution_count": 17,
      "outputs": [
        {
          "output_type": "display_data",
          "data": {
            "application/vnd.jupyter.widget-view+json": {
              "model_id": "8fc2beeda27e4796bf3b9ae0e3a05bcb",
              "version_minor": 0,
              "version_major": 2
            },
            "text/plain": [
              "HBox(children=(FloatProgress(value=0.0, max=31.0), HTML(value='')))"
            ]
          },
          "metadata": {
            "tags": []
          }
        },
        {
          "output_type": "stream",
          "text": [
            "\n"
          ],
          "name": "stdout"
        },
        {
          "output_type": "display_data",
          "data": {
            "application/vnd.jupyter.widget-view+json": {
              "model_id": "76b93af660874db5b2a244877d049e57",
              "version_minor": 0,
              "version_major": 2
            },
            "text/plain": [
              "HBox(children=(FloatProgress(value=0.0, max=2.0), HTML(value='')))"
            ]
          },
          "metadata": {
            "tags": []
          }
        },
        {
          "output_type": "stream",
          "text": [
            "\n"
          ],
          "name": "stdout"
        },
        {
          "output_type": "execute_result",
          "data": {
            "text/plain": [
              "DatasetDict({\n",
              "    train: Dataset({\n",
              "        features: ['attention_mask', 'input_ids', 'label', 'text_left', 'text_right', 'token_type_ids', 'tuples'],\n",
              "        num_rows: 30631\n",
              "    })\n",
              "    test: Dataset({\n",
              "        features: ['attention_mask', 'input_ids', 'label', 'text_left', 'text_right', 'token_type_ids', 'tuples'],\n",
              "        num_rows: 1916\n",
              "    })\n",
              "})"
            ]
          },
          "metadata": {
            "tags": []
          },
          "execution_count": 17
        }
      ]
    },
    {
      "cell_type": "code",
      "metadata": {
        "colab": {
          "base_uri": "https://localhost:8080/"
        },
        "id": "GtnwcuhhiDJs",
        "outputId": "a428abff-6763-452f-9194-16c6981a39c7"
      },
      "source": [
        "torch.cuda.empty_cache()\n",
        "training_args = TrainingArguments(\"/content/drive/MyDrive/XLNet/abt-Buy\",num_train_epochs=14,per_device_train_batch_size=16)"
      ],
      "execution_count": 44,
      "outputs": [
        {
          "output_type": "stream",
          "text": [
            "loading configuration file https://huggingface.co/xlnet-base-cased/resolve/main/config.json from cache at /root/.cache/huggingface/transformers/06bdb0f5882dbb833618c81c3b4c996a0c79422fa2c95ffea3827f92fc2dba6b.da982e2e596ec73828dbae86525a1870e513bd63aae5a2dc773ccc840ac5c346\n",
            "Model config XLNetConfig {\n",
            "  \"architectures\": [\n",
            "    \"XLNetLMHeadModel\"\n",
            "  ],\n",
            "  \"attn_type\": \"bi\",\n",
            "  \"bi_data\": false,\n",
            "  \"bos_token_id\": 1,\n",
            "  \"clamp_len\": -1,\n",
            "  \"d_head\": 64,\n",
            "  \"d_inner\": 3072,\n",
            "  \"d_model\": 768,\n",
            "  \"dropout\": 0.1,\n",
            "  \"end_n_top\": 5,\n",
            "  \"eos_token_id\": 2,\n",
            "  \"ff_activation\": \"gelu\",\n",
            "  \"initializer_range\": 0.02,\n",
            "  \"layer_norm_eps\": 1e-12,\n",
            "  \"mem_len\": null,\n",
            "  \"model_type\": \"xlnet\",\n",
            "  \"n_head\": 12,\n",
            "  \"n_layer\": 12,\n",
            "  \"pad_token_id\": 5,\n",
            "  \"reuse_len\": null,\n",
            "  \"same_length\": false,\n",
            "  \"start_n_top\": 5,\n",
            "  \"summary_activation\": \"tanh\",\n",
            "  \"summary_last_dropout\": 0.1,\n",
            "  \"summary_type\": \"last\",\n",
            "  \"summary_use_proj\": true,\n",
            "  \"task_specific_params\": {\n",
            "    \"text-generation\": {\n",
            "      \"do_sample\": true,\n",
            "      \"max_length\": 250\n",
            "    }\n",
            "  },\n",
            "  \"transformers_version\": \"4.8.2\",\n",
            "  \"untie_r\": true,\n",
            "  \"use_mems_eval\": true,\n",
            "  \"use_mems_train\": false,\n",
            "  \"vocab_size\": 32000\n",
            "}\n",
            "\n",
            "loading weights file https://huggingface.co/xlnet-base-cased/resolve/main/pytorch_model.bin from cache at /root/.cache/huggingface/transformers/9461853998373b0b2f8ef8011a13b62a2c5f540b2c535ef3ea46ed8a062b16a9.3e214f11a50e9e03eb47535b58522fc3cc11ac67c120a9450f6276de151af987\n",
            "Some weights of the model checkpoint at xlnet-base-cased were not used when initializing XLNetForSequenceClassification: ['lm_loss.weight', 'lm_loss.bias']\n",
            "- This IS expected if you are initializing XLNetForSequenceClassification from the checkpoint of a model trained on another task or with another architecture (e.g. initializing a BertForSequenceClassification model from a BertForPreTraining model).\n",
            "- This IS NOT expected if you are initializing XLNetForSequenceClassification from the checkpoint of a model that you expect to be exactly identical (initializing a BertForSequenceClassification model from a BertForSequenceClassification model).\n",
            "Some weights of XLNetForSequenceClassification were not initialized from the model checkpoint at xlnet-base-cased and are newly initialized: ['logits_proj.bias', 'sequence_summary.summary.weight', 'sequence_summary.summary.bias', 'logits_proj.weight']\n",
            "You should probably TRAIN this model on a down-stream task to be able to use it for predictions and inference.\n",
            "PyTorch: setting up devices\n",
            "The default value for the training argument `--report_to` will change in v5 (from all installed integrations to none). In v5, you will need to use `--report_to all` to get the same behavior as now. You should start updating your code and make this info disappear :-).\n"
          ],
          "name": "stderr"
        }
      ]
    },
    {
      "cell_type": "code",
      "metadata": {
        "colab": {
          "base_uri": "https://localhost:8080/",
          "height": 381
        },
        "id": "KY4PN2qEiGET",
        "outputId": "25799d22-2da2-48f5-b2e7-4a8bf1177b3d"
      },
      "source": [
        "tokenizer.decode(tokenized_datasets['train']['input_ids'][1])\n",
        "trainer = Trainer(\n",
        "    model=model, args=training_args, train_dataset=tokenized_datasets['train'], eval_dataset=tokenized_datasets['test']\n",
        ")\n",
        "trainer.train()"
      ],
      "execution_count": null,
      "outputs": [
        {
          "output_type": "stream",
          "text": [
            "The following columns in the training set  don't have a corresponding argument in `ConvBertForSequenceClassification.forward` and have been ignored: text_left, tuples, text_right.\n",
            "***** Running training *****\n",
            "  Num examples = 30631\n",
            "  Num Epochs = 14\n",
            "  Instantaneous batch size per device = 16\n",
            "  Total train batch size (w. parallel, distributed & accumulation) = 16\n",
            "  Gradient Accumulation steps = 1\n",
            "  Total optimization steps = 26810\n"
          ],
          "name": "stderr"
        },
        {
          "output_type": "display_data",
          "data": {
            "text/html": [
              "\n",
              "    <div>\n",
              "      \n",
              "      <progress value='1337' max='26810' style='width:300px; height:20px; vertical-align: middle;'></progress>\n",
              "      [ 1337/26810 06:33 < 2:05:17, 3.39 it/s, Epoch 0.70/14]\n",
              "    </div>\n",
              "    <table border=\"1\" class=\"dataframe\">\n",
              "  <thead>\n",
              "    <tr style=\"text-align: left;\">\n",
              "      <th>Step</th>\n",
              "      <th>Training Loss</th>\n",
              "    </tr>\n",
              "  </thead>\n",
              "  <tbody>\n",
              "    <tr>\n",
              "      <td>500</td>\n",
              "      <td>0.260000</td>\n",
              "    </tr>\n",
              "    <tr>\n",
              "      <td>1000</td>\n",
              "      <td>0.182300</td>\n",
              "    </tr>\n",
              "  </tbody>\n",
              "</table><p>"
            ],
            "text/plain": [
              "<IPython.core.display.HTML object>"
            ]
          },
          "metadata": {
            "tags": []
          }
        },
        {
          "output_type": "stream",
          "text": [
            "Saving model checkpoint to test_trainer/checkpoint-500\n",
            "Configuration saved in test_trainer/checkpoint-500/config.json\n",
            "Model weights saved in test_trainer/checkpoint-500/pytorch_model.bin\n",
            "Saving model checkpoint to test_trainer/checkpoint-1000\n",
            "Configuration saved in test_trainer/checkpoint-1000/config.json\n",
            "Model weights saved in test_trainer/checkpoint-1000/pytorch_model.bin\n"
          ],
          "name": "stderr"
        }
      ]
    },
    {
      "cell_type": "code",
      "metadata": {
        "id": "s1er3VBeiIj8"
      },
      "source": [
        "import numpy as np\n",
        "from datasets import load_metric\n",
        "\n",
        "metric = load_metric(\"f1\")\n",
        "\n",
        "def compute_metrics(eval_pred):\n",
        "    logits, labels = eval_pred\n",
        "    predictions = np.argmax(logits, axis=-1)\n",
        "    return metric.compute(predictions=predictions, references=labels)\n",
        "trainer = Trainer(\n",
        "    model=model,\n",
        "    args=training_args,\n",
        "    train_dataset=tokenized_datasets['train'],\n",
        "    eval_dataset=tokenized_datasets['test'],\n",
        "    compute_metrics=compute_metrics,\n",
        ")\n",
        "trainer.evaluate()\n"
      ],
      "execution_count": null,
      "outputs": []
    },
    {
      "cell_type": "markdown",
      "metadata": {
        "id": "rQSZdyP4i2hQ"
      },
      "source": [
        "## dirty_walmart_amazon"
      ]
    },
    {
      "cell_type": "code",
      "metadata": {
        "id": "TF9SvBZxi7GE"
      },
      "source": [
        "table_A = pd.read_csv(dirty_walmart_amazon+r'/deep_matcher/tableA.csv')\n",
        "table_B = pd.read_csv(dirty_walmart_amazon+r'/deep_matcher/tableB.csv')\n",
        "AG_train = pd.read_csv(dirty_walmart_amazon+r'/deep_matcher/train.csv')\n",
        "AG_test = pd.read_csv(dirty_walmart_amazon+r'/deep_matcher/test.csv')\n",
        "AG_valid = pd.read_csv(dirty_walmart_amazon+r'/deep_matcher/valid.csv')\n",
        "AG_train, AG_test, AG_valid = merger(table_A,table_B,AG_train,AG_test,AG_valid)\n",
        "AG_train.head()"
      ],
      "execution_count": null,
      "outputs": []
    },
    {
      "cell_type": "code",
      "metadata": {
        "id": "CL7Pg7ltjGgL"
      },
      "source": [
        "AG_train = AG_train.groupby('label')\n",
        "AG_train = AG_train.apply(lambda x: x.sample(AG_train.size().min()).reset_index(drop=True))\n",
        "AG_train = AG_train.sample(frac=1).reset_index(drop=True)\n",
        "AG_test = AG_test.groupby('label')\n",
        "AG_test = AG_test.apply(lambda x: x.sample(AG_test.size().min()).reset_index(drop=True))\n",
        "AG_test = AG_test.sample(frac=1).reset_index(drop=True)\n",
        "AG_valid = AG_valid.groupby('label')\n",
        "AG_valid = AG_valid.apply(lambda x: x.sample(AG_valid.size().min()).reset_index(drop=True))\n",
        "AG_valid = AG_valid.sample(frac=1).reset_index(drop=True)"
      ],
      "execution_count": null,
      "outputs": []
    },
    {
      "cell_type": "code",
      "metadata": {
        "id": "S68xm48bjATj"
      },
      "source": [
        "import os \n",
        "try:\n",
        "  os.mkdir('merged_data/dirty_walmart_amazon/')\n",
        "except FileExistsError:\n",
        "  pass\n",
        "\n",
        "AG_train.to_csv(r'merged_data/dirty_walmart_amazon/train.csv')\n",
        "AG_test.to_csv(r'merged_data/dirty_walmart_amazon/test.csv')\n",
        "AG_valid.to_csv(r'merged_data/dirty_walmart_amazon/valid.csv')\n"
      ],
      "execution_count": null,
      "outputs": []
    },
    {
      "cell_type": "code",
      "metadata": {
        "id": "Ew86tFQbjO0g"
      },
      "source": [
        "from datasets import load_dataset\n",
        "raw_datasets = load_dataset('csv',data_files={'train':['merged_data/dirty_walmart_amazon/train.csv','merged_data/dirty_walmart_amazon/valid.csv'],\n",
        "                                              'test':'merged_data/dirty_walmart_amazon/test.csv',\n",
        "                                              })"
      ],
      "execution_count": null,
      "outputs": []
    },
    {
      "cell_type": "code",
      "metadata": {
        "id": "To1Yuwm4jRsW"
      },
      "source": [
        "tokenized_datasets = raw_datasets.map(tokenize_function, batched=True)\n",
        "tokenized_datasets = tokenized_datasets.remove_columns('Unnamed: 0')\n",
        "tokenized_datasets"
      ],
      "execution_count": null,
      "outputs": []
    },
    {
      "cell_type": "code",
      "metadata": {
        "id": "ruEXOZqFjULE"
      },
      "source": [
        "torch.cuda.empty_cache()\n",
        "training_args = TrainingArguments(\"/content/drive/MyDrive/XLNet/dirty_walmart_amazon\",num_train_epochs=14,per_device_train_batch_size=16)"
      ],
      "execution_count": null,
      "outputs": []
    },
    {
      "cell_type": "code",
      "metadata": {
        "id": "rSY180LHjXIr"
      },
      "source": [
        "tokenizer.decode(tokenized_datasets['train']['input_ids'][1])\n",
        "trainer = Trainer(\n",
        "    model=model, args=training_args, train_dataset=tokenized_datasets['train'], eval_dataset=tokenized_datasets['test']\n",
        ")\n",
        "trainer.train()"
      ],
      "execution_count": null,
      "outputs": []
    },
    {
      "cell_type": "code",
      "metadata": {
        "id": "nvhUCzfjjbNt"
      },
      "source": [
        "import numpy as np\n",
        "from datasets import load_metric\n",
        "\n",
        "metric = load_metric(\"f1\")\n",
        "\n",
        "def compute_metrics(eval_pred):\n",
        "    logits, labels = eval_pred\n",
        "    predictions = np.argmax(logits, axis=-1)\n",
        "    return metric.compute(predictions=predictions, references=labels)\n",
        "trainer = Trainer(\n",
        "    model=model,\n",
        "    args=training_args,\n",
        "    train_dataset=tokenized_datasets['train'],\n",
        "    eval_dataset=tokenized_datasets['test'],\n",
        "    compute_metrics=compute_metrics,\n",
        ")\n",
        "trainer.evaluate()"
      ],
      "execution_count": null,
      "outputs": []
    }
  ]
}